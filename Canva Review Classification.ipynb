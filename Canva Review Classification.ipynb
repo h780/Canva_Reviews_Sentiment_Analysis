{
 "cells": [
  {
   "cell_type": "code",
   "execution_count": 1,
   "id": "4634e260",
   "metadata": {},
   "outputs": [],
   "source": [
    "import os\n",
    "import pickle\n",
    "import pandas as pd\n",
    "import seaborn as sns\n",
    "import matplotlib.pyplot as plt\n",
    "from collections import Counter\n",
    "\n",
    "import nltk\n",
    "from nltk.corpus import stopwords\n",
    "from nltk.stem import PorterStemmer, LancasterStemmer\n",
    "from nltk.tokenize import sent_tokenize, word_tokenize, RegexpTokenizer\n",
    "\n",
    "from sklearn.metrics import accuracy_score\n",
    "from sklearn.linear_model import LogisticRegression\n",
    "from sklearn.model_selection import train_test_split\n",
    "from sklearn.feature_extraction.text import CountVectorizer, TfidfVectorizer"
   ]
  },
  {
   "cell_type": "code",
   "execution_count": 2,
   "id": "a0eed6a2",
   "metadata": {},
   "outputs": [
    {
     "name": "stdout",
     "output_type": "stream",
     "text": [
      "showing info https://raw.githubusercontent.com/nltk/nltk_data/gh-pages/index.xml\n"
     ]
    },
    {
     "data": {
      "text/plain": [
       "True"
      ]
     },
     "execution_count": 2,
     "metadata": {},
     "output_type": "execute_result"
    }
   ],
   "source": [
    "import nltk\n",
    "nltk.download()"
   ]
  },
  {
   "cell_type": "markdown",
   "id": "bae39b7f",
   "metadata": {},
   "source": [
    "## Data Exploration "
   ]
  },
  {
   "cell_type": "code",
   "execution_count": 3,
   "id": "8296c8ca",
   "metadata": {},
   "outputs": [],
   "source": [
    "#Loading the excel file\n",
    "data = pd.read_excel(\"Canva_reviews.xlsx\")"
   ]
  },
  {
   "cell_type": "code",
   "execution_count": 4,
   "id": "6715d251",
   "metadata": {},
   "outputs": [
    {
     "data": {
      "text/plain": [
       "(1500, 13)"
      ]
     },
     "execution_count": 4,
     "metadata": {},
     "output_type": "execute_result"
    }
   ],
   "source": [
    "data.shape"
   ]
  },
  {
   "cell_type": "code",
   "execution_count": 5,
   "id": "095eec43",
   "metadata": {
    "scrolled": false
   },
   "outputs": [
    {
     "data": {
      "text/html": [
       "<div>\n",
       "<style scoped>\n",
       "    .dataframe tbody tr th:only-of-type {\n",
       "        vertical-align: middle;\n",
       "    }\n",
       "\n",
       "    .dataframe tbody tr th {\n",
       "        vertical-align: top;\n",
       "    }\n",
       "\n",
       "    .dataframe thead th {\n",
       "        text-align: right;\n",
       "    }\n",
       "</style>\n",
       "<table border=\"1\" class=\"dataframe\">\n",
       "  <thead>\n",
       "    <tr style=\"text-align: right;\">\n",
       "      <th></th>\n",
       "      <th>reviewId</th>\n",
       "      <th>userName</th>\n",
       "      <th>userImage</th>\n",
       "      <th>review</th>\n",
       "      <th>score</th>\n",
       "      <th>thumbsUpCount</th>\n",
       "      <th>reviewCreatedVersion</th>\n",
       "      <th>at</th>\n",
       "      <th>replyContent</th>\n",
       "      <th>repliedAt</th>\n",
       "      <th>Sentiment</th>\n",
       "      <th>Sub Category</th>\n",
       "      <th>Sub Category_test</th>\n",
       "    </tr>\n",
       "  </thead>\n",
       "  <tbody>\n",
       "    <tr>\n",
       "      <th>0</th>\n",
       "      <td>gp:AOqpTOFxf3fttcT5DSvFIn9KPp5FErgH9yC533Fmoxv...</td>\n",
       "      <td>Donna Caritero</td>\n",
       "      <td>https://play-lh.googleusercontent.com/a-/AOh14...</td>\n",
       "      <td>Overall it's really an amazing app. I've been ...</td>\n",
       "      <td>4</td>\n",
       "      <td>528</td>\n",
       "      <td>2.116.0</td>\n",
       "      <td>2021-06-17 07:18:54</td>\n",
       "      <td>Hi Donna. We are sorry that your text or desig...</td>\n",
       "      <td>2021-06-19 21:24:32</td>\n",
       "      <td>Negative</td>\n",
       "      <td>NaN</td>\n",
       "      <td>bug_picture_quality</td>\n",
       "    </tr>\n",
       "    <tr>\n",
       "      <th>1</th>\n",
       "      <td>gp:AOqpTOEq6rNIWLnPV4KFTctWvm0mpGEQljtD6mvy1H-...</td>\n",
       "      <td>Soumi Mukhopadhyay</td>\n",
       "      <td>https://play-lh.googleusercontent.com/a-/AOh14...</td>\n",
       "      <td>Hey! Yes I gave a 5 star rating... coz I belie...</td>\n",
       "      <td>5</td>\n",
       "      <td>351</td>\n",
       "      <td>2.116.0</td>\n",
       "      <td>2021-06-17 19:18:28</td>\n",
       "      <td>NaN</td>\n",
       "      <td>NaT</td>\n",
       "      <td>Positive</td>\n",
       "      <td>extremely_happy</td>\n",
       "      <td>NaN</td>\n",
       "    </tr>\n",
       "    <tr>\n",
       "      <th>2</th>\n",
       "      <td>gp:AOqpTOE86hSyPRHZgYt28Uk5zGe4FZGb1hkmtFDiYJ2...</td>\n",
       "      <td>Theknown _unknown</td>\n",
       "      <td>https://play-lh.googleusercontent.com/a-/AOh14...</td>\n",
       "      <td>Canva used to be a good app! But recently I've...</td>\n",
       "      <td>1</td>\n",
       "      <td>160</td>\n",
       "      <td>2.116.0</td>\n",
       "      <td>2021-06-23 19:13:28</td>\n",
       "      <td>Hi there. We're sorry to hear that you are hav...</td>\n",
       "      <td>2021-06-26 20:20:56</td>\n",
       "      <td>Negative</td>\n",
       "      <td>saving_downloading_issue</td>\n",
       "      <td>bug_saving_files</td>\n",
       "    </tr>\n",
       "  </tbody>\n",
       "</table>\n",
       "</div>"
      ],
      "text/plain": [
       "                                            reviewId            userName  \\\n",
       "0  gp:AOqpTOFxf3fttcT5DSvFIn9KPp5FErgH9yC533Fmoxv...      Donna Caritero   \n",
       "1  gp:AOqpTOEq6rNIWLnPV4KFTctWvm0mpGEQljtD6mvy1H-...  Soumi Mukhopadhyay   \n",
       "2  gp:AOqpTOE86hSyPRHZgYt28Uk5zGe4FZGb1hkmtFDiYJ2...   Theknown _unknown   \n",
       "\n",
       "                                           userImage  \\\n",
       "0  https://play-lh.googleusercontent.com/a-/AOh14...   \n",
       "1  https://play-lh.googleusercontent.com/a-/AOh14...   \n",
       "2  https://play-lh.googleusercontent.com/a-/AOh14...   \n",
       "\n",
       "                                              review  score  thumbsUpCount  \\\n",
       "0  Overall it's really an amazing app. I've been ...      4            528   \n",
       "1  Hey! Yes I gave a 5 star rating... coz I belie...      5            351   \n",
       "2  Canva used to be a good app! But recently I've...      1            160   \n",
       "\n",
       "  reviewCreatedVersion                  at  \\\n",
       "0              2.116.0 2021-06-17 07:18:54   \n",
       "1              2.116.0 2021-06-17 19:18:28   \n",
       "2              2.116.0 2021-06-23 19:13:28   \n",
       "\n",
       "                                        replyContent           repliedAt  \\\n",
       "0  Hi Donna. We are sorry that your text or desig... 2021-06-19 21:24:32   \n",
       "1                                                NaN                 NaT   \n",
       "2  Hi there. We're sorry to hear that you are hav... 2021-06-26 20:20:56   \n",
       "\n",
       "  Sentiment              Sub Category    Sub Category_test  \n",
       "0  Negative                       NaN  bug_picture_quality  \n",
       "1  Positive           extremely_happy                  NaN  \n",
       "2  Negative  saving_downloading_issue     bug_saving_files  "
      ]
     },
     "execution_count": 5,
     "metadata": {},
     "output_type": "execute_result"
    }
   ],
   "source": [
    "data.head(3)"
   ]
  },
  {
   "cell_type": "markdown",
   "id": "aef22de8",
   "metadata": {},
   "source": [
    "<b>Exploring the reviews:</b>"
   ]
  },
  {
   "cell_type": "code",
   "execution_count": 6,
   "id": "028c46ac",
   "metadata": {},
   "outputs": [
    {
     "data": {
      "text/plain": [
       "'Unable to save my work. Nothing works :('"
      ]
     },
     "execution_count": 6,
     "metadata": {},
     "output_type": "execute_result"
    }
   ],
   "source": [
    "data.loc[13, \"review\"]"
   ]
  },
  {
   "cell_type": "code",
   "execution_count": 7,
   "id": "02d3c586",
   "metadata": {},
   "outputs": [
    {
     "data": {
      "text/plain": [
       "'Negative'"
      ]
     },
     "execution_count": 7,
     "metadata": {},
     "output_type": "execute_result"
    }
   ],
   "source": [
    "data.loc[13, \"Sentiment\"]"
   ]
  },
  {
   "cell_type": "markdown",
   "id": "03f69a0a",
   "metadata": {},
   "source": [
    "<b>Bar Plot of the Sentiments:</b>"
   ]
  },
  {
   "cell_type": "code",
   "execution_count": 8,
   "id": "d1eb7e91",
   "metadata": {},
   "outputs": [
    {
     "data": {
      "text/plain": [
       "<function matplotlib.pyplot.show(close=None, block=None)>"
      ]
     },
     "execution_count": 8,
     "metadata": {},
     "output_type": "execute_result"
    },
    {
     "data": {
      "image/png": "[encoded data removed]",
      "text/plain": [
       "<Figure size 432x288 with 1 Axes>"
      ]
     },
     "metadata": {
      "needs_background": "light"
     },
     "output_type": "display_data"
    }
   ],
   "source": [
    "sns.countplot(x = 'Sentiment', data = data)\n",
    "plt.show"
   ]
  },
  {
   "cell_type": "code",
   "execution_count": 9,
   "id": "cd8a4f61",
   "metadata": {},
   "outputs": [
    {
     "data": {
      "text/plain": [
       "Positive    1032\n",
       "Negative     468\n",
       "Name: Sentiment, dtype: int64"
      ]
     },
     "execution_count": 9,
     "metadata": {},
     "output_type": "execute_result"
    }
   ],
   "source": [
    "data[\"Sentiment\"].value_counts()"
   ]
  },
  {
   "cell_type": "markdown",
   "id": "dfae1f6d",
   "metadata": {},
   "source": [
    "This shows that we have 1032 positive reviews as per the sentiments, 468 negative reviews."
   ]
  },
  {
   "cell_type": "markdown",
   "id": "49a4df60",
   "metadata": {},
   "source": [
    "<b> Bar plot of Scores: </b>"
   ]
  },
  {
   "cell_type": "code",
   "execution_count": 10,
   "id": "010b044e",
   "metadata": {},
   "outputs": [
    {
     "data": {
      "text/plain": [
       "<function matplotlib.pyplot.show(close=None, block=None)>"
      ]
     },
     "execution_count": 10,
     "metadata": {},
     "output_type": "execute_result"
    },
    {
     "data": {
      "image/png": "[encoded data removed]",
      "text/plain": [
       "<Figure size 432x288 with 1 Axes>"
      ]
     },
     "metadata": {
      "needs_background": "light"
     },
     "output_type": "display_data"
    }
   ],
   "source": [
    "sns.countplot(x = 'score', data=data)\n",
    "plt.show"
   ]
  },
  {
   "cell_type": "code",
   "execution_count": 11,
   "id": "c669a345",
   "metadata": {},
   "outputs": [
    {
     "data": {
      "text/plain": [
       "5    952\n",
       "4    227\n",
       "1    170\n",
       "3     91\n",
       "2     60\n",
       "Name: score, dtype: int64"
      ]
     },
     "execution_count": 11,
     "metadata": {},
     "output_type": "execute_result"
    }
   ],
   "source": [
    "data[\"score\"].value_counts()"
   ]
  },
  {
   "cell_type": "markdown",
   "id": "c7774e86",
   "metadata": {},
   "source": [
    "We can see that most of the users have rated the application as 5 or 4 star rating. Few have rated it as 1, 2, and 3 star rating."
   ]
  },
  {
   "cell_type": "markdown",
   "id": "5f2bd978",
   "metadata": {},
   "source": [
    "<b>Checking relationship between Score and Sentiment: </b>"
   ]
  },
  {
   "cell_type": "code",
   "execution_count": 12,
   "id": "c9547bd6",
   "metadata": {},
   "outputs": [
    {
     "data": {
      "text/plain": [
       "<function matplotlib.pyplot.show(close=None, block=None)>"
      ]
     },
     "execution_count": 12,
     "metadata": {},
     "output_type": "execute_result"
    },
    {
     "data": {
      "image/png": "[encoded data removed]",
      "text/plain": [
       "<Figure size 432x288 with 1 Axes>"
      ]
     },
     "metadata": {
      "needs_background": "light"
     },
     "output_type": "display_data"
    }
   ],
   "source": [
    "sns.countplot(x = 'score', data=data, hue='Sentiment')\n",
    "plt.show"
   ]
  },
  {
   "cell_type": "markdown",
   "id": "e550c9eb",
   "metadata": {},
   "source": [
    "It is evident from this plot that when people gave one start rating the number of positive reviews are very low and vice versa. Similarly, when people rated the application as 5 star, the number of negative reviews are very low. In the case of 4 star rating, the number of positive and negative reviews are almost the same."
   ]
  },
  {
   "cell_type": "markdown",
   "id": "93a035f5",
   "metadata": {},
   "source": [
    "<b>Finding the relationship between review length and the sentiment: </b>"
   ]
  },
  {
   "cell_type": "markdown",
   "id": "faf1baf0",
   "metadata": {},
   "source": [
    "<b>Finding the length of each review: </b>"
   ]
  },
  {
   "cell_type": "code",
   "execution_count": 13,
   "id": "76677606",
   "metadata": {},
   "outputs": [],
   "source": [
    "data[\"len\"] = data[\"review\"].apply(len)"
   ]
  },
  {
   "cell_type": "code",
   "execution_count": 14,
   "id": "cf87ea4f",
   "metadata": {},
   "outputs": [
    {
     "data": {
      "text/plain": [
       "count    1500.000000\n",
       "mean       86.468667\n",
       "std        55.681355\n",
       "min        20.000000\n",
       "25%        54.000000\n",
       "50%        75.000000\n",
       "75%       102.000000\n",
       "max       498.000000\n",
       "Name: len, dtype: float64"
      ]
     },
     "execution_count": 14,
     "metadata": {},
     "output_type": "execute_result"
    }
   ],
   "source": [
    "data[\"len\"].describe()"
   ]
  },
  {
   "cell_type": "markdown",
   "id": "c2a98de9",
   "metadata": {},
   "source": [
    "<b>Histogram plot of length of review </b>"
   ]
  },
  {
   "cell_type": "code",
   "execution_count": 15,
   "id": "96175a2f",
   "metadata": {},
   "outputs": [
    {
     "data": {
      "text/plain": [
       "<function matplotlib.pyplot.show(close=None, block=None)>"
      ]
     },
     "execution_count": 15,
     "metadata": {},
     "output_type": "execute_result"
    },
    {
     "data": {
      "image/png": "[encoded data removed]",
      "text/plain": [
       "<Figure size 432x288 with 1 Axes>"
      ]
     },
     "metadata": {
      "needs_background": "light"
     },
     "output_type": "display_data"
    }
   ],
   "source": [
    "sns.histplot(data['len'])\n",
    "plt.show"
   ]
  },
  {
   "cell_type": "markdown",
   "id": "0e151243",
   "metadata": {},
   "source": [
    "This plot shows that most of the reviews are around the length of 80 words, and very few around 400-500 words."
   ]
  },
  {
   "cell_type": "markdown",
   "id": "19f2c244",
   "metadata": {},
   "source": [
    "<b>Plotting the length distribution for different types of Sentiments: </b>"
   ]
  },
  {
   "cell_type": "code",
   "execution_count": 16,
   "id": "1afbafab",
   "metadata": {},
   "outputs": [
    {
     "data": {
      "text/plain": [
       "<function matplotlib.pyplot.show(close=None, block=None)>"
      ]
     },
     "execution_count": 16,
     "metadata": {},
     "output_type": "execute_result"
    },
    {
     "data": {
      "image/png": "[encoded data removed]",
      "text/plain": [
       "<Figure size 440.875x360 with 1 Axes>"
      ]
     },
     "metadata": {
      "needs_background": "light"
     },
     "output_type": "display_data"
    }
   ],
   "source": [
    "sns.displot(data = data, x=\"len\", hue=\"Sentiment\", kind=\"kde\", fill=True)\n",
    "plt.show"
   ]
  },
  {
   "cell_type": "markdown",
   "id": "5bbe0048",
   "metadata": {},
   "source": [
    "This plot shows that average length of negative sentiments is slightly higher, but the density of negative sentiments is lower than the postive ones. Postive sentiment curve is little higher, because it has more reviews."
   ]
  },
  {
   "cell_type": "markdown",
   "id": "e413df73",
   "metadata": {},
   "source": [
    "## Tokenization"
   ]
  },
  {
   "cell_type": "markdown",
   "id": "8bc81680",
   "metadata": {},
   "source": [
    "Tokenization means breaking the sentence into tokens. It is essential for breaking down text in natural language processing for enabling improved ease of learning. There are two types if tokenizers, one is sentence tokenizer and other one is word tokenizer. Sentence tokenizer helps us to break the sentence in two seperate sentences. Whereas, word tokenizer helps us to break the sentence in individual words. "
   ]
  },
  {
   "cell_type": "markdown",
   "id": "287273fa",
   "metadata": {},
   "source": [
    "We only need our review and Sentiment column from this data. So, we only use those two."
   ]
  },
  {
   "cell_type": "code",
   "execution_count": 17,
   "id": "58163d9a",
   "metadata": {},
   "outputs": [],
   "source": [
    "data = data[['review', 'Sentiment']]"
   ]
  },
  {
   "cell_type": "code",
   "execution_count": 18,
   "id": "93ad1aa5",
   "metadata": {},
   "outputs": [
    {
     "data": {
      "text/plain": [
       "'Unable to save my work. Nothing works :('"
      ]
     },
     "execution_count": 18,
     "metadata": {},
     "output_type": "execute_result"
    }
   ],
   "source": [
    "data.loc[13, 'review']"
   ]
  },
  {
   "cell_type": "markdown",
   "id": "a6f16993",
   "metadata": {},
   "source": [
    "If we use sentence tokenizer here, it will break this sentence into two parts. "
   ]
  },
  {
   "cell_type": "code",
   "execution_count": 19,
   "id": "e188b453",
   "metadata": {},
   "outputs": [
    {
     "data": {
      "text/plain": [
       "['Unable to save my work.', 'Nothing works :(']"
      ]
     },
     "execution_count": 19,
     "metadata": {},
     "output_type": "execute_result"
    }
   ],
   "source": [
    "sent_tokenize(data.loc[13, 'review'])"
   ]
  },
  {
   "cell_type": "markdown",
   "id": "4fd5a25c",
   "metadata": {},
   "source": [
    "This tokenizer creates a list of sentences"
   ]
  },
  {
   "cell_type": "code",
   "execution_count": 20,
   "id": "214a3cc6",
   "metadata": {},
   "outputs": [
    {
     "data": {
      "text/plain": [
       "'Absolutely amazing and a lifesaver for teachers.'"
      ]
     },
     "execution_count": 20,
     "metadata": {},
     "output_type": "execute_result"
    }
   ],
   "source": [
    "data.loc[1495, \"review\"]"
   ]
  },
  {
   "cell_type": "code",
   "execution_count": 21,
   "id": "564e5bad",
   "metadata": {},
   "outputs": [
    {
     "data": {
      "text/plain": [
       "['Absolutely amazing and a lifesaver for teachers.']"
      ]
     },
     "execution_count": 21,
     "metadata": {},
     "output_type": "execute_result"
    }
   ],
   "source": [
    "sent_tokenize(data.loc[1495, 'review'])"
   ]
  },
  {
   "cell_type": "markdown",
   "id": "541a0925",
   "metadata": {},
   "source": [
    "Above results shows that having a sentence tokenizer will not help us a lot, so we will use a word tokenizer."
   ]
  },
  {
   "cell_type": "code",
   "execution_count": 22,
   "id": "6bf697a6",
   "metadata": {},
   "outputs": [
    {
     "data": {
      "text/plain": [
       "['Unable', 'to', 'save', 'my', 'work', '.', 'Nothing', 'works', ':', '(']"
      ]
     },
     "execution_count": 22,
     "metadata": {},
     "output_type": "execute_result"
    }
   ],
   "source": [
    "word_tokenize(data.loc[13, 'review'])"
   ]
  },
  {
   "cell_type": "code",
   "execution_count": 23,
   "id": "58dd7ef6",
   "metadata": {},
   "outputs": [
    {
     "data": {
      "text/plain": [
       "['Absolutely', 'amazing', 'and', 'a', 'lifesaver', 'for', 'teachers', '.']"
      ]
     },
     "execution_count": 23,
     "metadata": {},
     "output_type": "execute_result"
    }
   ],
   "source": [
    "word_tokenize(data.loc[1495, 'review'])"
   ]
  },
  {
   "cell_type": "markdown",
   "id": "d506ec7b",
   "metadata": {},
   "source": [
    "Everything from the sentence is broken down in different tokens using word_tokenize."
   ]
  },
  {
   "cell_type": "markdown",
   "id": "328c870d",
   "metadata": {},
   "source": [
    "<b> Converting text from uppercase to lowercase</b>"
   ]
  },
  {
   "cell_type": "code",
   "execution_count": 24,
   "id": "f79b8a2f",
   "metadata": {},
   "outputs": [
    {
     "data": {
      "text/plain": [
       "1500"
      ]
     },
     "execution_count": 24,
     "metadata": {},
     "output_type": "execute_result"
    }
   ],
   "source": [
    "reviews = list(data['review'])\n",
    "len(reviews)"
   ]
  },
  {
   "cell_type": "code",
   "execution_count": 25,
   "id": "23064058",
   "metadata": {},
   "outputs": [
    {
     "data": {
      "text/plain": [
       "'Unable to save my work. Nothing works :('"
      ]
     },
     "execution_count": 25,
     "metadata": {},
     "output_type": "execute_result"
    }
   ],
   "source": [
    "reviews[13]"
   ]
  },
  {
   "cell_type": "code",
   "execution_count": 26,
   "id": "59bbd5fc",
   "metadata": {},
   "outputs": [
    {
     "data": {
      "text/plain": [
       "'Absolutely amazing and a lifesaver for teachers.'"
      ]
     },
     "execution_count": 26,
     "metadata": {},
     "output_type": "execute_result"
    }
   ],
   "source": [
    "reviews[1495]"
   ]
  },
  {
   "cell_type": "code",
   "execution_count": 27,
   "id": "c3f205ca",
   "metadata": {},
   "outputs": [
    {
     "data": {
      "text/plain": [
       "'unable to save my work. nothing works :('"
      ]
     },
     "execution_count": 27,
     "metadata": {},
     "output_type": "execute_result"
    }
   ],
   "source": [
    "reviews_lower = [r.lower() for r in reviews] #using list comprehension\n",
    "reviews_lower[13]"
   ]
  },
  {
   "cell_type": "markdown",
   "id": "f45630ec",
   "metadata": {},
   "source": [
    "<b>Tokenizating every single word in the reviews_lower list</b>"
   ]
  },
  {
   "cell_type": "code",
   "execution_count": 28,
   "id": "6fc85b61",
   "metadata": {},
   "outputs": [
    {
     "data": {
      "text/plain": [
       "['unable', 'to', 'save', 'my', 'work', '.', 'nothing', 'works', ':', '(']"
      ]
     },
     "execution_count": 28,
     "metadata": {},
     "output_type": "execute_result"
    }
   ],
   "source": [
    "tokens = [word_tokenize(r) for r in reviews_lower]\n",
    "tokens[13]"
   ]
  },
  {
   "cell_type": "markdown",
   "id": "48da2a20",
   "metadata": {},
   "source": [
    "## Stopwords Removal"
   ]
  },
  {
   "cell_type": "markdown",
   "id": "7ba7c352",
   "metadata": {},
   "source": [
    "Stop words are common words like ‘the’, ‘and’, ‘I’, etc. that are very frequent in text, and so don’t convey insights into the specific topic of a document. We can remove these stop words from the text in a given corpus to clean up the data, and identify words that are more rare and potentially more relevant to what we’re interested in."
   ]
  },
  {
   "cell_type": "code",
   "execution_count": 29,
   "id": "54492e0d",
   "metadata": {},
   "outputs": [
    {
     "name": "stdout",
     "output_type": "stream",
     "text": [
      "[['overall', \"'s\", 'really', 'amazing', 'app', '.', \"'ve\", 'using', 'past', '5', 'years', 'however', 'one', 'issue', 'though', 'wanted', 'get', 'address', 'since', 'think', 'issue', 'lasted', 'many', 'years', '?', 'texts', 'blurred', 'zoom', \"'s\", 'pixelated', '.', 'thought', 'issue', 'occurs', 'mobile', 'apps', 'however', 'also', 'present', 'website', '.', 'please', 'fix', '.', 'still', 'remember', 'time', 'export', 'high', 'definition', 'texts', 'love', 'experience', '.', 'thank', '!'], ['hey', '!', 'yes', 'gave', '5', 'star', 'rating', '...', 'coz', 'believe', 'deserves', '!', 'mostly', 'use', 'desktop', 'version', 'seriously', 'satisfied', 'app', 'android', 'desktop', 'version', '.', 'came', 'thank', 'developers', 'beautiful', 'app', 'facilities', '.', 'literally', 'find', 'almost', 'everything', 'need', 'best', 'part', 'even', 'without', 'premium', 'feature', 'provides', 'us', 'lot', 'many', 'facilities', '.', 'love', '!', 'thank', '..', '!', '❤'], ['canva', 'used', 'good', 'app', '!', 'recently', \"'ve\", 'facing', 'issues', 'saving', 'files', '.', 'want', 'files', 'saved', \"'.png\", \"'\", 'format', ',', 'gets', 'saved', '.jpg', 'format', '!', 'moreover', 'want', 'files', 'saved', 'gets', 'stuck', 'downloading', 'screen', '(', 'called', 'magic', 'happen', ')', \"'ll\", 'getting', '1', 'stars', '.', 'hope', 'fix', 'app', 'soon', '!', 'thank', '.'], [\"'s\", 'brilliant', 'app', ',', 'one', 'problem', ',', \"'m\", 'editing', 'post', 'double', 'tap', 'photo', 'reposition', ',', 'start', 'zoom', 'photo', ',', '8', 'times', '10', 'app', 'crashes', 'restarts', ',', 'lg', 'g5', 'se', ',', 'sometimes', \"'ve\", 'go', 'desktop', 'version', 'pc', 'reposition', 'zoom', 'photo', 'want', 'resume', 'editing', 'back', 'mobile', '.'], ['great', 'app', '.', 'used', 'make', 'bts', 'memes', '.', 'recent', 'update', '...', \"'m\", 'able', 'change', 'font', 'style', '.', 'edit', 'option', 'font', 'missing', '.', 'tried', 'uninstalling', 'installing', 'app', ',', 'still', \"'s\", \"n't\", 'working', '.', 'edit', 'option', 'font', 'appearing', 'rarely', '.', 'previous', 'version', 'far', 'better', '.', 'canva', 'could', 'please', 'work', '!', '💜'], ['app', 'really', 'great', 'given', 'fact', 'first', 'time', 'giving', 'review', 'app', '.', \"'s\", 'great', 'creating', 'logos', 'fliers', 'small', 'companies', 'businesses', 'although', 'gave', '4', 'stars', 'needs', 'data', 'operate', \"'ll\", 'love', 'see', 'newer', 'versions', \"n't\", 'use', 'data', 'use', 'app', '.', 'great', 'job', '!'], ['canva', 'great', 'app', 'basic', 'designs', 'job', 'well', '!', \"'m\", 'rating', '2', 'stars', 'keep', 'taking', 'features', 'away', 'free', 'version', 'putting', 'behind', 'subscription', 'wall', 'rather', 'creating', 'new', 'features', 'adding', 'new', 'fonts', 'graphics', 'premium', '.', 'also', 'feel', 'subscription', 'price', '12.99/mo', 'pretty', 'steep', 'someone', \"n't\", 'using', 'business', 'every', 'single', 'day', 'wants', 'handful', 'fonts', '.'], ['using', 'app', 'last', '2', 'months', '.', 'use', 'making', 'thumbnails', ',', 'banner', 'video', 'watermark', '.', 'thumbnails', 'looking', 'much', 'attractive', 'app', '.', \"'s\", 'many', 'people', 'attract', 'come', 'videos', '.', 'give', '5', 'stars', '.', 'many', 'ads', '.', 'still', 'love', 'app', '.', 'thank', 'making', 'wonderful', 'app', '.', 'thank'], ['superb', 'user', 'interface', '.', 'finish', 'editing', 'first', 'video', '.', 'wondering', 'awesome', 'paid', 'version', '.', 'hope', 'app', 'make', 'product', 'labels', ',', 'put', 'labels', 'mock', 'bottles', 'example', 'like', 'full', 'function', 'adobe', ',', 'kind', 'need', 'skill', 'set', '.', 'prefer', 'easy', 'editing', 'like', 'app', '.', 'thank', 'canva❤️'], ['started', 'trial', 'everything', 'works', 'pretty', 'well', 'decided', 'purchased', 'every', 'month', 'guess', '!', 'every', 'video', 'edited', 'saved', 'never', 'save', 'even', 'many', 'times', 'tried', ',', 'said', 'saved', 'check', 'files', ',', 'never', 'seen', ',', 'pictures', 'caption', 'blurred', '!', 'need', 'screenshoot', 'crop', 'use', 'edited', 'design', '!', 'happen', 'canva', '?', 'waste', 'moneyyyy', '!', '!', '!', '!', '!', '!', 'hope', 'solve', 'problem', '!', 'please'], ['really', 'great', 'editing', 'app', ',', 'around', 'makes', 'great', '.', 'everything', 'need', 'basic', 'editing', '.', 'makes', 'editing', 'easier', 'premade', 'tools', 'stickers', ',', 'designs', ',', 'etc', '.', 'gave', 'four', 'stars', 'slow', 'loads', ',', 'especially', 'starting', 'app', '.', 'pretty', 'stressful', ',', 'really', 'got', 'ta', 'patience', 'waiting', 'stuff', 'load', '.'], ['troubles', 'downloading', 'files', 'recently', ',', 'even', 'cleaning', 'cache', '.', 'stuck', 'downloading', 'page', '(', '``', 'called', 'making', 'magic', 'happens', 'window', \"''\", ')', '.', 'even', 'went', 'extend', 'uninstall', 're-install', 'app', 'still', '.', 'recently', 'problem', 'occurs', ',', 'alright', '.', 'premium', 'user', ',', 'problem', 'still', \"n't\", 'improved', ',', \"'s\", 'disappointing', '.', 'might', 'well', 'discontinue', 'membership', '.'], ['great', 'app', '.', 'although', 'prefer', 'desktop', 'version', '.', 'wish', 'canva', 'option', 'closed', 'captions', 'videos', '.'], ['unable', 'save', 'work', '.', 'nothing', 'works', ':', '('], ['apps', 'really', 'help', 'editing', 'kinds', 'graphics', 'turns', 'arts', 'informatics', '.', 'developer', 'really', 'brilliant', 'able', 'save', 'money', '.', 'apps', 'consist', 'thousands', 'ready', 'use', 'templates', 'user', 'friendly', '!', 'design', 'resumes', 'poster', '.', 'convenient', 'easy', 'use', '.'], ['8', '10', 'times', ',', 'app', 'crashes.another', 'main', 'issue', 'sliding', 'bottom', 'panel', 'editing', 'interface', ',', 'randomly', 'selects', 'icon', '.', 'frustrating', 'bze', 'going', 'transparency', 'tool', ',', 'font', 'size', 'tool', 'automatically', 'selected', 'another', 'issue', 'thumbnail', 'problem', '.', 'ca', \"n't\", 'distinguish', 'particular', 'template', 'bze', 'thumbnail', 'may', 'show', 'image', 'previous', 'work', 'done', 'template'], ['hate', \"n't\", 'desktop', 'version', \"'s\", 'easier', 'anticipated', '.', 'thank', 'complete', 'garbage', ',', 'partial', 'garbage'], ['live', 'canva', 'much', '.', \"'s\", 'first', 'time', 'app', '.', 'far', 'good', '.', 'could', \"n't\", 'find', 'option', 'transparent', 'background', '.', \"n't\", 'work', \"'s\", 'bad', '.', \"'s\", 'great', 'feature', 'desktop', 'version', '.'], [\"n't\", 'open', 'design', 'even', 'let', 'make', 'new', 'one', '.', 'sent', 'video', 'screenshot', 'canva.me/android', '.', 'please', 'look', 'asap', \"'ve\", 'lots', 'projects', 'social', 'media', 'sites', 'client', 'projects', 'freelancing', 'sites', 'pending', '.'], ['really', 'good', 'app', \"'ve\", 'ever', 'used', '.', 'anything', 'want', 'create', 'anywhere', 'without', 'glitches', '.', 'love', 'it👍'], ['nice', 'app', 'add', 'gradient', 'colour', 'option', 'need', 'much', 'lebel', 'design', 'another', 'thing', 'removed', 'zoom', 'option', 'helpful', '!', 'thanks', 'please', '😊'], ['app', 'great', ',', 'tbh', '.', 'recently', ',', 'takes', 'long', 'save', 'image', 'even', 'though', 'connection', \"'s\", 'strong', '.'], ['app', 'going', 'worst', 'worst', 'every', 'update', '.', 'lagging', 'crashing', 'becomes', 'hobby', 'app', '.', 'aften', ',', 'automatically', 'closed', 'working', 'sometimes', 'auto', 're-start', '.', 'also', \"'s\", 'take', 'much', 'time', 'open', '.', 'finally', 'team', 'decide', 'uninstall', 'app', 'use', 'adobe', 'spark', '.', 'however', ',', 'adobe', 'spark', \"n't\", 'enough', 'features', 'performance', 'app', 'better', 'canva', '.'], ['good', 'app', 'keeps', 'saying', 'get', 'pro', 'version', 'takes', 'lot', 'time', 'load', 'asap', 'also', 'glitching', 'alot', 'saying', 'net', 'low', 'please', 'fix'], ['fantastic', 'application', 'photo', 'editing', '👍', '.', 'much', 'happy', 'installation', '.'], ['really', 'really', 'really', 'good', 'app', 'logos', 'thing', 'like', 'much', 'want', 'youtube', 'logos', 'thumbnails', 'anything', 'please', 'install', 'app', 'app', 'good'], ['app', 'good', '!', 'ca', \"n't\", 'believe', \"'d\", 'ever', 'find', 'something', 'good', 'like', '!', 'app', 'perfect', 'beginners', '.', 'well', ',', \"'m\", 'beginner', ',', 'say', 'really', 'perfect', 'one', '!', \"'re\", 'reading', ',', 'install', 'app', 'right', 'away', '!', 'really', 'easy', 'really', 'good', 'really', 'cool', '!'], [\"'ve\", 'using', 'apps', 'awhile', 'paid', 'pro', 'recent', 'update', \"'d\", 'annoying', 'issue', 'sharing', 'mode', '.', 'share', 'file', 'using', 'app', 'save', 'work', 'first', ',', 'go', 'gallery', 'n', 'manually', 'share', 'share', 'button', 'work', '.', 'could', 'u', 'fix', 'prob', '?', \"'ve\", 'months', '.', 'tried', 'log', 'n', 'plus', 'uninstall', 'install', 'still', 'problem'], ['awesome', 'app', ',', 'makes', 'poster/logo', 'making', 'sooo', 'easy', '.', 'thank', 'developers', 'designers', '!', '🥰'], ['always', 'closes', 'try', 'log', 'attempts', 'open', '.', 'first', \"n't\", 'able', 'save', 'photos', 'created', ',', 'installed', 'uninstalled', '.', ',', \"'s\", 'problem', ',', 'could', \"n't\", 'able', 'least', 'log', '.', 'crashed', 'right', 'away', '.'], ['thankful', 'app', '.', 'able', 'design', 'mybloho', 'business', 'card', 'ease', '.', 'looking', 'forward', 'using', 'advertisements', 'social', 'media', '.', 'yay', '!', 'canva', 'helped', 'reach', 'goals', '!', 'thank', '.'], ['like', 'app', '.', 'interesting', 'helpful', 'make', 'different', 'graphics', '..'], ['one', 'best', 'photo', 'creator', 'android', ',', 'easy', 'use', 'get', 'many', 'design', 'template', 'free', '😘'], ['nice', 'app', '....', '100', 'per', 'satisfied', '...', 'recommend', 'everyone', '...', 'better', 'use', 'using', 'website'], ['desined', '8', 'pages', 'design', 'could', \"n't\", 'saved', 'shared', '!', 'happened', '4', 'times', '!', '!'], ['program', 'severe', 'weakness', 'output', 'work', 'saving', 'time', 'takes', 'lot', 'time', '!', '!', '!', '!', '!', '!'], ['great', 'app', 'totally', 'recommend', 'small', 'business', 'owners', 'etc', 'would', 'get', 'like', 'templates', 'resizing', 'options', 'free', 'version', 'plz'], ['wonderful', 'place', 'creative', ',', 'many', 'templates', 'play', '.', 'helpful', 'small', 'businesses'], ['fantastic', 'apps', '.', 'love', '.', 'day', 'day', 'life', 'really', 'cool', 'use', '.', 'professionals', 'benefited', 'properly', 'using', 'app', '.'], ['canva', 'best', 'app', 'service', 'create', 'beautiful', 'high', 'quality', 'designs', '.', 'using', 'years', 'various', 'purposes', 'canva', 'never', 'dissapoonted', '.', 'tool', 'offers', 'level', 'quality', 'simplicity', '.', 'love', '.'], ['good', 'untill', 'ca', \"n't\", 'use', 'app', 'drag', 'image', 'screen', 'glitches', 'want', 'help', 'canva', 'customer', 'service', 'horrible'], ['got', 'kind', 'new', 'glitch', 'app', 'used', 'find', 'mobile', ',', 'ca', \"n't\", 'change', 'font', 'projects', '.', 'incredibly', 'frustrating', 'canva', 'work', 'phone', '.'], [\"'s\", 'nice', 'app.i', 'prefer', 'downloading', 'high', 'quality', \"image's💜\"], ['far', 'mobile', 'design', 'app', ',', \"'m\", 'impressed', 'similarly', 'edit', 'desktop', 'app', 'versions', '.', 'easily', 'make', 'small', 'changes', 'quickly', 'create', 'something', 'new', 'needed', '.', 'pretty', 'intuitive', 'interface', '.', 'really', 'like', 'one', '!'], ['free', 'options', 'decent', '.', \"'m\", 'still', 'playing', 'around', '.', 'update', 'later'], ['easy', 'use', ',', 'many', 'free', 'options', '.'], ['best', 'editing', 'creating', 'logo', ',', 'images', ',', 'videos', '!', 'loving', '.'], ['never', 'knew', 'could', 'design', 'banner', 'phone', '.', 'easy', 'use', '.', 'perfect', 'app', '!'], ['easy', 'use', 'get', 'used', ',', 'lot', 'free', 'options', 'afford', 'subscription', '.'], [\"'m\", 'absolutely', 'loving', 'canva', '.', 'helps', 'make', 'designs', 'indispensability', '.', 'thank', 'you.❤'], ['awesome', 'app', 'people', 'ca', \"n't\", 'afford', 'premium', '.', 'without', 'premium', 'people'], ['reset', 'phone', 'download', 'canva', '.', 'log', 'problems', 'option', 'reset', 'password', '.', 'bad', '!', '!'], ['easy', 'use', '!', 'many', 'free', 'options', 'choose'], ['far', 'liking', 'canva', '.', \"n't\", 'done', 'much', 'personally', 'yet', \"'ve\", 'made', 'things', 'easy', '.', 'know', 'others', 'used', 'canva', 'make', 'something', 'turned', 'great', '.', 'also', 'liked', '.', 'said', 'easy', '.', 'right', 'pro', '.', 'using', 'free', 'options', '.', 'however', 'may', 'look', '``', 'pro', \"''\", 'offer'], ['one', 'among', 'best', 'photo', 'editing', ',', 'graphic', 'designing', ',', 'poster', 'making', 'app', '.', 'whole', 'work', 'depends', 'canva', '.'], [\"'s\", 'really', 'good', 'app', 'editing', 'ca', \"n't\", 'write', 'photos', 'want', 'write', '!', '!'], ['using', 'canvas', 'year', '.', 'logged', 'new', 'phone', '.', 'able', 'add', 'text', '.', \"'s\", 'really', 'annoying', '.', 'please', 'tell', \"'s\", 'wrong', '?'], ['cr/app', 'ever', 'anything', 'besides', 'crash', 'every', 'time', \"'s\", 'opened', '?'], ['great', 'presenting', 'faboulus', 'task', 'less', 'time', '.', 'want', 'get', 'interesting', 'features', 'get', 'ideas', 'work', '😇'], [\"'s\", 'wonderful', 'app', 'easy', 'use', \"'s\", 'local', 'languages', 'options', 'fonts', \"'s\", 'wonderful', 'app'], ['recently', 'update', 'canva', 'app', ',', 'latest', 'update', 'keep', 'reloading', 'keep', 'closing', 'app', '.', 'fix', 'please', '?', 'thank'], ['great', 'app', ',', 'love', 'easy', 'use', '.', 'variety', 'things'], [\"'s\", 'amazing', 'app', 'ofcourse', 'im', 'facing', 'crash', 'app', '.', 'please', 'fix', 'soon', 'deadline', 'reaching', 'soon'], ['good', 'video', 'photo', 'editing', 'app', \"'s\", 'functions', 'much', 'design'], ['great', 'app', '.', 'easy', 'use', 'intresting', 'templates', '.', 'love'], ['perfect', '.', 'suits', '.', 'love', 'much', ',', \"n't\", 'lag', ':', ')'], ['worst', 'ever', '..', 'attracting', 'first', 'everything', 'turns', 'pro', 'items', 'requires', 'payment'], ['download', 'designs', '.', 'havrme', 'tried', 'everything', '.', 'going', '.', 'happening', '?'], ['great', 'app', '!', 'lots', 'free', 'templates'], ['good', 'simple', 'app', 'lots', 'features'], ['good', 'stuff', 'go', ',', 'intuitive', '.', 'best', 'use', 'laptop', 'version', '.'], ['awesome', 'app', ',', 'good', \"'re\", 'business'], ['lot', 'fun', 'use', 'app', 'job', 'also', 'done', 'well.⭐⭐⭐⭐⭐'], ['great', 'app', 'crashed', '.', 'keep', 'restarting', 'frustating', '.', 'unable', 'use', 'app', '.'], ['far', 'good', '.', 'lot', 'free', 'designs', 'simple', 'beginner', 'like', 'use'], ['hi', 'canva', 'dev', 'team', '...', 'love', 'app', 'latest', 'update', 'save', 'designs', '...', \"'m\", 'using', 'android', 'phone', '...', 'used', 'work', 'perfectly', '...', 'pls', 'assist', '.', 'thks', 'mark'], ['love', '.', 'easy', 'style', 'fancy', '.'], ['love', 'app', 'payment', 'minimized', 'platform', 'easier'], ['using', 'app', 'laptop', '3', 'years', ',', 'love', 'app', '.', 'use', 'app', 'every', 'ppt', ',', 'poster', 'others', '.', 'many', 'competitions', 'making', 'videos', 'ppt', \"'s\", 'canva', '.', 'really', 'advice', 'everyone', 'use', 'app', '.', 'kushagra'], ['one', 'best', 'app', 'ever', 'used', '.', 'majority', 'templates', 'free', 'cost', 'thier', 'quality', 'awesome', '.', 'using', 'app', 'nearly', '2', 'months', \"n't\", 'face', 'problem', '.', 'makes', 'work', 'way', 'easy', '.'], ['super', 'amazing', 'app', '!', 'easy', 'use', '.', \"'d\", 'recommend', 'everyday', '!'], ['app', 'cool', 'providing', 'free', 'templates', 'edit', 'makes', 'us', 'writers', 'easier', 'find', 'interest', 'book', 'covers', 'others', ',', 'thanks', 'provider', 'cool', 'app👍🏻'], ['canvas', 'great', 'deal', 'job', 'editing', 'photos', '....', 'love', 'templates', 'offer'], ['might', 'lose', 'work', 'rely', 'much', 'autosave', 'feature', ',', 'like', '.', 'despite', ',', \"'s\", 'useful', 'app', 'tools', 'need', '.'], ['free', 'version', 'paid', 'version', 'category', 'options', 'enable', '!'], ['great', 'app', ',', 'easy', 'use', 'fantastic', 'end', 'result', '.'], ['work', 'disappeared', '.', 'sure', 'whats', 'happening', 'app', 'tragic', 'experience', 'anyone', 'using', 'app', 'design', 'things', '.'], ['one', 'best', 'app', 'make', 'presentation', 'need', 'go', 'anywhere', 'download', 'extra', 'photos', 'add', 'find', 'millions', 'options'], [\"'s\", 'nice', 'app', 'never', 'new', 'could', 'create', 'designs', 'free', 'looking', 'app', 'design', 'definitely', 'try', 'canva'], ['app', 'really', 'amazing', '..', 'love', 'coz', 'gives', 'best', 'templates', 'tools', 'contents'], ['easy', 'use', ',', 'lots', 'great', 'designs'], ['nice', 'app', '...', 'provided', 'templates', 'easy', 'customized', ',', 'adding', 'pictures', 'gallery', ',', 'animating', 'lettering'], ['dig', '!', 'helps', 'make', 'mock', 'ups', 'easily', '.', 'problems', 'far', '.'], ['able', 'register', ',', 'time', 'get', 'error', 'stating', 'technical', 'issue'], ['makes', 'easy', 'post', 'graphics', 'simple', 'animations', 'instagram', '.'], ['canva', 'amazing', 'easy', 'use', '.'], ['absolutely', 'love', 'app', '.', \"'s\", 'go', 'media', 'needs'], ['canva', 'easy', 'use', 'free', 'templates', 'numerous', 'varied', '.', 'thank'], ['good', 'software', 'logo', '.', 'youtube', 'thumbnail', '.', 'posters', '.'], ['easy', 'create', 'poster', '.', 'love', 'app.💓'], ['good', 'app', 'gets', 'confusing', 'sometimes', 'maybe', 'cause', 'first', 'time', 'using', 'overall', 'good'], [\"'s\", 'amazing', 'helped', 'lot', 'making', 'different', 'design', '.......', 'pro', 'subscriber', 'still', 'loves'], ['canva', 'great', 'app', '..', 'would', 'recommend', 'auto', 'save', 'something', 'happen', 'editing', '..', 'know', 'lah', 'photo', 'video', 'stay', 'place', ',', 'peace', 'chill', '..'], ['loved', 'first', 'untill', 'updated', 'version', 'spoiled', 'fun.couldnt', 'open', 'fast', '..', 'app', 'exit', 'whole', 'lot', 'disturbing', 'internet', 'prblms.am', 'disappointed'], ['paying', 'pro', 'subscription', 'monthly', 'allowed', 'use', 'pro', 'features', 'without', 'watermark', '!', 'help', '!'], ['best', 'design', 'platform', '.', 'many', 'awesome', 'free', 'options', '.', 'high', 'quality', '.'], ['even', 'free', 'version', 'make', 'feel', 'like', 'editor'], ['best', 'app', 'editing', 'thumbnails', ',', 'presentation', ',', 'story', ',', 'poster', 'many', 'u', 'must', 'try'], ['best', 'app', 'world', 'making', 'ppt', 'wallpapers', 'every', 'thing', 'else', 'surely', 'try', '.'], ['well', 'app', 'poster', 'editing', '.', 'best', 'thing', 'canva', \"'s\", 'ad', 'free'], ['nice', 'use', '.....', 'use', 'long', 'time', 'hang', 'phone', '...', 'thats', 'giving', '4'], ['really', 'fabulous', 'app', '!', '!', '!', 'app', 'could', 'make', 'really', 'nice', 'profressional', 'thumbnails', 'could', 'edit', 'anything', 'amzingly', 'videos'], ['canva', 'far', 'best', '&', 'quickest', 'way', 'create', 'thumbnail', 'channel', '.', 'really', 'help', 'lot', '.'], ['super', 'application.very', 'easy', 'use', 'without', 'water', 'mark.thank', 'creaters', '.'], ['one', 'best', 'mobile', 'design', 'app', '.', 'easy', 'use', ',', 'plus', 'designing', 'fun', '.'], ['’', 'great', 'application', '.', 'helps', 'make', 'birthday', ',', 'eid', 'mubarak', ',', 'facebook', 'covers', '.....', 'amazing', '.', 'want', 'become', 'design', 'best', '.'], ['best', 'app', 'ever', 'used', 'creating', 'posters', 'flyers'], ['great', 'simple', 'beginners'], ['well', 'app', 'sucks', 'badly', ',', \"'ve\", 'opened', 'app', '2', 'times', 'times', 'shut', 'phone', 'times', '.', \"'m\", 'deleting', \"'d\", 'advise', 'anyone', 'use', ',', 'horrible', '.'], ['app', 'good', 'video', 'editing', 'settings', 'text', 'animation', 'setting', 'app', 'please', 'improve', 'option', 'options', 'want', 'free', 'version'], ['great', 'app', 'need', 'logo', 'like', 'gamer', 'logo', 'want', 'shark', 'something', 'like', \"n't\", 'something', 'like', 'annoying'], ['used', 'use', 'mobile', 'version', 'good', 'update', \"'s\", 'glitchy', 'almost', 'unusable', 'please', 'fix'], ['junk', 'app', '.', 'charges', 'automatically', 'offer', 'refund', '.', 'never', 'considering', 'using', '.', 'defenetley', 'reccomend', '!'], ['good', 'app', 'students', '.', 'edit', 'projects', 'ease', 'choose', 'various', 'designs', '.'], ['easy', 'simple', 'use', 'good', 'app', 'graphic', 'design', 'logo'], [\"'m\", 'still', 'learning', 'use', 'seems', 'simple', 'nice', 'designs'], ['𝙞', '𝙡𝙞𝙠𝙚', '𝙩𝙝𝙞𝙨', '𝙖𝙥𝙥', '....', '𝘪', '𝘰𝘧𝘵𝘦𝘯', '𝘶𝘴𝘦', '𝘪𝘵', '𝘵𝘰', '𝘤𝘳𝘦𝘢𝘵𝘦', '𝘴𝘰𝘮𝘦', '𝘭𝘰𝘨𝘰𝘴', '𝘧𝘰𝘳', '𝘮𝘺𝘴𝘦𝘭𝘧', '𝘢𝘯𝘥', '𝘵𝘩𝘪𝘴', '𝘪𝘴', '𝘵𝘩𝘦', '𝘣𝘦𝘴𝘵', '𝘢𝘱𝘱', '𝘵𝘩𝘢𝘵', '𝘪', '𝘩𝘢𝘥'], ['easy', 'use', '.', 'lovely', 'templates'], ['canva', 'awesome', 'app', '...', 'created', 'tone', 'school', 'projects', '...', 'problem', 'lag', 'bit', '...', 'otherwise', 'love'], ['excellent', 'stuff', '.', 'improve', 'saving', 'system', \"n't\", 'work', 'smoothly'], ['thanks', 'canva', '.', 'professional', 'graphic', 'design', 'software', '.', 'wonderful', 'job', '.'], ['everything', 'great', \"'s\", 'kept', 'buffering', 'downloading', 'video', 'project', ',', 'please', 'fix', 'issue', '.'], ['love', 'app', 'ordered', 'first', 'poster', 'got', 'week', 'using', 'free', 'shipping', 'quality', 'top', 'tier'], ['could', 'make', 'feature', 'delete', 'everything', 'instead', 'clicking', 'one', 'time', '?', 'thanks', 'advance', '.'], ['please', 'solve', '#', 'bug', 'exporting', ',', 'download', 'anything', 'download', 'full', 'album', '.', 'overall', 'good', 'experience', '.'], ['trouble', 'downloading', 'project', 'button', 'grey', 'cant', 'press', 'also', 'try', 'saving', 'projects', 'save', 'button', \"n't\", 'even', 'show', '.'], ['simple', 'use', ',', 'lot', 'options', 'user', 'friendly', ',', 'good', 'app', '!'], ['great', '...', 'ca', \"n't\", 'access', 'pro', 'features', 'country', \"n't\", 'online', 'payment', \"'s\", 'great', 'tool'], ['thank', 'much', 'app', ',', 'find', 'use', 'get', 'things', 'quick', 'professionally', '.'], ['hate', 'new', 'layout', '.', \"'s\", 'stressfull', 'also', 'finds', 'difficult', 'save', 'work', '.'], ['good', 'app', 'designing', 'logos', '.', 'ton', 'options', 'customize', '.'], ['absolutely', 'love', 'app', '.', 'easy', 'use', 'great', 'features', '!', '!', '!'], ['opinion', 'app', 'smooth', 'good', 'working', 'editing', '..', 'reason', 'rated', '4', 'stars', 'try', 'save', 'designs', 'either', 'problem', 'gets', 'stuck', 'last', 'therefore', 'work', 'goes', 'vain', '..', 'know', 'take', 'ss', 'quality', 'ruined', '🙂', 'hope', 'developers', 'fix', \"'s\", 'install', 'app👉👈💜✨'], ['good', 'app', ',', 'videos', 'images', ',', 'everything', 'make', 'surely', 'look', 'like', 'professionally', 'made'], [\"'s\", 'beautiful', 'experience', 'since', 'started', 'using', 'app', '.', 'love', ',', 'since', 'introduced', 'friends', 'colleagues', '.'], ['super', 'ez', 'use', '!', 'wan', 'na', 'create', 'great', 'social', 'media', 'marketing', 'content', 'budget', ',', 'fantastic', 'option', '👍'], ['easy', 'use', 'gr8', 'designes'], ['free', 'template', 'ilove', 'app', 'best', 'logo', 'design'], ['nice', 'app', 'creating', 'many', 'designs', 'makes', 'easy', 'design', '.', 'easy'], ['app', 'bugging', ',', 'im', 'unable', 'edit', 'content', '.', 'since', 'ive', 'updated', '.', 'whats', 'happening', '?'], ['loooooveeee', 'app', '.', 'easy', 'use', 'professional', 'output', '.'], ['downloaded', 'application', \"'s\", 'giving', 'false', 'notice', 'connect', 'mobile', 'network', \"'m\", 'connected', 'internet', '..'], ['able', 'download', 'design', 'videos', '.', 'subscribed', 'pro', 'version', 'think', 'need', 'cancel', 'situation', 'stays', '.'], ['app', 'longer', 'working', ',', 'able', 'use', 'days', '.', 'neither', 'save', 'download', 'finished', 'work', '.....', 'sucks', '!', '!', '!', '!', '!'], ['nice', 'app', '.', 'good', 'creating', 'banner', '.', 'options', 'available', 'make', 'banner', 'beautiful'], ['’', 'helpful', 'app', 'creating', 'beautiful', 'creatures', '...', 'outstanding', '...'], ['love', 'canva', '.', \"'s\", 'game', 'changer', 'us', 'challenged', 'design', '.', 'mostly', 'used', 'portfolios', 'resumes', 'also', 'social', 'media', 'promos'], ['super', 'easy', 'use', '.', 'designs', 'super', 'autênticos', 'e', 'inéditos', '.', 'amo', 'demais', 'esse', 'app'], ['dope', '.', 'good', 'beginners', '.', 'cuz', 'alot', 'free', 'stuff'], ['canva', 'best', 'graphics', 'design', 'app', '!', 'known', 'long', 'time', 'always', 'liked', '👍👍👍'], ['great', 'app', '..', 'complaint', 'ca', \"n't\", 'used', 'offline'], ['everything', 'fine', 'recently', 'l', 'ca', \"n't\", 'download', 'design', ',', 'l', 'updated', 'app', 'still', 'experiencing', 'problem', 'help'], ['good', 'app', 'youtube', 'courier', \"'s\", 'good', 'make', 'thumbnails', 'graphic', 'designing', 'basically', 'photoshop'], ['amazing', 'quick', ',', 'helped', 'immensely', 'social', 'media', 'content', 'marketing', 'content', '.'], ['great', 'interface', '.', 'easy', 'decipher', \"'s\", 'complimentary', '&', 'premium', '.'], ['app', 'wo', \"n't\", 'open', 'anymore', '.', 'keep', 'using', 'google', 'account', 'continues', 'say', 'error', 'end', '.'], ['super', 'love', '.', 'specially', 'fact', 'offer', 'free', 'templates', 'stuff', '.'], ['awesome', 'asortment', 'templates', 'many', 'different', 'things', 'logos', 'adds', 'resumes', '!', 'love', '!'], [\"'s\", 'really', 'amazing', 'app', 'helpful', 'efficient', '.', 'really', 'like', 'app', 'edit', 'anything', 'want', 'save', 'instantly.👍👍👍'], ['useful', ',', 'app', 'indeed', 'everyone', 'making', 'design', 'needs', ',', 'love', '!'], ['terbaik', ',', 'love', 'sooo', 'much', '.', 'muahhh2', '.', 'simple', 'edit', '.', 'lot', 'template', '.'], ['always', 'love', 'canva', '.', 'easy', 'use', 'really', 'prefect', '.'], ['simple', '.', 'lot', 'template', '.', 'helpfull', 'editing', 'app', '.'], ['impressive', 'aap', '!', 'issue', 'downloading', 'print', '!', \"'s\", 'working', '!'], ['cant', 'download', 'presentation', 'made', '?', '?', 'sucks', '.', 'kept', 'saying', ',', 'canva', 'encounter', 'small', 'problem', 'trying', 'download', ',', 'please', '!', 'try', '.'], ['editing', 'page', 'text', 'changes', 'difficult', 'edit', 'text', '?'], ['good', 'give', 'options', 'edit', 'image'], ['best', 'app', 'longing', 'one', 'star', ',', 'first', 'need', 'learn', 'go', '.'], ['easy', 'navigate', '!', '!', 'much', 'fun', 'create', 'invites', 'kid', \"'s\", 'parties💞'], ['productive', 'helpful'], ['incredibly', 'customizable', 'variety'], ['good', 'simple', 'mobile', 'content', 'editing', '..'], ['best', 'app', '.', 'would', 'recommend', 'app', 'everyone', 'want', 'edit', 'business', 'stuff', '.', 'easy', 'use', '.', \"'s\", 'lot', 'good', 'feature', '.'], ['fantastic', 'awesome', 'application', '.', 'really', 'enjoyed', '.'], ['best', 'simple', 'many', 'template', ',', 'useful'], ['old', 'version', 'fast', 'better', 'new', ',', 'low', 'responding', 'update', 'new', 'version'], ['works', 'great', '!', '!', 'great', 'options', 'easy', 'use', '.'], ['helps', 'projects', '.', 'one', 'suggestion', 'make', 'things', 'free', 'would', 'great'], ['really', 'love', 'app', '.', \"'s\", 'easy', 'use', '.', 'helped', 'much💜💜'], ['lots', 'fun', 'options', 'every', 'project', 'skill', 'level'], ['like', 'work', 'canva', '!', 'simple', 'understandable', 'using', '.'], ['update', 'canva', ',', 'ca', \"n't\", 'save', 'video', 'photo', 'edit', '.', '😭😭😭'], ['gaming', 'logo', 'bekar', 'hai', '.', 'meant', 'gaming', 'logo', 'templates', 'useless'], ['application', 'amazing', '.', 'slow', '.'], ['please', 'fix', ',', 'cant', 'save', 'works', 'many', 'times', '.', 'good', 'features', 'would', 'useless', 'cant', 'save'], ['worlds', 'best', 'bad', 'video', 'creating', 'app', '.', 'takes', 'many', 'times', 'export', 'second', 'videos.😠😠😠'], ['ca', \"n't\", 'bold', 'underline', 'text', 'photo', '.', 'click', '``', 'edit', \"''\", 'nothing', 'happens', '.', '😒'], ['design', ',', \"'s\", 'downloading', 'many', 'times', '.'], ['use', 'canva', 'boost', 'business', 'promotions', '.', \"'s\", 'amazing', 'useful', 'apk', 'businesses', 'entrepreneurs', '.'], ['im', 'designer', ',', 'app', 'saving', 'time', 'create', 'design', 'time', 'outside'], ['great', 'flyers', 'promotional', 'material', 'small', 'business', '!'], ['nice', 'app', 'edit', 'logos', ',', 'insta', 'posts', ',', 'etc', '....'], ['super', 'easy', ',', 'super', 'fun', ',', 'super', 'creative', 'subscribe', '!'], ['great', 'app', '.', 'love', 'using', 'album', 'covers', '.'], ['lagging', 'issue', 'really', 'impressed', 'team', \"'s\", 'quick', 'reply', '.', 'thanks', '^_^'], [\"'s\", 'fantastic', 'app', ',', 'first', 'good', '.', 'hope', 'enjoy', 'continually', '.'], ['worst', 'shyt', 'ever', '!', 'slow', 'every', 'way', 'takes', '1/2hour', 'download', 'project'], ['easy', 'frustrating', 'non', 'tech', 'person'], ['waaa', 'interesting', 'picture', 'thank', 'canva', 'helped', 'edit', 'picture', 'thanks', 'give', '5', 'stars🌟🌟🌟🌟🌟', '😊😊😊🥰'], ['easy', 'use', '.', 'love', 'templates', '.'], ['would', 'better', 'flexibility', 'touch', 'click', 'sampling', 'using', 'desktop', 'browser', 'applied', 'application'], ['give', '4', 'stars', 'thing', '[', 'idk', 'call', ']', 'premium', 'needs', 'money', 'overall', 'app', 'good', '.'], ['many', 'bugs.the', 'enter', 'key', \"n't\", 'even', 'take', 'next', 'line', 'ruining', 'posts.please', 'fix', 'bugs', 'minor', 'things'], ['platform', 'use', 'edit', 'youtube', 'thumbnails', '.'], ['love', ',', 'like', ',', 'best', 'graphic', 'editing', 'app', '.'], ['ever', 'best', 'app', 'social', 'media', 'type', 'tolls', 'hust', 'try', 'forget', 'everything'], ['usefull', 'everything', 'like', 'front', 'page', 'instagram', 'story', 'really', 'like', 'app'], ['nice', 'app', ',', 'downloaded', 'tried', 'designed', 'something', 'gives', 'wanted'], [\"'s\", 'nice', 'user-friendly', 'app', 'use', '.'], ['semma', 'super', 'ba', '.', 'nice', 'edit', 'invitation', \"'s\", 'atleast', 'make', '50', 'version', 'due', 'attraction', '.'], ['best', 'simple', 'elegant', 'design'], ['stickers', 'cute', '..', 'variety', 'better'], ['easy', 'use', 'interface', '.', 'great', 'app'], ['awesome', 'create', 'whatever', 'want', '!', 'would', 'love', 'chefs', 'cooking', 'commerical', 'day', 'canva', '!'], ['best', 'app', 'far', 'easy', 'use', '.'], ['awesome', 'app', '.', 'easy', 'use'], ['handy', 'software', 'novice.it', 'easy', 'creating', 'posters', ',', 'video', 'erc'], ['great', 'powerful', 'design', 'tool', '.'], ['amazing', 'app', 'seens', 'starter', 'still', 'getting', 'wt', 'app', '....', 'guidenes', \"'ll\", 'soon', 'learn', 'use', '!', 'hope'], ['fun', 'easy', 'use', '!', 'highly', 'recommended', '💖💖💖'], ['user', 'friendly', '&', 'easy', 'edit'], ['super', 'app', 'hd', 'quotes', ',', 'pictures', ',', 'gifs', ',', 'text', 'awesome', 'canva', 'app👍👍'], ['good', 'app', 'making', 'presentations', ',', 'collages', 'etc', '.'], ['iam', 'unable', 'edit', 'text', 'second', 'page', 'edits.really', 'frustrating', 'plz', 'solve', 'issue', 'soon'], ['good', 'creating', 'channel', 'icons', 'art'], ['good', 'app', ',', 'generally', 'issues', 'found', '!'], ['help', 'full', '.', 'doubt', 'totally', 'usefull.try', '!'], ['good', 'app', ',', 'useful', 'full'], ['help', 'lot', 'good', 'card', 'templates', '.', 'many', 'design', 'edit'], ['great', 'app', 'purpose', '.', 'keep', 'updating', 'effective', 'service'], [\"'m\", 'using', 'app', 'last', '2', 'years', 'never', 'disappointed', 'free', 'stuff', 'like', 'ones', 'pro', 'users', 'love'], ['amazing', 'aap', ',', 'many', 'options', 'create', 'ideas'], ['great', 'help', 'designing', 'photos', ',', 'etc', '.', 'thank', 'u', 'much', '!'], ['easy', 'use', 'perfect', 'practice'], ['good', 'application', ',', 'useful', 'making', 'thumbnail'], ['good', 'application', 'editing', 'creating', 'posts', ',', 'recommended'], ['pictures', 'downloading', 'blurry', '!', '!', '!', '!', '!', 'please', 'fix', 'problem'], ['canva', 'best', 'app', 'illustrations'], ['wo', \"n't\", 'download', 'send', 'others', 'via', 'text', ',', 'email', ',', 'etc'], ['app', 'superb', ',', 'get', 'design', 'way'], ['great', 'app', '.', 'helps', 'heaps', 'school', 'work', '.'], ['easy', 'rich', 'content', 'available', 'everyone', '.'], ['easy', 'use', '!', 'best', 'editing', 'application', \"'ve\", 'ever', '!'], ['amazing', 'app', 'creating', 'personalised', 'ads'], ['good', 'app', 'used', 'youtube', 'many', 'graphics', 'design'], ['awesome', 'beginners', 'experts.love'], ['tbh', ',', 'tried', 'project', 'app', ',', 'works', 'quite', 'well', '!', 'love', '!'], ['amazing', 'app', 'help', 'make', 'youtube', 'channel', 'logo', 'thumbnail'], ['experience', 'using', 'app', 'hard', 'start', 'really', 'enjoyed', 'end', '🤠😌'], ['great', 'editor', '...', 'easy', 'useful', 'app', '...'], ['excellent', 'application', 'social', 'media', 'marketing', 'designs', 'posts'], [\"'s\", 'giving', 'high', 'quality', 'image', 'free'], [\"'s\", 'advanced', 'photo', 'editor', 'app.create', 'every', 'photo', 'genuine', '.'], ['wow', 'app', 'amazing.fun', 'use', 'play', 'around', 'graphics', 'designs'], ['great', 'app', '!', \"'m\", 'happily', 'satisfied', '.'], ['new', 'update', 'wo', \"n't\", 'allow', 'save', 'glitchy', '.'], ['amazing', 'app', 'beginners', 'experienced', 'designers', '+', 'common', 'people', \"'s\", 'also💝'], ['great', 'app', ',', 'love', 'best', 'design', 'app', 'ever', 'used', '.'], ['good', 'application', 'office', 'documentations', '.', 'well', 'organised', 'files', '.', 'thanks'], ['excellent', 'graphics', 'designs'], ['love', 'application', 'much.it', 'motivates', 'edit', 'stuff', 'could', '.'], ['great', 'app', 'every', 'biggner', 'skillful', 'app', 'provides', 'skill', 'based', 'knowledge', 'thanks', '.......'], ['frustrating', '.', 'taking', 'much', 'time', 'saved', '.'], ['sometimes', 'app', \"n't\", 'open', 'even', 'wifi', 'connection', '.'], ['helpful', 'nice', 'presentation', 'poster', 'etc', '..'], ['great', 'app', '!', 'many', 'templates', 'choose', '!'], ['app', \"n't\", 'opening', ',', 'keeps', 'asking', 'check', 'network', 'settings', 'network', 'fine', \"'s\", 'problem', '?'], ['use', 'first', 'friends', 'recommended', 'app', '.', 'said', 'one', 'best', 'app', 'android', '.'], ['amazing', 'app', '!', '!', 'ca', \"n't\", 'wait', 'play', 'more😋', '...', 'lots', 'features', '🥰'], ['nice', 'app', '.', 'may', 'kinds', 'designs', '.'], ['canva', 'good', 'app', 'think', 'allow', 'templates', 'make', 'better', 'app'], ['best', 'app', 'picture', 'editing', 'poster', 'making'], ['nice', 'app', 'lot', 'things', 'want', 'use', 'ca', \"n't\", 'use', 'premium', 'pack'], ['help', 'daily', 'post', 'editing', 'designing', 'task', 'run', 'smoothly', '..', 'love', 'canva', 'making', 'life', 'easier', '.'], [\"'s\", 'need', 'unlimited', 'free', 'user', 'course', 'limitation', 'data', 'used', '.'], ['works', 'slow', 'lot', 'bugs', '.', 'ca', \"n't\", 'guys', 'keep', 'basic', 'editing', 'features', 'offline'], ['helpful', 'app', 'small', 'design', 'creator', 'mobile', '.', 'recommended', '.'], ['good', ',', 'makes', 'editing', 'easier', '.', 'thank'], ['amazing', 'design', 'easy', 'use', 'bravo', 'guys'], ['aa', 'really', 'great', 'app', 'type', 'editing', 'app', 'first', 'suggestion', 'editing'], ['wonderful', 'product', 'unique', 'design', 'options'], ['using', 'app', ',', 'hard', 'give', '5', 'stars', '.', 'really', 'good', 'work', 'guys'], ['soo', 'cool', 'easy', 'use', '.', 'always', 'looking', 'something', 'like', '.', 'one', 'app', 'tones', 'features', '♥️'], ['really', 'amazing', '..', 'bcoz', 'templates', 'features', '..', 'grate'], ['app', 'amazing', '!', 'website', '.', \"'s\", 'creative', 'fun🙂👌'], ['easy', 'use', '..', 'many', 'templates', 'choose'], ['easy', 'use', ',', 'fun', '.', 'wish', 'music', 'options'], ['app', 'keeps', 'taking', 'money', 'account', 'cancelled', '.', 'everytime', 'try', 'request', 'money', 'back', 'app', 'says', 'wo', \"n't\", 'pay', 'back', '.', \"n't\", 'seem', 'legitimate'], ['new', 'update', 'bad', '!', 'app', 'takes', 'forever', 'save', 'designs', '!'], ['ca', \"n't\", 'find', 'elements', 'like', 'smoke', 'logo'], ['best', 'application', 'making', 'logo', 'anything'], ['created', 'logo', 'app', ',', \"'s\", 'amazing', '.', 'fell', 'love', 'first', 'app', '.'], ['features', 'required', 'two', 'editing', 'gets', 'hanged', '.', 'therefore', 'giving', '4', 'stars', '.'], ['app', 'super', 'cool', ',', 'user', 'friendly', '.', \"'s\", 'simply', 'best', 'app', 'go'], ['awesome', 'app.i', \"n't\", 'words', 'explain.nice', 'marvelous', 'app'], ['cool', 'great', 'app', 'learn', 'design'], ['guys', 'great', 'job', '.', 'graphics', 'aspects', 'wow', '.'], ['easy', 'use', 'great', 'designs', 'perfect', 'wanted'], ['superb', 'editing', 'app', '/', 'good', 'quality', '/', 'osm', '😍😍😘'], ['perfect', 'easy', 'use'], ['easy', 'use', 'designs', 'awesome', '.', 'love'], ['easy', 'helpful', 'especially', 'new', 'one', '.'], ['best', 'app', 'editing', '😍', 'give', 'superb', 'options', 'editing', 'free', 'also', '!'], ['new', 'update', 'makes', 'app', 'glitch', 'try', 'work', ')', ')', ')', ':', 'please', 'fix', ',', 'still', 'project'], ['easy', 'use', ',', 'much', 'enough', 'ready', 'templates', '....', 'great'], ['really', 'helpful', 'gave', 'lot', 'options', '!'], ['easy', 'use', 'figure', '.'], ['efficient', 'app', '....', 'helped', 'design', 'lots', 'brochures', 'project', 'work', '.....', 'thank', 'u', 'canva', '!', '!', '!', '!'], ['cool', 'interface', ',', 'lovely', 'templates', ',', 'user', 'friendly'], ['app', 'helpful', 'make', 'stuff', 'including', 'posters', 'posts', 'easier', 'id', 'definetly', 'recommend'], ['great', 'tool', 'designing', 'anything', 'visual', '.'], ['super', 'app', 'youtube', 'thumbnail', 'download', 'gain', 'subscribers', '.', 'excellent', '.'], ['makes', 'design', 'easy', '!', \"'s\", 'definitely', 'worth', '!'], ['facing', 'problem', 'saving', 'photos'], ['everything', 'good', '.', ',', 'pro', 'version', 'expensive'], ['easy', 'use.very', 'useful', 'app', 'android.should', 'better', 'next', 'days', 'providing', 'useful', 'features'], ['app', 'cool', 'plzzzzz', 'fix', 'lagging', 'problem', 'tooks', 'much', 'time', 'load', 'images'], ['apps', 'bigger', ',', 'odinary', 'emojis', 'keyboard', '.', 'diffrences', 'absolutely', 'clearer🙄🙄🙄'], ['wonderful', 'app', '..', \"'m\", 'love', '.', 'anything', 'u', 'wish', '..'], ['better', 'picsart.good', 'experience', '.'], ['1st', 'export', \"n't\", 'even', 'finish', '...', 'said', 'preparing', '10', 'minutes', '.', 'screenshot', 'work', 'keep', 'losing', '.'], ['easy', 'use', '5stars', 'moon', 'plus', 'sun', 'app', '..', 'really', 'love', 'it😁'], ['easy', 'use', 'exceptionally', 'high', 'quality', '.'], ['really', 'good', 'app', '.', 'thumbnail', 'making', 'easy', '.'], ['love', 'templates', 'easy', 'edit', '.'], ['useful', 'finding', 'type', 'app', 'found', 'miss', 'bestfreinds', '😭😭😭😭', '.', 'thats', 'need', '1', 'editing', 'app', 'got', 'thanks', 'app', '..'], ['user', 'friendly', 'professional', 'templates', '.'], ['loveeee', 'thisss', 'appp', ',', 'want', 'find', ',', '♡😍', ',', 'thank', 'made', 'app.😅', 'whatever', 'like', 'app', 'soo', 'much', '.', '😍❤🤍💗'], ['amazing', 'editing', 'app', '!', 'everything', 'love', '!'], ['canva', 'pro', 'member', 'love', 'yo', 'use', '......', 'makes', 'easy', 'design'], [\"n't\", 'like', 'new', 'update', '.', 'layout', 'good', '.', 'please', 'make', 'used', '.'], ['awesome', '..', 'edit', 'smoothly', 'easy', 'way', '.', 'awesome', '.', 'thank', 'canva'], ['easy', 'simple', 'use'], ['good', 'overall', ',', 'hope', 'outline', 'colour', 'text', 'added', '.'], ['uninstalling', 'right', 'away', '...', 'hangs', 'stupidly', '...', 'stupid', 'bug', 'app', '...', 'cant', 'even', 'get', 'one', 'design'], ['super', 'use', 'data', 'throughout', 'graphics', 'designer'], ['one', 'amazing', ',', 'one', 'perfect', 'beginners', 'even', 'expert', 'loved'], ['nice', 'easy', 'design'], ['great', 'app', '!', '!', 'easy', 'editing', 'photo', '...', 'good', 'job'], ['wonderful', 'easy', 'use', 'design', 'tool'], ['editing', 'working', 'properly', 'editing', 'app', 'saved', 'thumbnail', 'please', 'fix'], ['great', 'writing', 'back', 'side', 'business', 'card'], ['paid', 'design', 'money', 'deducted', 'account', 'actual', 'amount', 'yet', \"n't\", 'design', '.', 'people', 'collect', 'money', 'without', 'rendering', 'service', '?', 'also', 'take', 'price', 'products', '.', '?'], ['canva', 'app', 'wo', \"n't\", 'open', '.', 'keeps', 'asking', 'check', 'network', 'connection', '.', 'please', ',', 'something', 'help', '?'], ['app', 'great', '.', 'many', 'tasks', 'solved', '.'], ['one', 'favourite', 'apps', ',', 'user', 'friendly', ',', 'useful', 'kinds', 'projects'], [\"'s\", 'great', 'app', '.', 'use', 'advertising', 'photography', 'business', '.'], ['amazing', 'app', '.', 'easy', 'use', 'templates'], ['would', 'love', 'suggest', 'merge', 'option', 'editing', 'merge', 'one', 'texts', 'one', 'box'], ['easy', 'use', 'great', 'range', 'templates'], ['nice', 'app', ',', 'used', 'canva', 'certificate', 'first', 'time', 'blows', 'mind'], ['nice', 'app', 'making', 'flyer', ',', 'banner', ',', 'etc'], ['good', 'social', 'media', ',', 'limited', 'text', 'features', 'photo', 'shapes'], [\"'s\", 'awesome', 'app', 'canva', 'started', 'freelancing', '.', \"'s\", 'nice', 'app', '.'], ['good', 'app', 'logo', 'design', '.'], ['really', 'useful', 'easy', 'use', 'flyer', 'designing', 'app', '!'], ['easy', 'intuitive', '!', 'awesome', 'templates', '!'], ['worst', '.', 'lots', 'time', 'automatically', 'zoom'], ['best', 'app', 'design', 'every', 'thing', ',', 'facebook', ',', 'instagram', 'post', '&', 'story', 'more👌🏼', 'incredible', 'app😝'], ['wish', 'option', 'reshape', 'pictures', 'eg', '.', 'square', 'circle', 'etc'], ['app', 'bad', ',', 'account', 'use', 'premium', 'account', \"n't\", 'used', 'also', 'log', '!', 'feel', 'bad', '!', 'hate'], ['best', 'app', \"'ve\", 'ever', 'used', 'designing', 'needs', '.', 'need', 'lil', 'working', 'upgrading', 'videos', '.'], [\"'s\", 'easy', 'use', 'easier', 'navigate'], ['downloaded', ',', 'one', 'tell', 'please', ',', 'free', 'cost', 'use', 'type', 'logo', 'versions', '.'], ['helps', 'make', 'designs', 'like', 'pro', '!'], ['easy', 'use', 'pc', 'phone', '!', '!'], [\"n't\", 'issues', 'enjoy', 'using', 'canva', 'business', 'personal', 'events'], ['please', 'make', 'sure', 'image', 'download', 'fast', '...', 'tooo', 'slow', '..', 'worser', '..', 'otherwise', 'app', 'sooo', 'cute', '❤️'], ['think', 'amazing', 'application', 'fact', 'welcome', 'come', 'office', 'get', 'know', 'others', 'much'], ['really', 'super', 'editing', 'app', '.', 'downloaded', 'first', \"n't\", 'know', 'use', 'someday', 'app', 'marvelous'], ['pretty', 'good', 'crop', 'tools', 'pretty', 'hard', 'control'], ['service', 'great', '.', 'great', 'templates', '.'], ['lovely', 'app', \"'s\", 'great', 'business', 'fun'], ['waiting', 'long', 'save', 'result', 'editing', '.', 'please', 'fix', '.'], ['really', 'helpful', 'creators', '.', \"'s\", 'give', 'templates', '.'], ['super', ',', 'creaters', ',', 'forever', 'like', 'friend', 'recommend', 'application', '🤘😎'], ['perfect', 'editing', 'many', 'free', 'templates.😍😍'], ['would', 'great', \"n't\", 'keep', 'forgetting', \"'m\", 'using', 'pro', 'taking', 'away', 'certain', 'options', 'resize', '!', '!', '!'], ['stop', 'stealing', 'money.you', 'charged', 'even', 'cancelled', 'subscription', 'trial', 'ended', 'theres', 'request', 'refund', '?', 'fill', 'form', 'submit', 'bottom', 'valid', '?', 'give', 'back', 'money.im', 'even', 'satisfied', 'app', 'deleted'], ['love', 'app', '..', 'good', 'editing', 'photos', '..', 'free👍'], [\"n't\", 'download', '.', 'without', 'login', 'like', 'google', '&', 'face', 'book', \"'s\", 'working', '.', 'photo', 'editor', 'app', '.', \"'s\", 'asking', 'personal', 'information'], ['amazing', '😍😍', 'app', '.', 'use', 'tube', 'video', 'get', 'manny', 'view', '😁😁'], ['like', 'app', 'adds', 'perfect', 'editing'], ['lots', 'free', 'styles', ',', 'easy', 'use'], ['please', 'tell', 'contact', 'email', '!', 'charged', 'twice', '!', '.', 'unable', 'submit', 'issue', '.', 'kindly', 'help', '!'], ['best', 'fastest', 'tool', 'edit', 'photos', 'fly'], ['app', 'really', 'helps', 'lot', 'creating', 'graphics', '.', 'make', 'minutes'], [\"'s\", 'good', 'line', 'comes', 'presenting', 'slides', 'shows', 'slide', 'numbers', 'disturbed', 'view', 'presentation'], ['thanks', 'amazing', 'app', 'without', ',', 'youtube', 'channel', 'would', \"n't\", 'exist', '😂'], ['really', 'stunning', 'app', 'new', 'initiative', 'company', '.', 'really', 'love'], ['convenient', 'easy', 'use'], ['app', 'really', 'amazing', 'problem', \"'s\", 'taking', 'time', 'pics', 'download'], ['love', 'canva', ',', 'best', 'quick', 'design', 'softwares', 'know', '.'], ['definitely', 'awesome', 'app', 'graphic', 'design', '.'], ['best', 'app', 'ever', 'fan', 'aesthetic', 'edits', 'perfect', 'one', 'love', 'app'], [\"'s\", 'enjoyable', 'app', 'edit', 'videos', 'pictures', '.'], ['apps', 'useful', 'beginners', 'designer'], ['wow', 'nice', 'app', ',', 'good', 'future', ',', 'needs', 'fastness'], ['ca', \"n't\", 'insert', 'images', 'gallery', 'properly'], ['everything', 'want', '.', 'absolutely', 'stunning', 'app', '.', 'welldone', 'canva', 'team'], ['nice', 'app', ',', 'easy', 'use', '.', 'specially', 'beginners'], ['worst', 'ever', 'experienced', '..', 'free', 'tools', \"n't\", 'work', 'like', 'lines', '.'], ['absolutely', 'love', 'canvas', '.', 'changed', 'business.❤❤❤'], ['love', 'app', 'recently', ',', 'downloading', 'work', 'takes', 'slow', 'doesnt', 'work'], ['excellent', 'app', '...', 'wishes', 'thoughts', 'ideas', 'implemented', 'according', 'wish', '...', 'simply', 'superb'], ['love', 'app', '.', 'many', 'templates', 'choosw', '!'], ['great', 'app', ',', 'though', 'lags', 'sometimes', \"'s\", 'great', '.'], ['one', 'best', 'photo', 'types', 'social', 'media', 'logo', 'thumbnail', 'font', 'etc', 'editing', 'number', 'one1', 'application'], ['easy', 'use', 'full', 'interesting', 'editing', 'futures', '.', 'love'], ['use', 'app', '.', 'learning', 'photo', 'video', 'edits', 'future', '.', 'refer', 'app', 'defenatly', 'use'], ['easy', 'use', 'understanding', 'homepage'], ['really', 'good', 'versatile', 'noob', 'friendly'], [\"'ve\", 'looking', ',', 'convenient', '.'], ['cool', 'fantastic', 'app', 'create', 'fun', 'pictures', ',', 'logo', 'etc'], ['good', 'except', '..', 'app', 'running', 'slow', '...', 'except', 'amazing', '....'], [\"'m\", 'able', 'download', 'designs', '..', 'irritating', '..', 'please', 'resolve', 'issue', '.'], ['program', ',', 'great', ',', 'never', 'thought', 'could', 'easily', 'build', 'youtube', '🙏🏻👌🏻'], ['newer', 'version', ',', 'harder', 'save', 'image', 'design'], ['good', 'app', 'graphic', 'design'], [\"'m\", 'satisfied', 'finally', 'found', 'something', \"'s\", 'user', 'friendly', 'easy', 'use', '.', 'truly', 'appreciate', 'thank', '.'], ['one', 'best', 'logo', 'design', 'app', 'u', 'r', 'make', 'ur', 'different', 'types', 'design.its', 'amazing'], ['super', 'app', '.', 'graphics', 'design', 'go', '.'], ['stay', 'feed', 'advertisements', '.', 'advertising', 'wrong', 'places', '.', 'marketing', 'pertained', 'industry', 'whatsoever', '.'], ['great', 'resource', 'innovation', ',', 'favorite', 'app', 'self', 'employed', 'entrepreneur'], ['nice', '.', \"'m\", 'able', 'design', 'ebook', 'without', 'difficulty'], ['hi', '...', 'would', 'like', 'file', 'compliant', '.', 'using', 'canva', 'app', 'quite', 'time', 'small', 'projects', '.', 'really', 'appreciate', 'application', 'free', 'features', '.', 'today', 'design', 'logo', 'supposed', 'make', 'payment', 'small', 'design', 'making', 'payment', '59', 'indian', 'rupees', ',', 'payment', 'successful', 'bank', 'application', 'denied', '.', 'kindly', 'look', 'matter', 'regarding', '.'], ['cool', 'efficient', 'platform', '!', 'easy', 'use', 'even', 'mobile', '.', ':', ')'], ['tried', 'many', 'editing', 'apps', 'best', 'app', 'convinient', 'use', 'made', 'election', 'manifesto', 'beaurifully', 'made'], ['osm', 'app', 'easy', 'make', 'logo', 'design', 'difficult', 'find', 'desire', 'design'], ['fed', 'daily', 'updates', '.', 'month', '.'], ['best', 'app', 'beginners', '.', 'easy', 'use', 'without', 'difficulties', '👌'], ['opening', 'page', 'lets', 'sign', 'since', 'already', 'account', 'tells', 'log', ',', 'theres', 'way', '?', '!'], ['canva', 'best', '....', 'like', 'much', 'lot', 'feature', '.', 'thank', 'canva'], ['nice', 'app', '!', '!', 'hope', 'add', 'free', 'theme', 'use', '😁😁'], ['ooooh', 'love', '.', 'simply', 'love', '.', 'easy', 'use', '.', 'also', 'saves', 'nicely', '.'], ['easy', 'make', 'good', 'minamilistic', 'templates', 'love', 'app'], ['good', 'app', 'takes', 'lot', 'time', 'download', 'image', '.'], ['excellent', '....', 'bit', 'customisation', 'would', 'better'], ['many', 'options', 'things', 'make', 'amazing', 'fonts', '<', '3'], ['auto', 'work', 'without', 'permission', 'auto', 'tap', 'button', 'ca', \"n't\", 'use', 'properly', '😫🙏🙏💓', 'fix', '.'], [\"'s\", 'good', 'app', 'make', 'banner', 'paperwork', 'ur', 'articles', '.'], ['far', \"'s\", 'go', 'app', 'website', 'designing', 'thumbnails', 'great', 'job👏'], ['good', 'subscribe', 'templates', 'available'], ['working', 'accidentally', 'pressed', ',', 'entered', 'work', 'disappeared', '.'], ['super', 'cool', 'easy', ',', 'professional', 'looking'], ['good', 'graphic', 'designer', 'please', 'install', '95', '%', 'free'], ['useful', 'make', 'photos', 'videos', 'wishes', 'occasions'], ['like', '.it', 'easy', 'every', 'thing'], ['perfect', 'good', 'graphic', 'design'], ['easy', 'use.thanks', 'app.recommended', 'edit', 'photos', 'video', '.'], ['ca', \"n't\", 'log', 'please', 'even', 'wify', 'connection', 'excellent', 'said', 'low', 'internet', 'connection', 'duh'], ['love', 'application', '.', 'first', 'time', 'used', 'really', 'good', 'time', '.', 'till', 'still', 'enjoy', 'using', 'app'], ['nice', 'easy', 'use', '.', 'great', 'app', '!'], ['novice', 'trade', 'entire', 'canva', 'package', 'makes', 'feel', 'like', 'already', 'pro', '.'], [\"'ve\", 'using', 'app', '3', 'years', 'issues', 'downloading', 'videos', '!'], ['like', 'it❤', '...', 'easy', 'design', 'platforms', '.'], ['app', 'versatile', 'user', 'friendly', 'app', 'design', 'needs', '.'], ['canva', ',', 'one', 'best', 'graphics', 'design', \"'ve\", 'ever', 'used', '.'], ['best', 'app', 'video', 'editing', ',', 'thanks', 'canva', 'best', 'app', '.', 'using', 'app', 'feal', 'best'], ['like', 'simplicity', 'yet', 'impact', 'gives', ',', 'much', 'thanks', '.'], ['use', 'app', 'without', 'creating', 'account', '!', '!', '!', 'edit', ':', 'allow', 'users', 'access', 'platform', 'without', 'account', \"n't\", 'want', 'one', \"n't\", 'want', 'sych', 'work', '.'], ['awesome', '!', 'app.', ',', 'easiest', 'best', \"'ve\", 'used', '.', 'thank', 'canva', '!'], ['design', 'unable', 'download', 'also', 'updated', 'app', \"n't\", 'work', '.'], ['great', 'app', 'making', 'menus'], ['sucks', 'dowloaded', 'app', 'installed', 'allready', ',', 'becouse', 'laggy', 'quallity', 'sucks', ',', 'guess', 'ill', 'gon', 'na', 'dowload', 'picsart'], ['great', 'app', 'easy', 'use', 'content', 'quality', 'good'], ['cool', 'app', 'beginners', 'design'], ['think', 'canva', 'indeed', 'good', 'go', ',', 'amazed', 'canva'], ['app', 'good.i', 'make', 'different', 'posters', '.'], ['great', 'app', \"n't\", 'pay', '.', 'pay', 'premium', 'version', 'screen', 'popped', 'repeatedly', '.', 'reason', 'templates', 'ended', 'screen', \"n't\", 'chosen', '.', 'going', 'route', 'harass', 'buying', '.', 'uninstalled', 'letting', 'know', 'greedy', 'greedy', 'greedy', '!', '!'], ['always', 'great', 'experience', 'use', 'satisfactory', '...', '!', '!'], ['excellent', 'app', 'downloaded', 'many', 'apps', 'best⭐⭐⭐⭐⭐'], ['nice', 'application', 'graphic', 'designers', '👍'], [\"'s\", 'amazing', 'app', 'work', '..', 'quote', 'writing', '..', 'page', 'cover', '..', \"'s\", 'simply', 'worked', '..', '..', 'ca', \"n't\", 'download', 'video', 'create', '..', 'download', '?', '?', '..'], [\"'ve\", 'using', 'canva', 'long', \"'s\", 'useful', 'tool', '.'], ['nice', 'plz', 'improve', 'better', 'design', 'font', 'size'], ['helpful', 'application', ',', \"'s\", 'feature', 'nice', '😊👍'], ['quite', 'interesting', '.', 'enjoying', 'thrill', 'offers', '.', 'think', \"'s\", 'best', 'far', '.'], ['easy', 'use', ',', 'makes', 'life', 'easier', '!', '!'], ['still', 'learning', 'platform', 'far', 'good', '.'], ['great', 'templates', 'user', 'friendly'], ['easy', 'use', 'works', 'properly.very', 'much', 'satisfying', '.'], ['good', 'accessible', '.'], ['many', 'error', ',', 'ca', \"n't\", 'type', 'text', 'phone'], [\"'s\", 'good', 'easy', 'create', 'poster', 'app.i', 'like', '.'], ['nice', 'app', 'channel', 'logo', 'stuff', 'liked', 'thank', '.'], ['software', 'awesome', ',', 'great', 'tools', 'make', 'work', 'easier'], ['app', 'fantastic', 'one', 'interesting', 'watermark', 'free'], ['using', 'app', 'past', 'days', '..', 'really', 'appreciate', 'effort', 'canva', 'team', '..', 'really', 'made', 'great', 'app', 'designing', 'us'], ['excellent', 'application', 'adverts', 'couldnt', 'better'], ['hello', 'canva', ',', 'ca', \"n't\", 'save', 'project', ',', 'canva', 'slowly', '.'], ['really', 'helpful', 'easy', 'learn', '.'], ['making', 'wedding', 'invataions', 'wedding', 'blog', ',', 'fun', 'educational', '.', 'like', 'alot', 'much', 'fun'], ['free', 'easy', 'handle'], ['import', 'images', 'besides', 'app', 'camera', 'galley', 'option', '.'], ['love', 'app', 'easy', 'create', 'canva', '.'], ['good', 'designing', 'even', 'available', 'templates'], ['love', 'app', '!', '!', 'helpful', 'keeps', 'ur', 'business', 'updating'], ['amazing', 'helpfull', 'app', 'work', 'kind', 'projects', '....', '!', '!', '👌'], ['great', 'app', ',', 'easy', 'use'], ['love', '.', \"'s\", 'helping', 'learn', 'designing', 'everyday', '.'], ['nice', 'beginner', 'graphic', 'design'], ['think', 'best', 'one', 'graphic', 'design'], ['app', 'useful', 'make', 'video', 'youtube', 'many', 'thing', 'easy', 'use'], ['best', 'application', 'editing', 'logos', \"'m\", 'lovin'], ['excellence', 'easy', 'use'], [\"'s\", 'great', 'platform', 'making', 'posters', '.'], ['simply', 'love', 'app', ',', 'easy', 'use'], ['love', 'app', '.', 'hoping', 'free', 'designs', 'made', 'available', '😁'], ['totally', 'paid', 'service', 'ca', \"n't\", 'edit', 'video', 'pack'], ['nice', 'app', 'must', 'try', 'ones', '.', 'excellent', 'editing', 'instagram', '.', 'thanks'], ['links', 'added', 'picture', 'text', 'working', 'shared', 'social', 'platforms', '.', 'whats', 'point', 'adding', '?', '?'], ['great', 'app.so', 'far', 'best', 'design', 'app', '.'], [\"'s\", 'nice', 'app', '.', 'hate', \"'s\", 'speed', '.', 'slow😕', '.'], ['getting', 'frustrated', '.', 'takes', 'forever', 'download', '...'], ['app', 'misses', 'pixellab', '-like', 'shadow', '!'], ['exceptional', 'service', 'instantly', 'really', 'amazing', 'use', '❤❤❤'], ['problems', '.', \"'s\", 'working', 'well', 'thanks'], ['nice', 'still', 'learning', '....', 'trying', 'design', 'cellphone', 'lil', 'tricky'], ['showing', 'error', 'dowlading', 'design', 'video', '.'], ['loooove', 'app', '.', \"'s\", 'great', 'everything', 'instagram-post-related'], ['unbelievable', 'app', '!', 'need', 'extra', 'thing', ',', 'need', 'arabic', 'fonts', 'please', '.'], ['never', 'seen', 'better', 'free', 'software', 'make', 'superb', 'artworks'], ['think', 'many', 'good', 'cantain', 'come', 'prime', 'mamber', 'ship', '😔', 'money', 'make', 'effective', 'attractive', 'thumbnail'], [\"'s\", 'amazing', 'app', 'try', 'amazing', 'edit', 'logos'], ['would', 'rate', 'app', '5', 'stars', \"'s\", 'purchased', 'items', 'lmao', '.'], ['best', 'app', \"'ve\", 'ever', 'seen', '..', 'make', 'videos', 'collages', 'many', 'app', '..', 'luv', 'it💜🥰'], [\"'s\", 'great', 'app', ',', 'easy', 'access'], ['good', 'templatesand', 'overall', 'seems', 'good', 'app'], [\"'s\", 'time', 'get', 'slow', ',', 'otherwise', 'good', 'app', 'really', 'enjoyed'], ['convenient', 'pick', 'construct', '.'], ['app', 'much', 'better', '😃', 'like', 'app', 'youtube', 'video', \"'s\", 'free', 'useful', 'download', 'app', '.'], ['facing', 'problem', 'adding', 'line', 'word', '.'], [\"'s\", 'fantastic', ',', 'design', 'video', 'images', 'perfectly', 'like', 'expert', '.'], ['really', 'good', 'app', 'make', 'thumbnail', 'banners'], ['love', '!', \"'s\", 'easy', 'quick'], ['ca', \"n't\", 'save', 'anything', '.', \"'s\", 'talking', 'long', 'time', 'upload'], ['best', 'blank', 'page', 'youtube', 'banner', 'mean', 'cover'], ['nice', 'channel', ',', 'love', 'easy', 'use'], ['amazing', 'app', 'easy', 'create', 'everything', 'iny', 'mind', '.'], ['well', \"'s\", 'good', 'app', 'everything', '..', 'alot', '.', ':', ')'], ['great', 'app', 'takes', 'forever', 'load', '.', 'user', '2/3', 'years', 'see', 'features', 'templates', 'slowly', 'available', 'free', 'users', '.', 'hope', 'application', \"n't\", 'turn', 'picsart', 'future', '(', 'iykwim', ')', '.'], ['nice', 'easy', 'use', 'app'], ['user', 'friendly', ',', 'even', \"'re\", 'novice', 'technology', '.', 'love', 'canva❤❤❤❤'], ['adding', 'ng', 'text', 'useless', '....', 'recomended', 'download', '.'], ['takes', 'time', 'load', 'bit', 'slow', 'laggy'], ['something', 'recently', 'changed', 'less', 'user-friendly', '.'], ['deceitful', 'app', '!', '!', 'never', 'connect', 'gcash', '(', 'paying', 'account', ')', '!', 'charged', 'dont', 'give', 'damn', 'refund', '!', '!', '!', 'lastly', 'worth', 'app', '!', '!'], ['awesome', '.', 'love', '.', 'easy', 'beautiful', 'use', '.'], ['super', 'easy', 'create', 'superb', 'contents', '!'], ['one', 'best', 'edits', '..', 'done', 'editing', 'apps'], ['useful', 'easy', 'use'], [\"'m\", 'exploring', 'app', \"'m\", 'excited', 'learn', 'app', 'arts', 'designs', '.', '👋'], ['absolutely', 'stunning', 'templates', 'designs'], ['best', 'experience', 'new', 'images', 'entertainment', 'business'], ['need', \"'s\", 'best', \"'s\", 'worst', 'either', 'get', 'alot', 'done', 'app', 'appreciate', \"'s\", 'okay', 'quality', '.'], ['updates', 'every', 'day', '?', 'every', 'day', 'new', 'update', 'makes', 'app', 'work', 'buggy'], ['love', 'app', '....', 'dont', 'like', 'needs', 'internet', '.', '(', 'edit', 'reply', ':', 'oh', 'ok', '!', 'didnt', 'know', \"y'all\", 'needed', 'us', 'wifi', 'order', 'save', 'art', 'work', '!', 'thank', 'responding', 'letting', 'know', 'every', 'game', 'used', 'didnt', 'respond', 'problems', '.', ')'], ['omg', 'canvas', 'best', 'photos', 'feel', 'stylish', '!', '!', '!', '<', '3'], ['really', 'great', 'app', '💸', '💸', 'charge', 'popular', 'logo'], ['good', 'app', 'easy', 'design', '...'], ['best', 'app', 'ever', '....', 'even', 'though', \"'m\", 'artist', 'tried', 'create', 'something', 'small'], ['best', 'cheap', 'app', 'far', 'graphics', 'concerned'], ['creativity', 'result', 'dexterity', 'person', 'gives', 'paucity', 'conceptual', 'thought', 'loyal', 'service', 'human', 'could', 'become', 'noble', 'man', '!'], ['ca', \"n't\", 'seem', 'ad', 'text', 'posters', ',', 'sure'], ['love', 'app', 'allows', 'show', 'artistic', 'skill'], ['app', 'absolutely', 'amazing', 'wide', 'range', 'variety', 'love', '.'], ['many', 'options', 'free', '.', 'great', 'app'], ['love', 'much', '.', 'use', 'work', 'insta', 'account', '.', 'boss', 'happy'], ['easy', 'simple', 'design'], ['aap', 'legit', 'best', 'friend', 'great', 'stress', 'buster', '.', 'helped', 'create', 'many', 'awesome', 'bday', 'videos', 'many', 'great', 'beautiful', 'projects', 'yes', 'app', 'purchases', 'cares', 'free', 'content', 'good', '!', 'thank', 'creators', 'canva', \"'ve\", 'created', 'soulmate', 'app'], ['fantastic', 'good', 'service'], ['awsome', '.', 'helps', 'lot', 'standard', 'edits'], ['best', 'app', 'multitasking', 'easy', 'fast', 'way', '..'], ['best', 'far', 'free', 'trial', 'wish', 'could', 'get', 'pro', '..', 'dont', 'enough', 'budget'], ['awesome', 'app', 'logo', 'banner', 'editing'], [\"'s\", 'good', 'app', 'lots', 'toolkit', 'love', '.'], ['first', 'attempt', 'designing', 'business', 'flyer', 'seamless', '.'], ['love', 'canva', '!', 'improves', 'quality', 'life', 'personally', 'professionally', '!'], ['good', 'limited', 'option', 'use', 'free'], ['amazing', 'design', 'simple', 'way', 'good', 'option'], ['taking', 'forever', 'download', 'resume', '.', 'simple', 'pdf.it', \"'s\", 'already', '10', 'minutes', \"'m\", 'stil', 'waiting.does', 'even', 'download', 'file.please', 'help', 'really', 'need'], ['nice', 'template', 'easy', 'use', '!'], [\"'s\", 'good', 'app', '.', 'like', 'everything', '.', 'try', 'see', 'magic'], ['awesome', 'far', 'many', 'templates', 'choose'], [\"'s\", 'helpful', '.', 'design', 'best'], ['everything', 'app', 'really', 'amazing', '.', 'waiting', 'better', 'updates❤'], ['good', 'app', 'graphics', 'design'], ['excellent', 'app', '.', 'always', 'love', 'use', '.'], ['amzing', 'app', 'lots', 'features', 'enjoyed', 'using', 'canva', '.'], ['wish', 'could', 'little', 'bit', 'cheaper', '...', 'love', 'none', 'less', '❤'], ['realy', 'great', 'app', 'grafic', 'design', 'photo', 'edit', 'much'], [\"'s\", 'best', 'app', 'industry', 'ever', 'seen', '!', 'website', 'graphics', 'site', 'created', 'canva', '.', \"'s\", 'really', 'matchless', 'app', 'highly', 'recommended', '!', 'apprecite', 'canva', \"'s\", 'invaluable', 'work', 'highest', 'quality', 'professionalism', '!'], ['good', 'app', 'designing', 'logo', 'creating'], ['best', 'app', '.', 'saves', 'time', 'money'], ['excellent', 'app', '.', 'working', 'like', 'web', 'app', '.'], ['want', 'cancel', 'subscription', ',', 'google', 'play', 'keeps', 'sending', 'circle', '.', \"'m\", '!'], ['absolutely', 'amazing', ',', 'best', 'app', 'ever', 'seen', '.', 'rating', 'app', '5', 'stars', '🌟'], ['nice', 'making', 'logo', ',', \"'m\", 'giving', '5', 'star'], ['helpful', 'app', 'edit', 'make', 'every', 'thing', '.'], ['takes', 'lot', 'time', 'save', 'designs'], ['good', 'helpful', 'creating', 'design'], ['nice', '.', 'please', 'add', 'language', 'fonts', '.'], ['happy', 'used', 'wonderful', 'application.its', 'easy', 'use'], ['makes', 'happy', 'first', 'presentation', ',', 'thank', 'cooperating', 'feedback', '.', 'god', 'bless', 'always', '.'], ['get', '5', 'stars', 'save', 'device', 'without', 'pro', 'mean', 'u', \"n't\", 'take', 'pro', 'u', 'save', 'hard', 'work'], ['like', 'takes', 'lots', 'time', 'start'], ['sorted', 'image', 'fit', 'onto', 'instagram', 'post', 'like', 'minute', '.', 'awesome'], ['one', 'best', 'apps', 'young', 'professional', 'entrepreneurs', '.'], ['nice', 'app', 'make', 'flyers', 'posters'], ['one', 'best', 'app', 'design', 'shape', 'creativity', '..'], ['best', 'app', 'designing', '⭐⭐⭐⭐⭐🤩🤩', 'like', 'much', '.'], ['easy', 'use', 'effective', '.', 'really', 'nice'], ['great', 'designs', 'even', 'novices', '.'], ['nice', 'app', '.', 'helps', 'make', 'stuff', 'easily', 'without', 'stress'], ['fabulous', 'app', 'problem', 'sometimes', \"n't\", 'load', 'glitch', 'internet', 'connection', 'even', 'whn', 'internet', 'working', 'quiet', 'fast', ',', 'secondly', 'shift', 'network', 'open', 'app', 'shift', 'back', 'network', 'templates', 'load', 'super', 'fast', 'whn', 'trt', 'opening', 'isssue', 'kindly', 'fix', 'problem', '.'], [\"'s\", 'simple', 'yet', 'looks', 'good', '!'], ['design', 'downloading', '.', 'pls', 'fix', '.'], ['good', 'app', '..', 'tried', 'various', 'apps', '.', 'app', 'awesome', '....', 'loved', '....'], ['mobile', 'download', 'quality', 'pants', '!', 'bring', 'back', 'full', 'resolution', '!'], ['great', 'app', '.', 'easy', 'learning', 'curve'], ['includes', 'stuff', 'designer', 'needs', '.'], ['great', 'easy', 'use', '.', 'ao', 'helpfulll'], ['use', 'mainly', 'istagram', 'got', 'good', 'design', 'templates'], ['one', 'amazing', 'app', '.', 'really', 'like', 'app', '.', 'one', 'app', 'feature', '.'], ['easy', 'design', 'beginners'], ['online', 'design', 'app', 'use', '...', 'desktop', '!', '!', 'app', 'convenient', '!', '!'], ['nice', 'application', ',', 'looking', 'similar', 'application', '.'], ['best', 'designing', 'app', \"'ve\", 'come', 'across', '.'], ['canva', 'best', 'app', 'creating', 'awesome', 'designs'], ['love', 'app', '.', 'easy', 'use', 'navigate', '.'], ['great', '👍no', 'doubt', 'feels', 'much', 'laggy', 'phone'], ['unable', 'download', 'resume', 'pdf', '.', 'needs', 'payment'], ['hd', 'logo', 'maker', 'nice', 'fixing'], ['perfect', 'tools', 'graphic', 'designs'], ['sis', 'recommended', 'app', 'like', 'love', 'first', 'sight', '!', 'user', 'friendly', 'cute', '!'], ['reliable', 'app', 'many', 'options', 'great', 'function', 'easy', 'use'], ['nice', 'app', 'pay', \"'s\", 'rate', '3', 'stars'], ['wish', 'easier', 'edit', 'phone', '.', 'guess', 'need', 'tutorials', '🤔'], ['intuitive', 'user', 'friendly'], ['love', 'improvement', 'app💞', 'thank', 'making', 'better', 'better', '.'], ['best', 'place', 'create', 'content', \"'re\", 'beginner', '.'], ['add', 'themes', '..', 'easy', 'work', \"'s\", 'good'], ['awesome', 'editing', 'app', '.', 'really', \"'s\", 'good', 'editing', '.'], ['excellent', 'tool', 'creating', 'designs', 'platforms'], ['poor', 'bad', 'application', 'per', 'experience', '.', 'slow', 'takes', 'big', 'time', 'use', 'app'], ['im', 'using', 'canva', 'pro', 'time', 'saving', 'project', 'image', 'blur'], ['easy', 'use', 'ton', 'cool', 'options'], ['super', 'editing', 'design', 'app'], ['love', 'easy', 'use', 'navigate'], [\"'s\", 'amazing', '!', 'super', 'simple', 'use', 'helpful', '!', ':'], ['new', 'version', 'extremely', 'slow'], ['bit', 'laggy', 'otherwise', 'really', 'good', '.', 'dont', 'anything', 'running', 'background'], ['game', 'changer', '...', 'heard', 'called', '``', 'cheating', \"''\", 'graphic', 'designer', '.'], ['good', 'concept', 'app', 'total', 'garbage', '.', 'cant', 'save', 'poster', 'created', '.'], ['great', 'eco', 'friendly', 'app'], ['good', 'unable', 'change', 'picture', 'background'], ['everything', 'gr8', 'except', 'takes', 'q', 'long', 'time', 'making', 'magic.😂😂'], ['best', 'app', ',', 'everything', 'want', 'finger', 'tip', '.'], ['issues', 'uploading', 'videos', 'using', 'photo', 'effects'], [\"'s\", 'important', 'useful', 'beginners', 'also', 'people'], ['easy', 'use', 'maximum', 'results'], ['easy', 'design', 'even', 'without', 'professional'], ['application', 'really', 'helps', 'develop', 'one', 'subjects', 'teach'], ['amazing', 'easy', 'create', 'video'], ['app', 'awesome', '.', 'easy', 'use', 'love', '😘', '.'], ['love', ',', 'great', 'easy', 'way', 'design', 'business', 'tip', 'finger', '🙏🏾'], ['nice', 'easy', 'make', 'logo'], ['best', 'editing', 'app', ',', 'helps', 'lot', 'making', 'flyers', 'small', 'business'], ['love', 'app', 'much', 'useful', 'love', 'designing', 'perfect', 'love', 'must', 'install', 'really', 'want', 'pro', 'version', 'parents', 'said', 'birthday', 'super', 'excited', 'fun', 'app', 'love', 'hope', 'canva', 'reply', 'love', 'app', '💘', '😻', '💜', '💛', '💚', '🧡'], ['love', 'every', 'single', 'template', 'need', 'ads'], ['great', 'creative', 'outlet', '.', 'perfect', 'diys'], ['easy', 'use', 'also', 'lot', 'options', 'play', '.'], ['love', 'everything', 'app', '.', 'makes', 'job', 'much', 'easier'], ['actually', 'highly', 'recommend', 'types', 'youtubers', 'use', 'app', 'bcuz', 'much', 'better', 'overall', 'rating', 'like', '10', 'stars', 'yes', 'thoughts', 'comments', 'goo', 'want', 'everybody', 'spotted', ',', 'use', 'get', 'slo', 'rating', 'ok', '10', 'stars', 'keep', 'canvas', 'put', 'updates'], ['best', 'graphic', 'design', 'app', 'used', 'far'], ['good', 'app', 'give', '3star', 'bcoz', 'design', 'free', 'mode'], ['superb', 'poster', 'design', 'app', '.'], ['good', 'app', 'logo', 'flyers', 'designing'], ['useful', 'app', 'easy', 'use', '.'], ['helpful', ',', 'useful', '&', 'valuable', 'tool', 'connects', 'many', 'apps', '.'], ['one', 'best', 'apps', 'insta', 'beginners', '...'], [\"'s\", 'really', 'good', 'app', 'beginners', '..'], ['superb', 'app', ',', 'unbelievable', ',', 'one', 'app', 'many', 'applications', ',', 'truly', 'loved'], ['really', 'fun', 'use', ',', 'even', 'without', 'getting', 'premium', 'version'], [\"'s\", 'helpful', 'app', ',', 'like', 'everything', 'app', '.'], ['great', 'app', ',', 'hope', 'adding', 'element', 'shaps', 'creative', '.', 'thanks', 'canva❤️'], ['good', 'format', 'hassle', 'free'], ['highly', 'recommended', 'needs', 'design'], ['canva', 'longer', 'saving', 'publishing', 'designs', '.', 'known', 'issue', '?'], ['first', 'opened', 'app', ',', 'kinda', 'difficult', 'use', ',', 'thanks', '@', 'gracemariyageorge😌😌😊😊', ',', 'made', 'easy', 'nice', 'app', '💓💓💓'], ['great', 'design', 'templates', '.', 'love', 'app', '!'], ['quick', ',', 'easy', ',', 'intuitive'], ['made', 'right', 'choice', 'downloading', 'canva', '.', 'plus', 'soooooo', 'easy', 'operate', '.'], ['great', 'app', 'design', 'anything'], ['unable', 'schedule', 'pins', 'past', 'days'], ['one', 'best', 'apps', 'editing', '.', 'highly', 'preferred', '.'], ['alot', 'bugs', 'update', ',', 'pls', 'fix'], ['brilliant', 'app', 'thumbnails', 'youtube', 'apps', '......', 'liked', 'app', '.......'], ['best', 'designing', 'app', 'liked', 'app', 'created', 'professional', 'like', 'thumbnail', 'attractive', 'best', 'many', 'designed'], [\"'s\", 'good', 'app', 'others', 'download', ',', 'ads', '.', '🤗'], ['amazing', 'highly', 'recommend', 'affordable', 'professional', 'app'], ['love', 'app', '😍', 'user', 'interface', \"'s\", 'accessibilities', 'nice', '😍'], ['easy', 'to.use', '.', 'great', 'options', '.', 'fresh', 'style', '.'], ['excellent', 'app', 'students', '..'], ['best', 'app', 'creating', 'flyers', 'logos', '.'], ['best', 'graphics', 'maker', 'app', 'forever', 'ever', 'deserves', '7stars'], ['easy', 'edit', 'thing', 'properly', 'im', 'glad', 'using', 'app'], ['great', '.', 'little', 'tricky', 'phone', 'use', 'getting', 'used'], ['love', 'designs', 'may', 'free', '!', 'thanks', 'canva', 'team', '!'], ['great', 'app', '!', '!', 'make', 'everyyyyyything', 'app', '..'], ['love', ',', \"'s\", 'helpful', ',', 'especially', 'wattpad', '❤'], ['interesting', 'app', '.', 'ask', 'use', 'create', 'day'], [\"'s\", 'alright', '.', \"n't\", 'tried', 'premium', 'version', 'tho', '.', 'insight', 'scope', 'coming', 'soon', '.'], ['best', 'app', 'design', '....', 'lot', 'design', 'suggestions', 'every', 'platform', '.....', 'love', 'app', '....', '❤️❤️❤️❤️❤️'], ['like', 'app', 'make', 'design', 'send', 'anywhere', '!', '!', 'u', 'must', 'download', '(', 'canva', ')', '!'], [\"'s\", 'easy', 'use', 'create', 'designs', '!'], ['installed', 'great', '!', 'love', ',', 'help', 'alot', 'thank', 'keep', 'up❤️'], ['make', 'video', ',', 'resolution', 'really', 'bad', '..'], ['best', 'creative', 'app', 'ever', 'seen', ',', 'need', 'think', '..', 'install', 'use'], ['app', 'great', '!', 'easy', 'use', '.'], ['great', 'app', 'would', 'great', 'us', 'add', 'urdu', 'font', 'also', 'please', '.'], ['fantastic', 'photo', 'edition', 'application', '....', 'useful', 'youtube', 'thumbnail'], ['best', 'app', 'ever', 'always', 'problem', 'saving', 'design'], ['easy', 'use', '.', 'results', 'look', 'like', 'pro', '.', 'wow'], ['working', 'properly', 'mobile', 'app', 'please', 'remove', 'bugs'], ['great', 'app', 'logos', 'buiness', '.'], ['nice', ',', 'make', 'compatible', 'low', 'end', 'devices'], ['excellent', 'option', 'many', 'free', 'services'], ['think', 'app', 'great', ',', \"'m\", 'still', 'trying', 'figure', 'put', 'photo', 'another', 'photo', '.'], [\"'s\", 'hard', 'control', 'need', 'user', 'friendly', 'u', 'time', 'u', 'get', 'things', 'u', 'need', '❣️'], ['great', 'app', 'lot', 'features', '..'], ['really', 'love', 'app', '.', 'looking', 'something', 'like', 'while.it', 'really', 'amazing'], ['best', 'online', 'designer', 'everything', '!', '!', '!'], ['helpful', 'user', 'friendly', '💙'], ['love', 'app', '..', 'filter', 'pro', 'free', 'elemen', 'gone', '!', 'pliss', 'fix', 'canva', '\\U0001f972'], ['photos', 'low', 'quality', 'downloaded'], ['app', 'great', ',', 'sometimes', 'freezes', 'works'], ['loads', 'options', 'easy', 'use'], ['love', 'freedom', 'design', 'good', 'quality', 'memes', ',', 'free', '...'], ['app', 'great', ',', 'helps', 'edit', 'things', 'apps', 'lack', \"'s\", 'basically', 'helpful'], ['love', 'app', ',', 'first', 'app', 'considering', 'paying', 'money', 'unlock', 'versions', '.', 'thanks', 'canva', '🤩'], ['great', 'people', \"n't\", 'know', 'graphic', 'designing', '.'], ['excellent', 'app', '.', 'app', 'graphic', 'professionals', '.'], ['great', 'app', '.', 'feel', 'like', 'professional', 'designer', '!'], ['easy', 'use', 'many', 'options', '!'], ['well', '1st', 'time', ',', 'issue', 'payment', 'mode', '.'], ['ketp', 'zooming', 'out😡🤬', 'poor', 'strained', 'eyes', 'could', \"n't\", 'see', 'text', 'images', '.', 'good', 'stickers', 'eggs', 'n', 'bacon', 'tho', '🍳👰💍🤵🥓'], ['oldest', 'version', 'good', 'new', 'updates', 'awful', '😑😑'], ['best', 'app', 'ever', 'experienced', ',', 'watermark', 'application', 'wow', '!', '!', '!', '!', '!', '!', '!', '!', '!', '!', '!', '!', '!', '!', '!', '!', '!', '!'], ['good', 'app', 'design', 'posters', '...'], ['great', 'app', 'though', 'taking', 'long', 'load'], ['verry', 'nice', 'app', 'lage', 'issue', 'improve', 'thanks', 'hope', 'like', 'review', '☺️'], ['create', 'account', 'verify', 'e-mail', '?', 'lol', 'thank', '.', 'immediate', 'uninstall', '.'], [\"'m\", 'rating', 'app', '5', '🤩', 'stars', ',', 'found', 'app', 'really', 'easy', 'amazing', 'use', 'impressed', 'first', 'use'], ['first', 'logo', 'youtube', 'amazing', \"'s\", 'happend', 'thanks', 'canva'], ['really', 'helpful', 'time', 'nice', 'simple', 'neat', 'clean'], ['amazing', 'graphic', 'design'], [\"'s\", 'free', 'easy', 'use', '!'], ['facing', 'difficulty', 'purchasing', 'canva', 'pro.please', 'rectify', 'asap.on', 'debit/', 'credit', 'card', 'showing', 'unavailable', 'purchase', '.'], ['love', 'app', \"'s\", 'convenient', 'design', 'easy'], ['great', 'app', '.', 'easy', 'use', '!'], ['unable', 'save', 'designs', '.', 'disappointed'], ['free', 'account', 'offers', 'terribly', 'option', 'download', 'projects', '.'], ['awesome', 'app', '.', 'resourceful', 'materials'], ['outstanding', 'app', 'freelancers', 'graphic', 'designer'], ['easy', 'use', 'great'], ['superb', 'app', 'making', 'desired', 'one', 'especially', 'posters', '🥰'], ['software', 'wonderful', '.', 'works', 'perfect', 'needs', '.'], ['fun', 'entertaining', 'app', '.', 'use', 'good', 'amount', 'things', '.', \"'s\", 'definitely', 'worth', 'checking', '.'], [\"'s\", 'amazing', ',', 'like', 'app', 'much', \"'s\", 'user', 'friendly', '.'], ['great', 'app', \"'s\", 'helping', 'done', 'work', 'easily'], ['easy', 'edit', 'design', '.'], ['awesome', 'app', 'editing', 'photos', '.', \"n't\", 'miss', '.'], ['slow', 'good', 'service', 'available', '.'], ['nice', 'app', 'making', 'thumbnail', 'youtube', 'banner', 'logo', 'thanks', 'creating'], ['wonderful', 'app', 'design', 'photos', 'beginner'], ['good', 'app', 'need', 'lot', 'internet', \"'s\", 'good', 'give', '3', 'strars', 'only😊😊😊'], ['awsome', 'much', 'user-friendly', 'app.easy', 'edit', '.'], ['love', 'using', 'make', 'announcements', 'coming', 'events', 'club', '.'], ['good', 'like', 'far', 'need', 'design', 'recommend'], ['amazing', 'designs', 'easy', 'use', '👍'], ['app', 'interesting', 'easily', 'auditing', 'app', '.....', '😍'], ['amazing', 'content', 'impressive', 'interface', '.'], ['best', 'app', 'ever', 'created', 'rating', '4', 'stars', 'ai', \"n't\", 'totally', 'free'], ['really', 'easy', 'use', 'helpful'], ['amazing', 'ui', 'designing', 'material', '.'], ['low', 'quality', 'pictures', 'super', 'lag'], [\"'s\", 'great', 'bit', 'limiting', \"'s\", 'ability', 'selection'], ['good', 'app', 'ps', 'also', 'without', 'watermark'], ['love', 'app', 'cuz', 'making', 'mother', \"'s\", 'day', 'card', 'use', 'canva', 'make', 'many', 'temples', '💓🥰💖'], ['great', 'app', 'make', 'marketing', 'programs', '.', 'however', ',', 'paying', 'use', 'app', 'monthly', 'want', 'print', '!', \"'re\", 'already', 'paying', ',', 'able', 'use', 'whatever', 'printing', 'platform', 'like'], ['great', 'amazing', 'app', 'hope', 'could', 'make', 'lot', 'projects', 'since', 'im', 'college', 'right'], ['easy', 'access', ',', 'nice', 'functionalities'], ['good', 'application', 'youtube', 'short', '😘'], ['reported', 'problem', 'detailed', 'description', 'twice', 'along', 'attachment', 'solutions', 'gave', 'trails', '.'], ['apps', 'amazing', 'may', 'first', 'time', 'use', 'kind', 'apps', 'make', 'easy', 'use', '..'], ['good', 'would', 'better', 'could', 'resize', 'text', 'etc'], ['fabulous', 'app', 'neat', '&', 'sharp', 'tools', 'professional', 'edits', 'using', 'phone', 'finger-tips'], ['prolly', 'best', 'editing', 'software', 'beginners', 'used'], ['nice', 'app', ',', 'excellent', ',', 'good', 'feature', ',', 'easy', 'use'], ['veeeeeerrryyy', 'use', 'full', 'app', 'editing', 'pictures', 'like', 'much', 'gave', '5', '\\\\', '5', 'star', '.'], ['easy', 'use', ',', 'beautiful', ',', 'experience', 'wonderful'], ['canva', 'best', 'app', 'making', 'logo', 'youtube', 'thumbnail', 'easily'], ['get', 'premium', 'app', 'reduce', 'quality', 'logo', '.....'], ['really', 'good', 'place', 'templates', 'photo', 'edit', 'post'], ['love', 'design', 'everything', 'like', 'logo', 'edit', 'picture', 'everything'], ['app', 'use', 'full', 'youtube', 'thumbnail', 'intro', 'etc❤❤'], ['app', 'great', '.', 'need', 'drop', 'shadows', ',', 'outer', 'glow', 'duotone', 'effects', '.'], ['nice', 'beginner', 'editing', '....', 'lot', 'feature', 'ready', 'explore', 'used'], ['wonderful', 'interesting', 'app', '.', 'easy', 'use', 'go', '.'], ['app', 'useful', ',', 'love', '.', 'even', 'use', 'without', 'pay'], ['thank', 'canva', 'team', 'making', 'life', 'easy', '.', 'honestly', 'thinking', 'upgrading', 'account', 'premium', '.', 'awesomeness', 'finest', '!', '!'], ['amazing', 'application', '!', '!', '!', 'using', 'last', '1', 'year', 'l', 'love'], [\"'s\", 'taking', 'much', 'time', 'creating', 'image', 'design'], [\"n't\", 'even', 'start', ',', 'says', 'upgrade', 'android', '.', \"'s\", 'point', 'upgrade', 'wo', \"n't\", 'run', 'device'], ['auto', 'save', 'mobile', ',', 'go', 'gallery', 'come', 'back', 'design', 'gone'], ['great', 'app', '!', 'love', ',', 'cool', 'templates', 'pictures', '!', 'add', 'backgrounds', '?'], ['omg', '!', 'thank', 'much', 'providing', 'brilliant', ',', 'smooth', 'app', 'free', '.', 'mostly', 'features', 'free', 'satisfying', '.', 'request', 'download', ',', 'install', '&', 'keep', 'using', 'app', 'forever', '.', 'ultimate', '😍🤩', '.'], ['really', 'easy', 'use', ',', 'make', 'endless', 'number', 'personalized', 'designs', ',', 'definitely', 'recommend', 'app'], ['app', 'everyone', '.', 'great', 'ux', ',', 'several', 'options', '.', 'need', 'free', '.', 'truly', 'incredible', 'app', '!', 'highly', 'recommended', '!'], ['good', ',', 'things', 'would', 'change', 'overall', 'works', 'well', '.', 'would', 'highly', 'recomend', '.'], ['easy', 'use', 'interesting', 'features', 'free.i', 'like', 'aap', 'much'], ['totally', 'satisfied', 'app', '.', 'without', 'premium', 'membership', 'also', 'works', 'awesome', '😎😎😎😎😎😎😎😎😎😎😎😎😎😎😎😎😎😎😎😎😎', '.', 'extremely', 'satisfied', '😃'], ['really', 'love', 'app', '.it', 'helped', 'lot', 'given', 'peace', 'mimf', 'happy', 'times', 'canva', 'time', 'aunt'], ['love', 'app', '.', \"'s\", 'making', 'explore', 'design', 'already', 'made', 'templates', '.', 'great', '!', 'rgf'], ['bad', 'app', 'also', 'dont', 'recomend', 'others', '.', 'doesnt', 'seem', 'function', 'properly', 'also', 'doesnt', 'good', 'backrounds'], ['great', '!', 'find', 'way', 'make', 'totally', 'free', 'without', 'ads'], ['superb', 'app', 'everything', 'want', 'design', 'easy-to-use', '.'], ['resumes', 'templates', 'classy', 'cool', 'features', 'simple', 'user', 'interface', 'great'], ['awesome', 'app', 'nice', 'editing', 'options', ',', 'simple', 'use'], ['hey', 'canva', '.', 'faced', 'problems', '1.', 'save', 'image', 'shows', 'plz', 'try', 'happened', 'many', 'times', 'plz', 'fix', 'bug😔'], ['hacked', '&', 'exposed', 'personal', 'info', 'data', 'breach', 'named', 'proof', '!', 'needed', 'change', 'phone', '#', ',', 'address', '&', 'email', 'along', '2', 'references', 'phone', '#', 's🤬', 'could', 'care', 'less', 'website', 'app', 'hacked', ',', 'opinion', 'canva', 'canva', 'period', ',', 'site', 'could', \"n't\", 'kept', 'lockdown', 'apps', 'unsecured', 'site', '!', 'thought', 'many', 'others', ',', 'phenomenal', 'site', '&', 'every', 'need', 'till', 'info', 'exposed', 'help', \"n't\", 'use', '!'], ['good', 'app', 'use', '!', 'nice', 'editing', 'coolest', 'thing', 'change', 'background', '!', 'fantastic', 'app', '!'], ['app', 'awesome', 'creating', 'logo', 'take', 'much', 'time', 'save', 'logo'], [\"'s\", 'great', 'app', '.', 'love', 'enough', '...', 'makes', 'work', 'easier', 'stress-free', '.'], ['everything', 'super', 'perfect', '........', 'complicated', 'apppppp'], ['love', 'canva', ',', 'feel', 'comfortable', 'using', 'specially', 'using', 'desktop', '.', 'new', 'update', ',', 'ca', \"n't\", 'access', 'app🙂', 'literaly', 'need', 'rn', ',', 'cuz', 'project', 'deadline', '.', 'im', 'sorry', 'fix', 'fast', 'could', '?', 'im', 'paying', 'cuz', 'love', 'using', '.', 'need', 'designs', 'back', '.', 'thank', 'youuuu'], ['effective', 'easy', 'use', '!', 'wide', 'range', 'free', 'templates', '!'], ['love', 'wide', 'variety', 'designs', 'high', 'quality', '&', 'easy', 'share', '...'], ['nice', 'app', 'takes', 'time', 'export', 'rather', 'prepare', 'design', '.', '?', '?', 'pls', 'looked', '?'], ['allowed', 'say', 'best', 'app', 'world', '!', '!', '?', 'life', 'saver', 'literally', ',', 'saving', 'time', '&', 'money', ',', 'user', 'experience', 'made', 'champanhe', '!', '!'], ['awesome', 'ready', 'use', 'templates', '.', 'great', 'job'], ['amazing', ',', 'absolutely', 'love', 'app', 'useful', 'many', 'edits', 'regrets', '5', 'stars👍👍'], ['one', 'best', 'apps', 'ever', 'used', 'great', 'part', \"'s\", 'themes', 'function', 'free', 'love', 'app'], ['honestly', 'amazing', 'app', 'making', 'beautiful', 'posts', 'social', 'media', 'much'], ['app', 'amazing', 'much', ',', 'make', 'book', 'covers', 'make', 'posters', 'make', 'notebook', 'covers', 'much', \"'s\", 'amazing', 'love', 'app', 'much', 'recommended'], ['ca', \"n't\", 'express', 'thoughts', 'useful', 'anybody', 'use', 'easily', 'please', 'download', 'give', '5', 'star', 'hard', 'work'], ['good', 'app', 'making', 'whatsapp', 'stories', ',', 'posters', ',', 'logo', 'many', 'things', '.'], ['really', 'love', 'app', 'much', \"'s\", 'lot', 'things', 'free', 'enjoyable'], ['awesome', 'app', 'connection', 'issues'], ['theres', 'lots', 'stuff', 'pay', 'free'], ['interactive', 'easy', 'use', '.', 'love', 'app❤💕'], ['app', 'helped', 'create', 'resume', 'graphics', 'amazing', '!', '!'], ['love', 'app', ',', 'designing', 'youtube', 'videos', ',', 'making', 'collages', ',', \"'s\", 'best', '..', '💖'], ['doubt', ',', 'little', 'prob', 'save', 'something', 'design', 'mobile', 'phone', '&', 'rename', ',', '&', 'read'], ['first', 'go', 'making', 'banner', 'went', 'easy', 'could', 'hoped', '.', \"'ll\", 'update', 'journey', 'app', 'continues', '...'], ['brand', 'bella', ',', 'using', 'canva', 'last', 'month', \"'s\", 'amazing', '.', 'related', 'apps', 'good', 'canva', 'best', 'good', 'better', '.'], ['suggestion', ',', 'add', 'option', 'download', 'files', 'pdf', 'format'], ['love', 'canva', '!', '!', \"'s\", 'easy', 'use', 'create', 'many', 'professional', 'looking', 'designs', '.'], ['useful', 'especially', 'paying', 'pro', 'price', 'problem', '.', 'full', 'features', 'accessible', '.'], ['easiest', 'editing', 'software', \"'ve\", 'ever', 'used', 'incredibly', 'convenient'], ['grateful', '....', '!', '!', '!', '!', '!', 'incredible', 'app', '!', '!', '!', 'loved', 'it.there', \"'s\", 'better', 'editing', 'app'], ['outstanding', ',', 'easy', 'use', '.'], ['app', 'crushing', 'everytime', '.i', 'problem', 'sharing', 'also', '.', 'behind', 'perfect'], ['templates', 'good', 'editing', 'options', 'amazing', '.', 'prepared', 'one', 'resume', 'far', 'love', 'output'], ['far', 'good', '.', 'glad', 'templates', 'free', 'use', '.'], ['good', 'app', 'new', 'style', 'image', 'making', '.'], ['designs', 'ca', \"n't\", 'downloaded', ',', 'even', \"'s\", 'free', 'template', 'something', '.', 'annoying'], ['great', 'well', 'designed', 'app', 'quick', 'even', 'advance', 'editing', 'almost', 'creative', 'needs', '.', '🙂'], ['great', 'far', 'promotional', 'posters', 'quite', 'easy', 'use'], [\"n't\", 'really', 'used', 'much', 'would', 'liked', 'due', 'unexpected', 'issues', '.', 'taking', 'canva', 'app', ':', '('], ['good', 'app', 'students', 'editing', 'presentation', '.', 'helpful', '.'], ['simple', '●', 'clean', '●', 'minimalist', '.', 'ui', 'also', 'clean', 'easy', 'understand', '.'], ['cool', 'aps', '!', '!', 'lumayan', 'utk', 'mempermudah', 'kebutuhan', 'design', 'content', '..', '😁'], ['well', 'good', 'job', 'problem', 'editing', 'app', 'crashing', 'like', 'going', 'edit', 'kicking', 'app', '2', 'hours', \"'s\", 'normal', 'ferl', 'bad', '!', 'fix', 'pls'], [\"'s\", 'best', 'thing', 'happened', '.', 'pay', 'tutor', 'teach', 'free', 'tutorial'], ['best', 'app', 'u', 'ever', 'find', 'graphics', 'designing', 'best', 'features', ',', 'tons', 'templates', ',', 'unique', 'designs', 'would', 'say', 'canva', 'best'], ['offline', 'version', 'much', 'useful', 'users', '.', 'think', '.', 'good', 'work', 'anyway', '.'], ['great', '!', '!', '!', '!', '!', 'easy', 'use', 'awesome', '...', 'specially', 'autosave', '!', '!', '!', 'applause', '!', '!', '!'], ['although', 'first', 'time', 'use', 'infographic', 'found', 'interesting', 'use'], ['found', 'new', 'way', 'text', 'editing', '...', 'must', 'font', 'supportive', 'hindi', 'language'], ['makes', 'designing', 'easy', 'saves', 'time', '.i', 'totally', 'would', 'recommend', 'app', 'whenever', 'wherever', '..', '❣️'], ['canva', 'wonderful', 'application', 'every', 'graphic', 'designer', 'make', 'use'], ['``', 'vision', 'creativity', ',', 'canva', 'got', 'tools', '.', \"''\", 'moreover', 'easy', 'work', '.'], ['good', 'app', 'logo', ',', 'cover', 'picture'], ['hope', 'new', 'features', 'like', 'text', 'perspective', 'text', 'eraser', '..'], ['app', 'run', 'really', 'slow', 'everytime', 'opens', ',', 'made', 'phone', 'laptop', 'freeze', '.', 'never', 'happened'], [\"'s\", 'soo', 'nice', 'easy', 'app', 'logo', 'making'], ['amazing', 'platform', 'create', 'images', 'logis', 'anything', '.', 'thank', 'canva', '!', '!', '!'], ['able', 'add', 'music', '15', 'sec', '?', '?', '?', 'repeat', 'automatically', '...', '?', '?'], ['please', 'make', 'free', '.', 'run', 'ads', 'earn', '.', 'please', 'make', 'free', 'students', 'like', '.', 'giving', '3', 'star', 'less', 'fee', 'contents', '.'], [\"'m\", 'beginner', 'love', 'app', \"'s\", 'easy', 'access', 'beneficiary', 'beginners', 'like'], [\"'\", 'write', 'page', 'write', '.', 'bad', 'app', '.', \"n't\", 'even', 'know', 'use', 'app', '.', 'tride', 'many', 'times', 'write', 'page', \"n't\", '.'], ['think', 'app', 'helpful', 'comes', 'many', 'choices', 'design', '.'], ['navigation', 'mobile', 'bit', 'cumbersome', 'sometimes', ',', 'thankful', 'mobile', 'option', '!'], ['wow', '.', 'first', 'time', 'user', '.', 'awesome', ',', 'easy', 'use', '.', 'gon', 'na', 'upgrade', 'premium', '.'], ['awesome', 'app', ',', 'used', 'first', 'time', 'start', 'business', \"'m\", 'soo', 'happy', 'make', 'logo', 'use', 'canva', 'thank', 'soo', 'much'], ['one', 'best', 'best', 'graphic', 'design', 'apps', 'smartphone', 'hands', '.'], ['absolutely', 'amazing', 'app', 'business', 'fantastic', 'logo', 'reading', 'u', 'better', 'check', 'incredible', '!', '!', '😁😁😁😆🙂😶'], ['hot', 'trash', 'able', 'create', 'canvas', 'size', 'large', 'enough', 'stitching', 'together', 'multiple', 'photos', '.'], ['far', 'best', 'app', 'used', 'create', 'birthday', 'wishes', ',', 'etc', '.', 'love', '.'], ['free', 'easy', 'design', 'logo', 'thank', ',', 'although', 'pro', 'looks', 'much', 'better'], ['lazy', 'explain', 'app', 'sucked', 'energy', 'already', 'try', 'call', 'want', 'know', 'issue', 'facing'], ['wooow', ',', \"'s\", 'great', '.', 'really', 'working', 'awesomely', 'business', '.', 'simple', 'use', 'little', 'technicalities', 'there🤣'], ['hiii', 'login', 'canva', 'tough', 'network', 'absolutely', 'fine', '?', '?', '?', '?', 'plz', 'help', 'problem', 'solve', 'soon', 'possible'], ['best', 'app', 'making', 'presentations', 'many', 'things', '!', '!', '!', '!', '!', '!', 'gave', '4', '🌟🌟🌟🌟', 'stars'], [\"'s\", 'great', 'app', 'past', 'couple', 'weeks', \"'m\", 'troubles', 'downloading', 'things', 'make', '.'], ['easy', 'create', 'design', '.'], ['app', 'working', 'smoothly', 'first', 'recently', 'hangig', 'lot', '.', 'please', 'see', '.'], ['creates', 'amazing', 'videos', '.', 'wish', 'video', 'library', 'bit', '.', 'still', 'love'], ['easy', 'use', 'fun.great', 'choices', 'designs', 'templates', '.'], ['easy', 'use', 'full', 'images', 'backgrounds', '!'], ['supah', 'love', 'app', '!', 'create', 'beautiful', 'templates', 'friendly', 'use', '.'], [\"'s\", 'great', 'app', 'use', '.', \"'ll\", 'recommend', 'download', '.', 'many', 'features', ',', 'helps', 'many', 'ways', '.', 'thankyou', '!'], ['ca', \"n't\", 'save', 'work', '.', 'keeps', 'saving', 'blank', 'black', 'canvas', '.', 'use', 'expensive', 'phone', ',', 'lot', 'space', 'left', ',', 'im', 'also', 'premium', ','], ['5', 'star', '🌟🌟🌟🌟🌟', 'app', \"n't\", 'contains', 'adds', 'main', 'feature', 'free', 'please', \"n't\", 'change', 'time'], ['masterpiece', 'app', '!', 'easy', 'use', 'lot', 'stunning', 'tamplate', '.'], ['best', 'app', '!', '!', '!', 'appreciate', 'free', 'content', 'multitude', 'ideas', 'generates', '!', '!'], ['easy', 'design', 'app', 'perfecto'], ['ca', \"n't\", 'save', 'projects', '!', 'try', 'troubleshooting', 'still', 'wo', \"n't\", 'even', 'work', '.', 'pls', 'fix', '!', '!'], ['wo', \"n't\", 'even', 'allow', 'sign', 'facebook', ',', 'google', 'via', 'email', 'rendering', 'app', 'useless', '.'], ['awesome', 'app', '.', 'unleash', 'inner', 'artistic', 'side', '.', 'super', 'loved', '.'], ['best', 'app', 'beginners', '....', 'trying', 'photo', 'designs', '..', 'many', '..'], [\"n't\", 'understand', 'keeps', 'telling', 'check', 'internet', 'connection', 'considering', 'network', 'good', '.'], ['app', 'perfect', 'presentation', 'every', 'digital', 'poster', 'logo', 'work', '🥳😍😍😍'], ['excellent', 'app', 'love', 'every', 'detail', '!', '!', '!'], ['best', 'ever', 'seen', '.', 'greedy', 'ads', '.', 'covers', 'required', 'styles'], ['iis', 'user', 'friendly', 'many', 'amazing', 'useful', 'tools', 'like', 'grouping', 'texts', 'images', '!', 'love', 'canva'], ['work', 'realy', 'well', 'little', 'slow', 'works', 'fine', '.', 'nice', 'choices', 'free', 'user', 'love'], ['amezing', 'design', 'aap', 'easy', 'ways', 'create', 'post', 'social', 'media', '🙏🙏and', \"'s\", 'free', 'cost'], ['excellent', 'app', 'design', '.', \"'m\", 'enjoying', 'creating', 'post', 'instagram', '&', ',', 'social', 'media', 'platforms', '.', 'love', '❤️', 'app', '.', 'awesome', '😎'], ['excellent', '....', \"n't\", 'know', 'rotate', 'text', '...', 'feature', 'could', 'added', '....', 'excellent'], ['make', 'design', '.', '*', 'changes', 'saved', '*', 'click', 'keyboard', 'tablet', '.', '*', 'design', 'disappears', '*'], ['app', 'working', '!', 'made', 'lot', 'thumbnails', 'app', 'swear', 'even', 'one', 'thumbnail', 'gettimg', 'downloaded', 'shittee', 'app'], ['app', 'designed', 'remembering', 'ideas', 'beginners', 'professionals.i', 'recommend', 'learn', 'basic', 'editing', 'skills', 'app', 'well', 'making', 'public', 'posts', '.'], ['literal', 'hack', ',', 'beautiful', 'beast', 'know', 'tame', '.', 'would', 'definitely', 'recommend', '!'], ['good', ',', 'safe', ',', 'work', 'slow', 'ca', \"n't\", 'text', 'slide', ',', 'good', 'app', 'shall', 'work', 'fast'], ['great', 'easy', 'tool', 'create', 'many', 'pics', '.', \"'s\", 'great', 'beginners', 'also'], ['always', 'working', 'purchasing', '?', '?', '?', 'apps', 'cheap', '!', 'ca', \"n't\", 'function', 'properly', '?', '?'], ['functional', 'app', 'easy', 'interface', 'well', 'professional', 'interface', '.', 'must', 'use'], ['good', 'app', ',', 'however', ',', 'cant', 'open', 'app', 'keep', 'saying', \"'m\", 'offline', 'ca', \"n't\", 'connect', 'despite', 'wifi', '.'], ['taken', 'canva', 'premium', 'best', 'thing', 'make', 'poster', 'logo', 'work', 'easy', '😌😌'], ['easy', 'use', '!', 'thank', 'canvas', ',', 'free', 'features', '!'], ['love', 'app', '..', 'occasionally', 'freezes', 'exit', 'restart', 'great', 'app', '!'], ['amazing', 'editor', 'creator', 'app', '!', 'satisfied', '!', \"'ve\", 'recommended', 'many', 'times', '...', 'thank', '!', '!', '!'], ['logging', ',', 'getting', 'messages', 'technical', 'issues', 'logi', 'g', 'try', ',', 'canva', 'team', '..'], [\"'s\", 'really', 'amazing', 'app', 'working', 'method', 'easier', '.', 'anybody', 'make', 'something', '....'], ['quality', 'image', 'comes', 'degraded', 'try', 'download', 'png', 'image', '.', 'please', 'fix', '!', '!'], ['amazing', 'app', 'making', 'posters', ',', 'business', 'card', 'anything', 'free'], ['app', 'crashes', ',', \"n't\", 'respond', 'sometimes', '.', 'shows', 'internet', 'sometimes', '.'], ['satisfied', 'designs', '.'], ['great', 'overall', '.', 'think', 'missing', 'feature', 'adding', 'gradient', 'text', 'images.hope', 'add', 'soon', '.'], ['super', 'fun', 'app', '.will', 'great', 'features', '.a', 'lil', 'bit', 'time', 'u', 'need', 'know', 'works', 'otherwise', 'fun', 'app'], ['used', 'daily', 'basis', ',', 'easy', 'use', ',', 'stunning', 'results', '.'], ['really', 'comfortable', 'cool', 'features', '.', 'anyone', 'likes', 'something', 'creative', 'look'], ['say', '!', '!', 'free', 'amazing', 'function', 'features', '(', 'z', ')', 'mean', '!'], ['good', 'design', 'application', 'lot', 'free', 'ready', 'made', 'design', ',', 'use'], ['app', 'restarting', '.....', 'even', 'lagging', 'little', 'slow', '...'], [\"'s\", 'wrong', 'app', 'also', 'site', \"n't\", 'download', 'open', 'work', '.', 'please', 'fix', '.'], ['great', \"'m\", 'using', 'business', 'content', 'helpful'], ['right', 'keeps', 'trying', 'set', 'already', 'account', 'wo', \"n't\", 'let', 'log', '?', '?', '?', 'option', 'log', '.', \"'m\", 'paying', \"'m\", 'little', 'frustrated', '...'], ['fantastic', 'app', '...', 'love', '....', 'try', 'make', 'app', 'less', 'expensive', \"'d\", 'give', '5', 'star'], ['really', 'good', 'app', 'make', 'youtube', 'thumbnail', 'youtube', 'intro', 'videos💯💯💯', '.', 'point', 'view', \"'ll\", 'give', '100', 'stars', 'doubt', 'it👍👍👍'], ['best', 'logo', 'making', 'app', 'world', '!', '!', 'problems', \"n't\", 'cash', 'grabbing', 'app', '.'], ['one', 'best', 'help', 'full', 'design', 'app', 'world', '.', 'love', 'create', 'design'], ['high', 'low', 'specifications', 'smartphone', 'runs', 'smoothly', 'simply', 'awesome', 'best', 'edit', 'app', 'forever'], ['application', 'good', 'youtube', 'thumbnail', 'making', 'upload', 'hd', 'collette', 'thumbnail', '.'], ['beautiful', 'app', ',', 'sleek', 'design', ',', 'innumerable', 'design', 'options', '!', 'love', '.'], ['lovely', 'app', '.', 'helps', 'design', 'advertisements', 'way', 'want', '.'], ['app', 'looking', '!', 'features', 'got', 'ta', 'pay', 'even', 'basics', 'really', 'helps', '!'], ['``', 'please', 'add', 'split', 'screen', 'support', \"''\", 'please', 'add', 'shadow', 'text', '...', \"'s\", 'really', 'helped', '.'], ['absolutely', 'awesome.you', 'literally', 'get', 'cool', 'stuff', 'free', \"'s\", 'also', 'really', 'user', 'friendly', '👍👍'], ['good', 'app', 'creative', 'person', ',', 'loved', 'fonts', 'designs'], ['nice', 'app', 'designer', \"'s\", '...', 'fresher', 'experienced', '....', 'pls', 'install', 'good', 'presentations', ',', 'posters', ',', 'thumbnails'], ['highly', 'recommended', '.', 'several', 'companies', 'go', 'app', 'designing', 'logo', '.'], ['excellent', 'features', 'highly', 'recommended', 'new', 'creators'], ['mobile', \"'s\", 'impressive', '.', 'improvements', 'made', 'getting', 'pro', 'version', 'value', 'money'], ['awesome', 'app', 'uncomfortable', 'templates', '....', 'amazing'], ['amazing', 'app', ',', 'desktop', 'version', 'easier'], ['one', 'best', 'app', '.', 'best', 'way', 'beautiful', 'editing', '.'], ['great', 'options', 'creatives', 'create', 'wide', 'variety', 'logos', ',', 'banners', 'thumbnails', '!'], ['pretty', 'useful', 'enough', 'tools', 'create', 'fly', 'phone', '.', \"'d\", 'like', 'try', 'premium', 'sometime', '.'], [\"'s\", 'first', 'time', 'using', 'go', 'well', \"'s\", 'easy', 'use', '.', 'problem', 'ca', \"n't\", 'save', 'phone', '.', \"'ve\", 'tried', 'save', 'different', 'form', 'still', 'ca', \"n't\", 'save', 'phone', \"n't\", 'think', 'problem', 'phone', '.', 'hope', 'fix', 'soon', ',', 'thank', '.'], ['words', 'appreciate', 'app', '.', 'made', 'precious', 'app.good', 'job', '.', 'please', 'give', 'pro', 'images', 'free', '.'], ['one', 'best', 'design', 'apps', \"'ve\", 'ever', 'used', \"'s\", 'super', 'useful', 'easy', 'use', ',', 'problems'], ['really', 'good', 'app', '.', 'provides', 'editing', 'effect', 'filters', '!', '!'], ['canva', 'amazing', 'graphics', 'design', 'application', '.'], ['fantastic', 'editing', 'app', 'interface', 'professional', 'change', 'required', 'good', 'different', 'image', 'video', '....', '🖕🖕'], ['user', 'friendly', 'interface', '.', 'much', 'better', \"'s\", 'facilities', 'free', 'use', '.'], ['app', 'allows', 'create', 'several', 'designs', 'company', '.', \"'s\", 'great', '.', 'love'], ['spend', 'much', 'time', 'working', 'poster', 'app', 'allowing', 'download', 'simply', 'wasted', 'hard', 'work'], ['great', 'app', 'easy', 'use', '.', 'good', 'value', 'amount', 'designs', 'collaboration', 'tool', '.'], ['excellent', 'online', 'graphic', 'design', 'tool', '.', 'always', 'use', 'design', 'many', 'tools', 'business'], ['world', 'best', 'app', 'easy', 'high', 'quality', 'photos', 'videos', 'editing', 'skill', 'people', 'easily', 'use', 'thanks', 'canva', 'made', '🤗'], ['nice', 'app', 'making', 'thumbnail', 'youtube', 'logo', 'etc', 'check', 'thumbnails', 'searching', 'geinus', 'ff', 'yt', 'come', 'like', 'contents', 'suscribe'], ['app', 'good', '👍👍', 'design', 'background', 'like', 'power', 'point', '.', 'app', 'good👍', '.'], ['beautiful', 'graphics', 'animations', 'lot', 'options', 'choose', '!', 'definitely', 'worth', 'download', '😉'], ['easy', ',', 'intuitive', 'fun', '!', '!', '!'], ['one', 'best', 'affordable', 'market', 'online', '!'], ['worst', 'experience', 'ever', '!', 'could', \"n't\", 'create', 'anything', '.', 'keeps', 'showing', 'lots', 'errors', '.'], ['really', 'loved', 'app', 'updated', 'today', 'ca', \"n't\", 'even', 'save', 'edit', '!', 'please', 'fix', '...', '!'], ['everythng', 'good', 'app', 'unable', 'download', 'design', ',', 'use', '.'], ['download', 'video', ',', 'need', 'pay', '.', 'quality', 'quite', 'good', 'complaint', '.'], ['love', 'application', ',', \"'m\", 'facing', 'slow', 'designing', '...', 'please', 'fix'], ['something', 'teacher', \"'s\", 'day', 'prepared', 'digital', 'greeting', 'card', 'app', 'suggested', 'friends', '.', 'thank', '!'], ['amazing', '....', 'creating', 'away', 'creating', 'new', 'herbal', 'business', 'logo', '....', 'problems', 'yet', ',', \"'ve\", 'seen', '....'], ['never', 'felt', 'could', 'create', 'graphics', \"n't\", 'feel', 'like', 'complete', 'failure', '!', 'really', 'user', 'friendly', '!'], ['great', ',', 'went', 'try', 'free', '14', 'days', 'trial', ',', 'started', 'lagging', 'completely'], [\"'s\", 'great', '!', 'much', 'say', ',', 'oh', 'wow', 'wonderful', 'create', 'card', 'get', 'business', '.', 'even', 'lets', 'us', 'place', 'order', '!', '-', 'elijah', 'sutherland'], ['excellent', 'addition', 'workstation', '.', 'syncs', 'quickly', 'smoothly', '.'], ['like', '....', 'imposes', 'price', 'even', 'free', 'articles', ',', 'prints', 'watermark', 'hell', 'lot', 'irritative'], ['mainly', 'use', 'instagram', 'posts', 'overall', 'works', 'well', 'whatever', 'photos', 'camera', '.'], ['well', 'canva', 'total', 'perfect', 'app', 'used', 'edit', 'lot', 'especially', 'poster', 'design', 'comes', 'high', 'quality', 'canva', 'deserve', '5', 'star', '✨✨'], ['excellent', ',', 'super', 'easy', 'use', ',', '100', '%', 'recommended'], ['canva', 'superior', 'ps', ',', 'ai', '..', 'many', 'graphic', 'designing', 'tools', '..', 'learn', 'tips', 'tricks', 'dsign', 'anything'], ['ca', \"n't\", 'sliding', 'editing', 'banner', '.', 'sucks'], ['awesome', 'site', 'graphic', 'designers', '.....', 'simple', 'easy', 'use', 'interface', '.', '👌'], ['excellent', 'value', 'design', 'capabilities', 'compared', 'things', 'tried', 'like', 'vistaprint'], ['good', 'tool', '.', 'frustrating', 'navigate', 'system', 'sensitive', 'selections', 'small', '.'], ['good', 'app', '.', 'tried', 'many', 'times', 'either', 'download', 'share', 'design', 'avail'], ['apps', 'helpful', 'easy', 'use', '.', 'really', 'loved', 'much', '.'], ['downloaded', '3', 'logo', 'design', 'apps', 'best', 'one', '.'], ['easy', 'use', 'best', 'selections', 'templates', 'actual', 'use', '.'], ['easy', 'use', '..', \"'re\", 'nice', 'templates'], ['great', 'making', 'new', 'designs', '.', 'get', 'free', 'templates', 'designs', 'dont', 'start', 'scratch'], ['love', '!', '!', 'many', 'tools', 'make', 'everything', 'pretty', '!', '!', '💜💜', 'consistent', 'brand', '!'], ['app', 'amazing', 'many', 'templates', 'designs', 'choose', '.', \"'m\", 'giving', '5', 'stars', '.', 'far', 'good😍😍😍❤❤❤❤❤'], ['nice', 'takes', 'time', 'started', 'loading'], ['love', 'app', 'graphic', 'designer', 'designs', 'go'], ['app', 'becoming', 'heavy', '...', 'designs', 'auto', 'saved', ',', 'images', 'getting', 'saved', 'gallery', '...'], ['transparent', 'background', \"n't\", 'work', 'android', 'mobile', '.', 'fix', 'pls', '...'], ['great', 'app', '.', 'helps', 'graphic', 'designing', \"'s\", 'easy', 'use', '.'], ['beautiful', 'interface', '!', 'seamless', 'user', 'experience', '!'], ['could', \"n't\", 'write', 'text', 'onto', 'pictures', 'amazing', 'experience', 'keeping', 'good', 'work'], ['app', 'performance', 'good', '.', 'take', 'much', 'time', 'downloading', 'image', ',', 'create', 'collages', 'etc', '.'], ['hate', 'accidentally', 'pick', 'template', 'scrolling', '.', 'also', 'design', 'thumbnail', 'update', 'exit', 'apps', '.'], ['best', 'app', 'ever', '.', 'used', 'design', 'stickers', 'use', 'product', '.', 'good', 'app'], ['newly', 'updated', 'canva', 'keeps', 'crashing', '.', '20', 'jul', '2021', '-', 'still', 'lagging', '&', 'crashing', '.', 'wasted', 'time', 'editing', 'artwork', ':', '('], ['got', 'problem', 'download', 'design', '.', 'always', 'saying', 'canvas', 'experienced', 'technical', 'issue', '.', 'please', 'help', '.', 'urgent😔'], ['poor', 'quality', 'app', 'many', 'times', 'waiting', 'editing', 'project', '.', 'app', 'run', 'slow'], ['super', 'love', 'app', 'helping', 'create', 'wonderful', 'presentations', 'classes', '.', 'view', 'issue', 'fixed', 'cant', 'seem', 'copy', 'paste', 'images', 'tablet', 'canva', '?'], ['amazing', 'application', '!', 'helped', 'make', 'lot', 'logos', 'thumbnails', 'without', 'difficulties', '!'], ['editing', 'section', 'amazing', ',', 'different', 'variety', '.', 'easily', 'make', 'festival', 'cards', ',', 'birthday', 'cards', 'etc', '.'], ['find', 'free', 'content', 'easily', '!', '!', '!'], [\"'s\", 'wonderful', 'app', '!', 'create', 'nice', 'professional', 'flyers/posters', '!'], ['worst', 'app', 'time', 'waste', 'dowload', 'willing', 'go', 'paid', 'risk', 'coz', 'consumes', 'much', 'data', '.'], ['aap', 'usful', 'want', 'edit', 'design', ',', 'photo', ',', 'catalogue', ',', 'etc', '.', 'usful', 'simple'], ['great', 'app', '.', 'easy', 'use', 'functionality', 'web', 'app', '.'], ['good', 'app', 'problem', ',', 'able', 'share', 'creating', 'people', 'contact', 'number'], ['helpful', 'provides', 'better', 'designs', 'app', 'easy', 'use'], [\"n't\", 'know', 'complete', 'design', 'could', \"n't\", 'save', '..', 'keeps', 'showing', 'saving', 'wo', \"n't\", 'save', '..', \"'s\", 'gave', '3', 'stars'], ['nice', ',', 'easy', 'use', 'graphics', 'amazing.over', 'al', 'love', 'it.i', 'love', 'app', '.'], ['nice', 'application', 'using', 'still', 'please', 'ad', 'features', 'applications', 'like', 'colours', '...............'], ['even', 'free', 'version', 'enough', 'get', 'started', ',', 'feel', 'like', 'need', 'pro', 'upgrade', 'trail'], ['perfect', 'app', 'even', 'beginners', '!', 'need', 'put', 'thoughts', 'action', '🎬', 'share', '!'], ['paste', 'text', 'templates', '.', 'totally', 'disappointed', '.'], ['great', 'app', 'always', 'better', 'adobe', 'far', 'concerned', 'terms', 'ease', '.'], ['canva', 'literally', 'saved', 'life', '.', \"'s\", 'constantly', 'improving', 'digital', 'business', 'grown', 'everything', \"'ve\", 'enabled', 'create', 'canva'], [\"'s\", 'really', 'really', 'great', 'app', '.', 'helped', 'make', 'lots', 'wallpapers', ',', 'icons', 'much', '.', 'recommend', 'app', '.'], ['started', 'working', '...', 'working', 'nicely', 'work', 'kept', 'need', 'changes', \"'s\", 'allowing', '.'], ['wish', 'could', 'crop', 'angles', 'app', 'fantastic', '.', 'back', 'ground', 'removing', 'capabilities', 'lot', 'cool', 'features'], ['super', 'easy', 'use', 'perfect', 'everything', 'need', 'helpful', 'app', 'recommend', 'anyone', '😍'], ['absolutely', 'love', 'app', '!', 'convenient', 'looks', 'like', 'worked', 'glitches', '!'], ['used', 'app', 'presentations', 'products', 'lately', 'started', 'failing', 'edit', 'something'], ['happy', 'app', '.', 'update', 'iam', 'facing', 'lot', 'issues', '..', 'designs', \"n't\", 'get', 'downloaded', \"'s\", 'causing', 'much', 'mess', '..', 'pls', 'needful'], ['desired', 'design', 'app', 'ever', 'come', 'across', 'alot', 'features', 'choose', 'charge'], ['made', 'video', 'paid', 'three', 'credits', '.', 'still', 'could', \"n't\", 'download', 'video', 'due', 'technical', 'issues', '.', 'please', 'solve', 'refund', '.'], ['one', 'best', 'graphic', 'designing', 'app', 'android', 'phone', '.'], ['app', 'sucks', 'experience', 'chrome', 'browser', 'amazing', '.'], ['easy', 'app', 'use', 'edit', 'slide', 'love', 'feature', 'auto', 'save'], [\"n't\", 'show', 'subscription', 'took', '1', 'month', 'subscription', 'account', \"n't\", 'show', 'subscription', 'please', 'rectify', 'problem'], ['love', 'app', '...', 'kindly', 'make', 'available', 'us', '...', 'kindly', 'add', 'background', 'remover', 'feature', 'free', 'thing.thank'], ['canva', 'incredible', ',', 'artistic', 'able', 'design', 'company', 'logo', 'easily', 'quickly'], ['good', 'application', '..', 'work', 'real', 'easy'], ['extremely', 'functional', 'easy', 'templates'], ['images', 'saved', 'gallery', '...', 'whats', 'problem', '..', \"'m\", 'using', 'always', 'updated', 'version', '..'], ['creative', 'original', '...', 'many', 'free', 'designs'], ['really', 'awesome', 'experience', 'canva.its', 'easy', 'make', 'thumbnail', 'photos', 'edition', 'everything', 'related', 'editing'], ['best', 'app', 'bit', 'slow', 'every', 'pic', 'premium', 'gave', '4', 'star', 'useful', 'love'], ['partially', 'woke', '.', 'used', 'awesome', ',', 'every', 'update', 'makes', 'another', 'function', 'pay', 'use', '.'], ['editing', 'section', 'good', 'save', 'gallery', '😞i', 'uninstalled'], ['excellent', 'app', 'designing', 'editing'], ['use', 'app', 'practically', 'daily', 'everything', 'business', 'marketing', ',', 'merchandise', 'administrative', 'paperwork', '!', 'love', '!', 'thank', 'canva', '!'], ['want', 'pay', 'background', 'removal', 'app', 'complicated', '!'], ['use', 'simple', ',', 'quality', 'best'], ['easy', 'use', 'best', 'templates'], ['tried', 'loging', 'google', 'said', 'failed', 'login', '&', 'whe', 'tried', 'email', 'said', 'something', 'went', 'wrong', '.', 'annoying', 'disgusting', '.'], ['difficult', 'use', '.', 'want', 'use', 'photoshopping', 'figure', 'photoshop'], ['creator', 'understand', ',', 'much', 'canva', 'place', 'role', 'design'], ['take', 'lot', 'time', 'open', 'app', '..', 'even', 'good', 'connection', '..'], ['stupid', 'apps', ',', 'save', 'work', '.', 'tried', 'many', 'times', 'still', 'save', '.', 'wasted', 'times', 'work', '.'], ['love', 'app', '.', 'help', 'canva', 'designed', 'many', 'websites', 'social', 'media', 'posts', '.'], ['love', 'canva', '.', \"'ve\", 'one', 'month', 'far', 'helped', 'create', 'beautiful', 'work', '.'], ['basics', 'customize', 'photoshop', 'want', 'easy', 'interface', '!', 'a+'], ['one', 'best', 'video', 'editing', 'app', '!', '!', 'could', 'even', 'tell', 'best', 'app', '!', '!', '!', '.'], ['love', '..', 'soo', 'easy', 'make', 'especially', 'beginners', 'like', '.'], ['awesome', 'app', 'ever', 'used', 'features', 'modern', 'app', 'editors', 'need', 'awesome', 'say', 'well', 'done', 'developers', 'also', 'recommend', 'try', 'also', 'liked'], ['amazing', 'app', '.', 'lots', 'free', 'features', 'easy', 'navigate', '.', \"'s\", 'absolutely', 'worth'], [\"'s\", 'good', 'app', ',', \"'s\", 'actually', 'best', '..', 'takes', 'long', 'load', '.', 'stressful', 'use'], ['easy', 'start', '.', 'simple', 'create', '.', 'difficult', 'tear', 'oneself', 'away', '.'], ['great', 'explore', '.', 'upgrade', 'may', 'worth', '.'], ['great', 'app', 'use', 'lots', 'design', 'patterns', '.', 'suggest', 'download', 'app', '.'], ['limited', 'text', 'use', ',', 'showing', 'text', 'search', ',', 'app', 'good'], ['apps', 'good', 'recently', '..', 'bugs', '.', 'like', 'reviews', 'said', '.', 'pls', 'work', '.'], ['nice', 'app', ',', 'awesome', 'content', '.main', 'problem', 'app', 'closes', 'automatically', '.'], ['superb', 'app', 'lost', 'features', 'one', 'problems', 'bit', 'expensive', 'students', 'like', 'us', '.'], ['using', 'app', 'create', 'awesome', 'slide', 'presentations', ',', 'posters', ',', 'book', 'covers', 'etc', '..', '.', 'got', 'good', 'grades', 'due', 'app', 'big', 'thank', 'canva'], ['started', 'using', 'canva', 'android', 'trying', 'desk', 'top', '.', 'far', 'good', ',', 'let', 'know', 'future', 'post', 'experience', 'issues', '.'], ['make', 'work', 'easy', 'fast', '.', 'lots', 'design', 'templates', 'choose', '.', 'worth', 'price'], ['best', 'app', 'much', 'better', 'faster', 'apple', 'photoshop', 'instagram', 'account', 'canva', 'appit', 'help', 'alot', 'media', 'multimedia', 'problem'], [\"'s\", 'cool', 'fantastic', 'may', 'take', 'time', 'download', 'everything', 'correct', 'adds', 'nothing', 'negative', 'app', 'superb', '👍', 'must', 'download', '☺️👍'], ['certainly', 'beginner', 'friendly', '.', 'recommend', \"n't\", 'access', 'photoshop', 'gimp', '.'], ['really', 'love', 'app', 'get', 'want', ',', 'kind', 'logo', 'etc', ',', 'saving', 'took', 'long', 'please', 'fix', 'part'], ['lag', 'lag', 'lag', '.', 'save', 'template', 'ca', \"n't\", 'change', 'photos', 'nd', 'text', '.', 'disappointed', '☹️'], ['best', 'graphic', 'design', '.', 'thank', 'much', 'app', 'helps', 'daily', 'life'], ['amazing', ',', 'ca', \"n't\", 'believe', \"'s\", 'free', '..', 'go', 'app', 'projects', 'prints', 'etx', '..', 'must', 'check', '!', '!'], ['easy', 'use', 'many', 'options', 'choose', '....'], [\"'s\", 'best', 'app', 'creating', 'unique', 'designs', '.', 'go', 'ahead', ',', 'download', 'create', 'masterpieces', 'easily', '.'], ['pretty', 'good', 'online', '.', \"n't\", 'data', 'cant', 'anything'], ['love', 'app', '!', \"'s\", 'easy', '&', 'quick', 'use', 'make', 'beautiful', 'designs', '😍'], ['canva', 'one', 'best', 'graphic', 'apps', '.', 'kudos'], ['nice', 'easy', 'design', 'pro', 'system', 'good'], ['app', 'best', 'platform', 'create', 'dreams', 'see', 'happen', ',', 'really', 'love', 'app', ',', 'try', '.'], ['perfect', 'business', 'owners', 'learning', 'graphics', 'advertising', '.', 'saves', 'alot', 'money'], ['tamil', 'words', 'ca', \"n't\", 'bold', '!', '!', '!', 'preview', 'videos', 'ca', \"n't\", 'play', 'properly', 'perticularly', 'text', 'animations', '....'], ['best', 'graphic', 'design', 'app', 'ever', ',', 'needed', 'app', 'like', 'school', 'works', 'great', '.'], ['really', 'love', 'easy', 'create', 'canva', '!'], ['fantastic', 'app', '.', 'quick', 'easy', 'use', '.'], [\"'s\", 'amazing', 'application', 'editing', 'creating', '.'], ['stable', 'internet', 'connection', 'still', 'app', 'opening', '.', 'reinstalled', 'still', 'working', '.'], ['want', 'graphic', 'designer', 'beginner', '.', 'app', 'help', 'alot', ',', 'newbie', 'make', 'profesional', 'projects', 'app', '.', 'download', '!'], ['looks', 'pretty', 'full-featured', ',', 'way', 'make', '1080x1350', 'instagram', 'post', 'app', 'pretty', 'useless', 'platform', 'unless', 'design', 'squares'], ['best', 'app', \"'ve\", 'come', 'across', 'far', '.', 'love', 'templates', '-', 'easy', 'use', '.'], ['love', 'app', '...', 'easy', 'use', 'important', \"'s\", 'free', 'many', 'varieties', 'options'], ['app', 'opening', 'update', '.', 'everytime', 'shows', 'slow', 'connection', 'even', 'reinstalling', 'also', 'problem', 'resolved'], ['pretty', 'nice', 'app', 'like', 'editing', 'making', 'school', 'college', 'work', 'overall', 'great', 'app'], ['really', 'like', 'app', \"'s\", 'easy', 'use', 'creates', 'professional', 'quality', 'content', '.'], [\"'s\", 'ok', 'application', 'problems', 'exists', 'features', 'use', 'older', 'versions', 'android', 'phones', '.'], ['best', 'graphic', 'designing', 'app', \"'ve\", 'seem', '.', 'best', 'templates', '!', '!', '!', '!', '!', '!'], ['creating', 'youtube', 'video', 'canva', 'select', 'video', 'playing', 'video', 'shows', 'videos', 'starting', 'photo', '.'], ['app', \"n't\", 'good', 'wasted', '10', 'minutes', 'time', 'design', 'save', '.'], ['sometimes', 'response', 'slow', '...', \"'s\", 'really', 'cool', 'fantastic', 'app', 'work', '.'], ['best', 'app', 'starter', 'creative', 'things', 'new', 'tools', 'tactics', 'better', 'design', \"'s\", 'amazing'], ['easy', 'use', 'create', '!', 'love', 'options', 'features', '.'], ['really', 'love', 'apps', '.', 'lately', 'files', 'ca', \"n't\", 'saved', 'phone', '.', 'please', 'fix', '...'], [\"'s\", 'really', 'helpful', 'people', 'especially', 'students', 'like', 'professional', 'needs', 'presentation', '.', 'keep', 'good', 'work'], ['stucks', 'hangs', 'lot', '...', 'urghhh', ',', 'ittied', 'downloading', 'phone', 'performance', 'sucks', 'tried', 'laptop', 'yet'], ['times', 'background', 'remover', \"n't\", 'work', 'properly', ',', 'otherwise', 'excellent', 'app', '.'], ['please', 'fire', 'person', 'designed', 'login', 'ui', '.', 'asks', 'create', 'account', '.', 'sign', 'option', '.'], ['usefull', 'type', 'work', 'like', 'editing', 'pictures', 'making', 'resume', ',', 'maintaning', 'ur', 'insta', 'status😁', 'excellent'], ['best', 'app', 'editing', 'like', 'professional', '🔥', '.', 'buy', 'subscription', 'options', '.', 'edit', 'many', 'things', 'ex', '.', 'logo', ',', 'story', ',', 'youtube', 'works', ',', 'cards', ',', 'thumbnail', ',', 'invitation', 'cards', ',', 't-shirt', 'print', '.', 'suggests', 'every', 'android', 'editor', 'app', 'editing', '❣️', '.', 'try', 'take', 'subscription', 'edit', 'like', 'professional', '😍😍😍', '.', 'thank', '❤️💓', '...'], ['app', 'magical', 'awesome', 'designs', 'make', 'posts', 'great', '.', 'try'], ['takes', 'much', 'time', 'save', 'download', 'video', '.', 'half', 'n', 'hour', '..'], ['easy', 'use', 'simple', ',', 'various', 'styles'], ['easy', 'create', 'want', ',', 'nice', 'app', 'play', 'images'], ['easy', 'use', 'beginners', \"'s\", 'good', 'application', '.'], ['excellent', 'app', 'takes', 'stress', 'designing', '.'], ['loves', 'apps', '.less', 'ads', '..', 'using', 'years', 'pls', 'reduce', 'price', 'haha'], ['convenient', ',', 'qiuck', ',', 'professional', 'easy', 'edit', 'anything', '!', '!'], ['waste', 'app', 'never', 'seen', 'app', 'life', 'problem', 'mention', '*', 'takes', 'time', 'reload', '*', 'open', 'app', 'internet'], ['first', 'time', 'using', \"'s\", 'amazing', '!', 'simple', 'use', '.', 'thank', '!'], ['keeps', 'crashing', '.', 'literally', 'hate', '.', 'tried', 'uninstalling', 'reinstalling', \"n't\", 'even', 'open'], ['unable', 'figure', 'make', 'simple', 'layout', 'one', 'picture', 'top', '.'], ['everything', 'good', ',', 'please', 'help', 'us', 'add', 'custom', 'fonts', 'free', '.', 'please'], ['easy', 'understand', 'use', '.', 'would', 'highly', 'recommend'], ['useful', 'app', '.', 'recommend', 'everyone', 'use', 'app', 'use', 'creativity', 'top', 'level'], ['oh', 'god😍', 'really', 'really', 'love', 'app❤', 'picture', '&', 'quality', 'good✨', 'used', 'lots', 'app', 'one', 'favorite', 'app❤🎀', 'go', 'give', '5⭐', 'app', '.', 'keep', 'rocking', 'canva🥳🤩'], ['worst', 'app', '...', 'crash', 'everytime', 'try', 'change', 'edit', 'pic', '.'], ['experience', 'graphic', 'designing', '1', 'years', 'app', 'seem', 'good', 'app', 'design'], ['cool', 'app', '.', 'simple', 'powerfull😎and', 'user', 'friendly'], ['far', ',', 'one', 'promising', 'apps', 'use', 'editing', 'designing', 'needs', '.'], ['simple', 'effective', 'app', '.', 'great', 'small', 'enterprises'], ['easy', 'use', 'versatile'], [\"'ve\", 'using', 'lot', 'nice', '.', 'better', 'wattpads', 'cover', 'creator', '..'], ['create', ',', 'edit', 'almost', 'everything', 'loves', 'software', '.'], ['keeps', 'shutting', '.', 'says', 'cant', 'save', 'design', 'reloads', 'scratch'], [\"'s\", 'nice', 'thumbnail', '&', 'posters', '...', 'used', 'use', 'thumbnail', 'posters', '..', 'nice', 'app'], ['great', 'app', 'great', 'designs', '.', 'recommend', 'anyone', 'everyone', '.'], ['canva', 'interested', 'app', 'content', 'creators', ',', 'influencers', ',', 'etc', 'smooth', 'use', '.', 'satisfied'], ['helpful', 'app', '!', 'convenient', 'user', 'friendly', '.'], [\"'s\", 'interface', 'makes', 'simple', 'easy', 'edit', 'work'], ['web', 'developer', 'designer', '.', 'best', 'class', 'professional', 'graphic', 'designer', 'best', 'logo', 'designing'], ['nice', 'app', '...', 'easy', 'make', 'edit', 'design', 'fits', 'needs'], ['easy', 'use', 'perfect', 'creating', 'social', 'content', 'go'], ['easy', 'use', 'many', 'designs', 'choose'], ['laggy', '...', 'downloaded', 'app', 'one', 'web', 'one', 'laggy', '...', \"'s\", 'still'], ['good', 'easy', 'use', 'wow'], [\"'s\", 'always', 'show', 'image', 'loading', ',', 'finally', 'always', 'closed', 'application'], ['nice', 'app', \"'s\", 'designed', 'fantastic', 'professional', '.', \"'s\", 'help', 'business', '.', 'thank', 'canva'], ['nice', 'app', 'designing', 'logos', ',', 'posters', 'editing', 'videos', '.'], ['love', 'canva', 'perfect', 'small', 'business', 'make', 'templates', 'social', 'media', 'posts'], ['need', 'long', 'time', 'load', 'elements', '..', 'waste', 'time'], ['superb', 'app', '..', 'ca', \"n't\", 'explain', '...', 'amazing', 'app'], ['use', 'canva', 'daily', 'lately', 'mobile', 'glitch', '.', 'edit', '.', 'please', 'help', '.'], [\"'s\", 'really', 'amazing', 'work', 'laptop', 'mobile', 'device', 'slower', '!'], ['takes', 'much', 'time', 'saving', 'one', 'image', \"n't\", 'making', 'magic', 'happens👎🏻'], ['helpful', 'beginners', 'wants', 'create', 'designs', 'layouts', '💞'], ['beautifully', 'designed', 'application', ',', 'makes', 'gaphic', 'desinging', 'easy', '...', 'love', '😍'], ['features', 'available', 'due', 'premium', 'pricing', '.'], ['slow', 'load', '.', 'lot', 'data', 'consumed', ',', 'laggy', 'app', '.', 'use', 'app', '.', 'unhealthy', 'app', '.', 'user', 'friendly', '.', 'laggy', 'app'], ['amazing', 'app', ',', 'really', 'easy', 'use', '.', 'hassles', '!'], ['best', 'app', 'love', 'app', 'use', 'free', 'without', 'limit', 'time', '✊✊', ',', '&', 'also', 'purchase', 'unlimited', 'effect'], ['many', 'bugs', 'love', 'results', 'produces'], [\"'s\", 'show', 'free', \"n't\", 'use', 'freely', ',', ',', ',', 'watermark', 'force', 'buy', ',', ',', ',', ',its', 'nice', '😔'], ['great', 'experience', '.', 'started', 'something', 'decided', 'make', 'downloaded', 'things', 'went', '.', 'beautiful', 'invitation', '☺'], ['nice', 'help', 'make', 'logos', 'things', '.'], ['great', '!', 'awesome', 'editor', 'super', 'easy'], ['sometimes', 'probably', 'low', 'internet', 'speed', ',', 'post', 'gets', 'download', 'app', 'still', 'shows', 'preparing', 'design'], ['took', 'forever', 'save', 'design', '.', 'end', ',', 'ca', \"n't\", 'saved', '.'], ['second', 'edit', ',', \"'m\", 'unable', 'save', 'picture', '.', 'worst', 'application', 'ever', '.'], ['way', 'much', 'work', 'add', 'text', 'simple', 'pics', '.'], ['love', 'app', ',', 'helped', 'business', 'photoshop', 'crashed'], ['poor', '...', 'unable', 'download', 'created', 'graphics', '....'], ['slow', 'af', ',', 'almost', 'finished', 'design', 'spending', 'much', 'time', 'crushed', 'didnt', 'save', '.', 'rubbish', 'app'], ['fabulous', 'app', '!', 'easy', 'use', 'get', 'results', '😁😁'], ['make', 'logo', ',', 'use', 'templates', 'app', '.', 'usefull', 'awesome', 'app', '!', 'must', 'download', '!'], [\"'s\", 'great', 'app', '.', 'create', 'whatever', 'want', 'also', 'many', 'photos'], ['soo', 'amazing', '...', 'many', 'things', '..', 'motivated', 'edit', 'youtube', 'channel', 'making', 'collage', 'templates', 'festivals', '.'], [\"n't\", '0', 'star', 'else', 'gave', '.', 'guys', 'saying', \"'s\", 'free', 'things', \"'s\", 'asking', 'payment', '.', 'please', 'dont', 'waste', 'time', 'guys'], ['easy', 'use', 'really', 'enjoy', 'make', 'aesthetic', 'picture', 'editing', 'app', 'thanks', 'canva💜🙏'], ['nice', 'templates', 'design', 'options'], ['fun', 'easy', 'use', ',', 'lots', 'great', 'designs'], ['effective', '&', 'useful', 'app', '..', 'fliers', 'natural', '&', 'só', 'cool', 'lots', 'features', '..', '🤗'], ['app', 'good', 'time', 'work', 'slowly', 'edit', ':', 'slow', 'working', 'problem', 'saught', 'helpful', 'app', '😄😄'], ['takes', 'tooo', 'long', 'download', 'designs', 'device', 'new', 'updates', 'app', 'keeps', 'lagging'], ['awesome', 'app', ',', 'relatively', 'easy', 'understand', 'use', '...', 'rate', '5', 'stars'], ['nice', 'app', 'love', ',', 'want', 'add', 'cut', 'paste', 'option', 'app', ',', '5', 'stars', 'way'], ['wonderful', '...', 'creativity', 'peak', '.', 'sorry', 'poor', 'review', '.', 'review', 'updated', '.'], ['fantastic', ',', 'easy', 'use', 'really', 'mobile', 'friendly', 'app', '.', 'thank', 'canva'], ['elements', ',', 'templates', 'texts', 'gooooood😘😘🔥🔥i', 'love', 'app', 'much'], ['amzing', 'beginners', 'also', 'pros', \"'s\", 'graphic', 'designing', '.'], ['lags', 'much', 'even', 'though', '3', 'ghz', 'phone', '.', \"'s\", 'good', 'lags'], ['nice', 'app', 'editing', 'videos', 'making', 'presentation'], ['really', 'great', 'app', 'making', 'designs'], ['easy', 'use', 'app', 'basic', 'tools', 'creativity', '.'], ['trying', 'buy', 'canva', 'pro', ',', 'constantly', 'showing', ',', 'card', 'unavailable', ',', 'actually', 'use', ',', 'please', 'tell', 'fix'], ['great', 'templates', 'available', 'easy', 'use'], ['convenient', 'updated', 'latest', 'features', '..', 'loved', '!', '!'], ['video', 'made', 'good', 'video', \"'s\", 'sound', 'output', 'clear.fix', '....'], ['easy', 'use', ',', 'user', 'friendly', 'time', 'saving'], ['awesome', 'app', 'everything', 'need', 'designinhg', 'whatever', 'need'], ['nice', 'user', 'interface', ',', 'easy', 'use', 'fun', '!'], ['great', 'app', 'like', 'app', 'make', 'many', 'assignment', 'school', 'everybody', 'tell', 'super', 'photo'], ['nice', 'use', 'need', 'interesting', 'logos', 'templates', 'gaming', '😀'], ['extraordinary', 'simplest', 'graphic', 'designing', 'app', 'ever', '(', 'app', 'make', 'graphic', 'designer', ')', '🔥🔥🔥'], ['magnificent', 'software', 'graphic', 'design', ',', 'best', 'ever', 'see', 'far'], ['exceptional', 'user', 'friendly', ',', 'complicated'], ['app', 'really', 'great', 'use.i', 'edit', 'design', 'want', '.'], ['review', \"'m\", 'trying', 'sign', 'ca', \"n't\", '.', 'get', 'code', 'try', 'finish', 'process', 'code', 'accepted', 'start', 'againg', '.', 'help', ',', 'please', '?'], ['best', 'graphic', 'designer', 'ever', '.', 'simply', 'love', 'app', '.'], ['good', 'app', 'app', 'thumnail', 'get', 'mark', 'app', 'canva', 'get', 'mark', '.', \"'s\", 'perfect💯', 'app'], ['mind', 'blowing', 'useful', 'app', 'poster', 'banner', 'story', 'many', 'things'], ['love', 'app', 'everything', '.', 'looking', 'app', 'edit', 'phone', 'create', 'thumbnail', 'right', 'app'], ['good', 'app', 'many', 'filters', '..', 'video', 'timing', 'short'], ['love', 'app', 'prefect', 'get', 'upgrade', 'app', 'many', 'features', \"'s\", 'amazing'], [\"'s\", 'super', 'easy', 'use', ',', 'many', 'possibilities', '.'], ['app', 'cool', '.', 'useful', 'app', 'editors', 'youtubers', '.', 'love', 'app'], ['internet', 'consuming', 'rate', 'high', '.', 'every', 'time', 'load', 'tamplets', '.', 'loaded', 'templets', '.'], ['awesome', 'app', 'creaters', 'even', 'youtube', ',', 'ig', ',', 'others', 'social', 'media', 'platforms', '...', 'fantastic', 'create', 'something', 'new❤️'], ['longer', 'publishes', 'insta', 'since', '3', 'weeks', '-', 'despite', 'uninstalling', 'trying', '...'], ['good', 'create', 'present', 'also', 'good', 'taking', 'subscription', 'also'], ['app', 'quite', 'dope', 'network', 'stable', '.'], ['really', 'love', 'canva', \"'s\", 'friendly-user', '.', 'anyone', 'resume', ',', 'cv', ',', 'etc', ',', 'hassle-free', '.'], ['good', 'data', 'wifi', '.', 'kindly', 'configure', 'offline', 'mode'], ['best', 'app', 'edit', 'pic', ',', 'make', 'posters', 'cards', 'thanks', 'alot'], ['app', 'keeps', 'hanging', 'restarting', 'everytime', 'try', 'edit', 'something', '..'], ['really', 'good', 'app', 'made', 'design', 'matter', 'minutes'], ['love', 'app', '!', '!', '!', 'possibilities', 'limitless', '!', '!'], ['pretty', 'good', 'easy', 'use', ',', \"'ve\", 'made', 'good', 'designs'], ['easy', 'use', 'always', 'great', 'results', '!'], ['love', 'app', '!', 'really', 'get', 'lost', 'world', 'creative', 'mind', '.'], ['amazing', 'try', '..', \"'s\", 'little', 'hard', 'use', 'uh', 'get', '.', \"'s\", 'easy'], ['great', 'app', 'designing', 'logos', ',', 'making', 'collages', '.'], [\"'s\", 'amazing', 'graphics', 'activity', 'loved', 'app', '.'], ['best', 'app', '.', 'using', 'free', 'version', '.', 'using', 'without', 'paying', 'money', '.', 'love', '.'], ['like', 'app', 'finding', 'difficult', 'save', 'design', '...', 'unable', 'save', 'design'], ['great', 'app', 'emergency', 'use', ',', 'case', \"n't\", 'access', 'canva', 'web'], ['convenient', 'make', 'posters', 'interesting'], ['really', 'helps', 'official', 'purposes', '.', 'recently', 'ca', \"n't\", 'download', 'anything', 'even', 'updating', 'app', '.', 'takes', 'forever', 'save', 'presentations', '.', 'get', 'solution', '?'], ['love', 'app', 'best', '120', 'bucks', 'spent', '!', 'design', 'everything', '!', 'watch', 'world', '!'], ['amazing', 'anyone', 'make', 'content', 'vedio', 'animation', 'graphics'], ['wide', 'range', 'edits', 'may', 'functions', 'finding', 'worth', 'buy', 'premium'], ['canva', 'easy', 'use', 'provide', 'tons', 'beautiful', 'templates'], ['days', \"'m\", 'enjoying', 'app', '.', 'noobs', 'also', 'edit', '.', 'simple', 'clean', '.', 'nice', 'work'], ['application', 'helpful', 'logo', 'design', 'etc'], ['ca', \"n't\", 'download', 'app', '.', 'one', '?', 'apart', 'download', 'glitches', ',', 'uninstalled', 'app', 'order', 'see', 'whether', 'would', 'help', 'ca', \"n't\", 'download', '.'], ['really', 'like', 'app', 'reason', 'behind', '4', 'star', 'problem', 'becoming', 'pro', '.'], ['quick', 'easy', 'use'], ['love', 'app', ',', 'easy', 'design', '.'], ['nice', 'app', 'edit', 'posters', ',', 'flyers', ',', 'cards.etc'], ['absolutely', 'love', 'app', '.', 'version', 'features', 'web', 'version', '.'], ['takes', 'much', 'time', 'save', 'image', '.', 'bad', 'experience', 'app', '.'], ['really', 'good', 'content', 'creating', '.', 'personally', 'like', 'editing', 'something', '...', '!', '!'], ['great', 'end', 'usefull', 'app', 'pictures', 'business', 'card', ',', 'logo', 'good', 'app'], ['awesome', 'app', 'found', 'editing', 'posters', ',', 'video', ',', 'on.thanks', 'canava', 'team'], ['please', 'provide', 'youtube', 'logo', '&', 'subscribe', 'features', 'help', 'add', 'thumbnail', '....', 'otherwise', \"'s\", 'good', '...'], ['highly', 'recommend', 'app', '..', \"'s\", 'easy', 'work', 'fast', '..', 'please', 'download', 'see', '...', 'really', 'deserves', '7', 'star', 'even', '5', '....'], ['good.but', 'improve', 'sketch', 'quality'], ['hard', 'navigate', 'tablet', '.', 'ca', \"n't\", 'use', 'copy/', 'paste', 'right', 'click'], ['like', 'app', '.', 'wanted', 'remove', 'background', ';', 'charged', 'money', \"n't\", 'know', '?', 'n', 'use', 'free', '.'], ['annoying', 'app', 'keeps', 'prompting', 'email'], ['always', 'technical', 'issues', 'works', 'downloaded', '.'], ['learn', 'basic', 'design', 'app.this', 'app', 'effective', 'effort', 'hobby.thanks', '.'], ['really', 'good', 'app', 'provides', 'many', 'many', 'premium', 'features', 'free', '.......'], ['easy', 'use', 'friendly', 'towards', 'apps'], ['amazing', 'app', 'making', 'certificates', ',', 'logos', ',', 'posters👍👍😘'], ['needs', 'short', 'video', 'animations', '.', 'like', 'existing', 'ones', 'though'], ['best', 'app', '.', 'use', 'web', 'designs', 'incredible', '.'], ['app', 'great', 'like', ',', 'easy', 'create', 'ever', 'want', 'create'], ['easy', 'use', 'many', 'designs', 'choose', '.'], ['wow', 'app', 'deserves', '5', 'stars', 'wonderful', 'app', 'really', 'amazing', 'created', 'logo', 'keep', 'developers'], ['worst', 'app', 'ever', '...', 'ca', \"n't\", 'download', 'video', 'even', 'though', \"'m\", 'connected', 'good', 'wifi', 'network', '...', 'saaaad', '😤😤😤'], ['welldone', 'far', 'canva', 'please', 'would', 'love', 'give', 'stroke', 'letters', 'make', 'possible', 'please', '#', 'textstroke', 'last', 'review', 'done', 'absolutely', 'excellent', '.', 'seek', 'help', 'create', 'online', 'repository', 'serve', 'portfolio', 'graphics', 'designer', ',', 'hope', 'would', 'answer', 'ralph', 'time', '😂'], ['best', 'app', 'design', 'flyer', 'many', 'options', 'create', 'dreams', '.'], [\"'s\", 'cool', 'app', ',', 'comfortable', ',', 'easy', ',', 'convenient', 'use', '.', \"'s\", 'worth', 'downloading', '.', 'please', ',', 'try', '.'], ['genuinely', 'life', 'saver', 'start', 'businesses', 'afford', 'graphic', 'designer', \"'s\", '.'], ['superb', 'app', '!', '!', '!', \"'m\", 'using', 'everything', '(', 'mean', 'editing', ')', '!', 'recommend', 'app', 'filmora9', '!', 'filmora9', 'copied', 'canva', '!', 'would', 'great', 'guys', 'remove', 'watermark', '!', \"'s\", 'review', '!'], ['easy', 'app', 'work', '.', 'great', 'small', 'businesses', '.'], ['really', 'good', 'birthday', 'presents', 'lot', 'cool', 'things', 'even', \"n't\", 'premium'], ['best', 'photo', 'editor', ',', 'poster', ',', 'banner', 'maker', ',', 'logo', 'maker', ',', 'awesome', 'app'], ['paid', 'canva', 'pro', ',', 'later', 'cancelled', 'subscription', 'still', 'getting', 'charged', 'subscription', \"n't\", 'use', 'cancel', \"'ve\", 'already', 'apparently', 'unsubscribed'], [\"'s\", 'awesome', 'mobile', 'app', 'graphic', 'design', '.', 'personally', 'love', '.'], ['nice', 'app', 'editing', ',', 'making', 'cover', 'photos', 'story'], ['take', 'long', 'time', 'loading', ',', 'bad', 'apps', '..', 'sync', 'google', 'acc', 'loading', 'never', 'end'], [\"'s\", 'amazig', 'using', 'canva', 'graphic', 'design', ',', 'though', 'still', 'improving', '.', \"'m\", 'gon', 'na', 'try', 'latest', 'design', 'options', '.', 'thanks'], ['convenient', 'easy', 'use'], ['nice', 'application', 'esys', 'photo', 'pamphlets', 'etc', 'editor'], ['content', 'app', 'german', '.', 'option', 'switch', 'english', '.', 'useless', '!'], ['download', 'edit', 'images', \"'s\", 'loading', 'showing', 'preparing', 'design', '1', 'hours', 'saving', 'mobile'], ['love', 'app', ',', 'flyers', 'always', 'best', 'get', 'great', 'feedback'], ['canva', 'adaptable', ',', 'useful', ',', 'stylish', 'templates', 'design', '.'], ['love', '!', 'always', 'use', 'business', 'ads', '.', ':', ')', 'worth', '!'], ['really', 'love', 'app', ',', 'able', 'make', 'job', 'announcement', 'using', 'amazing', 'design', 'templates👏'], ['open', 'app', 'first', ',', 'started', 'say', \"'update\", 'required', \"'\", '.', 'fix', 'please', '?'], ['could', \"n't\", 'even', 'log', \"'m\", 'downloading', 'today', 'ca', \"n't\", 'even', 'log', 'even', 'upon', 'good', 'smooth', 'network'], ['love', 'using', 'app', '!', 'created', 'wedding', 'invites', '!', 'super', 'easy', 'use'], ['saving', 'design', \"'s\", 'hanging', 'completing', 'save', ',', 'earlier', 'working', 'fine'], ['best', 'provides', 'readymade', 'template', 'easy', 'use'], ['good', 'easy', 'app', 'work', ',', 'user', 'friendly', '.'], ['quick', 'easy', 'tons', 'options', 'available', '.', 'nice', '!', '!', '!'], ['one', 'stop', 'app', 'u', 'make', 'alot', 'designs', 'presentation', '.', 'ca', \"n't\", 'find', 'anything', 'better', 'app', 'mobile'], [\"n't\", 'know', 'stucking', 'loading', 'playing', 'created', 'video', '..', 'please', 'tell', '..', '?'], ['like', 'user', 'interface', 'easy', 'use', 'templates', '!'], ['great', 'app', '...', 'design', 'anything', 'want'], ['truly', \"'s\", 'working-friendly', ',', 'useful', ',', 'light', 'app', 'creative', 'minds', ',', 'professionals', '.', 'thanks', 'launching.happy', 'designing', '...', '!', '!', '!'], ['wish', 'gradient', 'colors', '.', 'otherwise', ',', 'fantastic', 'app', '!'], ['dear', 'canva', \"'m\", 'unable', 'save', 'project', '.', 'good', 'internet', 'connection', 'still', \"'s\", 'stucking', 'solve', 'issue', 'early', 'possible'], ['give', 'four', 'stars', '.', \"'s\", 'amazing', 'app', 'though', 'takes', 'time', 'load', ',', 'recommend'], ['amazing', 'app', ',', 'intuitive', ',', 'useful', '.', 'absolutely', 'wonderful', '!'], ['app', 'amazing', ',', \"'s\", 'making', 'editing', 'pictures', 'amazing', 'good', ',', 'thanks'], ['definitely', 'helpful', ',', 'designing', 'ypur', 'first', 'logo', ',', 'business', 'card', ',', 'etc'], ['amazing', ',', 'love', ',', 'design', 'anything', '!', '!', '!', '!', 'recommend', 'getting', 'canva', 'pro'], ['wow', '!', 'amazing', 'app', 'oh', 'man', 'superstar', 'graphic', 'designing', 'side', \"'oh\", \"'\", 'thanks', 'alot', 'guys', '.'], ['really', 'helping', 'app', 'helpful', 'complete', 'requirements', 'smooth', 'way', '.'], ['nice', 'app', 'easy', 'free', 'everything', 'god', 'bless'], ['one', 'best', 'app', '👍', 'used', 'templates', 'frames', 'making', 'competitive', 'unfold', 'also', 'good'], ['absolutely', 'exquisite', '!', 'best', 'app', 'ever', 'used', 'social', 'media', 'content', '.', 'keep', 'good', 'work', 'guys', '.', '👌'], ['loving', 'easy', 'get', 'great', 'ideas', 'turn', 'something', 'amazing', '!', 'thank', 'developers', 'app', '!'], ['save', 'lots', 'time', 'really', 'useful', 'beginners', 'freelancer', '....', '🔥🔥🔥'], ['process', 'save', 'video', 'slow', '.', 'old', 'version', 'better', '..', '2020'], ['nice', 'say', 'excellent', 'app', 'video', 'editing', 'sometimes', 'takes', 'long', 'load', '.....'], ['brillent', '.', 'perfect', 'time', '.', 'free', 'templates', 'top', 'class'], ['great', 'app', 'quick', 'designs', 'phone'], ['super', 'app', 'use', 'make', 'presentation', 'video', 'love', 'thank', 'canva'], ['hi', 'developer', ',', 'design', 'saved', '?', 'put', 'many', 'pics', ',', 'dave', 'design', '.', 'help', 'please', '.', 'tq'], ['amaizing', '....', 'easy', 'use', '...', 'alot', 'free', 'templates', 'make', 'easy', 'to.use'], ['crash', 'time', 'take', 'much', 'time', 'opening', '.', 'annoying'], ['ca', \"n't\", 'even', 'download', 'image', '/', 'upload', 'instagram', '.', 'goes', 'infinite', 'wait'], ['loved', 'app', '!', \"'s\", 'really', 'good', 'app', 'r', 'new', 'technology', 'even', 'misunderstood', 'dis', 'app', '....', '100', '%', 'recommended', '👌'], ['easy', 'use', '.', 'creativity', 'level', 'soars', 'designs', 'offered', 'canva', '.'], ['worst', 'app', '.', 'disappointed', '.', 'installed', 'uninstalled', 'twice', 'nothing', 'improved', '.', 'app', 'shows', 'black', '...', 'working', 'properly', '.'], ['impossible', 'even', 'log', 'let', 'alone', 'use', '.'], ['nice', 'app', 'helpful', ',', 'working', 'perfectly', ',', 'keep', 'good', 'work'], ['recently', 'downloaded', '...', 'problem', 'saving', 'file', 'taking', 'much', 'time', '20/30', 'minutes', '..', 'plz', 'check', \"'s\", 'issue'], ['canva', 'flexible', 'software', 'beginners', 'easy', 'access', 'usedul', 'free', 'tools', 'use', '.'], ['one', 'best', 'app', 'designing', ',', 'collages', 'poster', 'much', 'beat', 'thing', 'app', 'consist', 'lots', 'templates'], ['worst', 'app', 'ever', 'want', 'reset', 'password', 'account', '.', 'told', 'get', 'right', 'code', 'sent', 'right', '.', 'says', 'wrong', '.', 'cant', 'log', '.', 'hate', 'hate', 'hate', 'hate', 'hate', 'hate', 'hate', 'hate', 'hate', 'app'], ['love', 'love', 'love', 'canva', '!', 'makes', 'editing', 'designing', 'soo', 'much', 'fun', 'easy', 'professional-looking', '!'], ['easy', 'use', 'useful', 'app', '.'], ['well', ',', 'try', 'make', 'design', 'nothing', 'works', 'today', '.', 'try', 'update', 'still', \"n't\", 'work', '.'], ['lovveeee', 'canvas', 'sm', 'make', 'pfp', 'banners', 'pintrest', 'cards', 'stuff', 'birthdays', 'holidays', 'rly', 'good', 'app', 'mostly', 'free'], ['could', \"n't\", 'replace', 'image', 'free', 'template', 'samsung', 'tablet', '..', 'image', 'superimpose', 'existing', 'pictures'], ['everything', 'free', 'pictures', 'v.', 'i.', 'p', 'love', 'thumbnail', 'maker', 'lot', '.'], ['trouble', 'uploading', 'google', 'drive', '.', 'great', '.'], ['photoshop', 'leave', 'thats', 'need', '!', 'awesome', 'shirt', 'design', 'posters'], ['nice', 'app', 'something', 'wrong', 'save', 'video', 'gif', '😢'], ['easy', 'ui', 'great', 'templates'], ['app', 'amazing', '.', 'done', 'good', 'design', '5', 'minutes', '!'], ['mind', \"'s\", 'brilliant', 'app', 'many', 'opportunities', 'us', 'recommend', 'everyone', '!', 'best', 'app', '.'], ['beginner', 'like', '.....', 'love', 'this🤩', '....', 'advertising', 'problems', 'sorted', 'out😊'], ['good', 'takes', 'time', 'understand', 'tha', 'feathers', '...', 'excellent', 'aap', 'making', 'pamphlets'], ['beautiful', 'work', 'easy', 'use', 'affordable', '!', '!', '!', 'love', '!', '!', '!'], ['sure', 'best', 'app', 'make', 'banners', ',', 'thumbnails', ',', 'logos'], ['thinking', 'good', 'edit', 'photo', 'whichever', 'like', 'features'], ['nothing', 'copied', 'pasted', 'writing', 'test', 'write', 'solve', 'problem'], ['easy', 'manuver', 'full', 'templates'], ['convenient', 'useful', '.', 'picture', 'video', 'editing', '..'], ['nice', 'app', '!', 'helps', 'much', '...', 'matter', \"'re\", 'graphic', 'designer', '.'], ['nice', 'way', 'make', 'beautiful', 'creative', 'designs', '.'], [\"'ve\", 'using', 'year', \"'s\", 'perfect', 'recommend', 'using', 'pc', 'laptop', 'phone', '.'], [\"'s\", 'awesome', 'app', '...', 'soooo', 'many', 'features', ',', 'videos', 'used', '...', 'loved', 'app'], ['helpful', 'application', '.', 'amazing', 'design', 'stlye', 'logo', 'create', 'application', '.'], ['amazingly', 'simple', '.', 'smart', '.', 'highly', 'advanced', 'features', '.', 'easiest', 'use'], ['much', 'satisfied', 'application', '.', 'awesome', 'editing', '.'], ['everything', 'going', 'well', 'badly', 'needed', 'dark', 'mode', 'canva', 'cause', 'switch', 'light', 'mode', 'whenever', 'use', 'canva'], ['canva', 'cool', 'making', 'basic', 'high', 'quality', 'designs'], ['best', 'apps', 'create', 'ads', ',', 'logo', '&', 'poster', '😉'], ['nice', 'app', 'edit', 'posters', 'flyers'], ['excellent', 'app', 'making', 'banners', '.', \"n't\", 'used', 'anything', 'else', '.'], ['easy', ',', 'simple', ',', 'free', 'without', 'watermarks', '.'], ['useful', 'user', 'friendly', '.'], ['easy', '1000+', 'free', 'tools', 'use', '.', 'thanks', 'canvas', '.'], ['using', 'canvas', ',', 'learning', 'lot', 'platform'], ['hello', 'use', 'apk', 'working', 'saying', 'connect', 'wifi', 'conneted', 'wifi', 'working.please', 'fix', 'problem'], ['easy', 'use', ',', 'many', 'templates', '...', 'free', '...'], ['ca', \"n't\", 'save', 'post', 'social', 'media', 'pages', 'anything', 'create', 'app', '.', 'please', 'fix', '.'], ['features', 'make', 'designs', 'easier', 'complete', 'quickly', 'added'], ['easy', 'use', 'lots', 'templates', 'features', '.'], ['cool', 'app', '.', 'good', 'businesses', '.', 'factor', 'ayeconet', 'curriculum'], ['small', 'buisness', 'even', 'larger', '..', 'great', 'way', 'create', 'promotion', 'items', 'easily'], ['templets', 'working', 'specially', 'lines', 'circles', '.'], ['great', 'program', 'make', 'visual', 'needed', 'business', 'personal', 'use', '!'], ['app', 'features', ',', 'one', 'best', 'editing', 'app', ',', 'searched', 'best', 'video', 'editor', 'app', ',', 'first', 'app', 'seen', 'screen.i', 'suggest', ',', 'one', 'interest', 'editing', ',', 'install', 'canva', 'app'], [\"n't\", 'seen', 'app', 'like', 'wide', 'variety', 'options', 'editing', '.', '👌👌👌'], ['round', 'shape', 'logo', 'design', 'available', '.', 'working', 'slowly'], ['canva', 'app', 'really', 'cool', 'awesome', ',', 'lots', 'things', ',', 'different', 'designs', ',', \"'s\", 'really', 'really', 'good'], ['attractive', 'templates', 'great', 'app', 'integration', 'finishing', 'task', '......', 'highly', 'recommended', 'creators'], ['perfect', 'works', 'phone', '.'], ['easy', 'use', 'free', '!', '!', '!'], ['far', 'good', ',', 'first', 'took', 'hours', 'download', 'prepare', '.', 'sign', 'cool', '.', 'next', 'creation', 'downloaded', '20', 'seconds'], ['good', 'app', 'designing', 'fonts', 'icons', 'ect', '..', 'well', 'user', 'friendly', '.', 'must', 'download'], ['love', '.', \"'s\", 'easy', 'work', 'lot', 'free', 'templates', 'try', '.'], ['love', '!', 'clear', 'photos', 'paste', 'photo', 'another', 'one', \"'s\", 'si', 'neat', 'job', 'love', '!', '💘'], ['app', 'nice', 'times', 'app', \"n't\", 'working', 'properly'], ['perfect', 'application', 'designing', ',', 'extremely', 'easy', 'use'], ['best', 'platform', 'designing', 'poster', '.', 'using', 'since', 'long', '❤️'], ['works', 'pretty', 'darn', 'well', 'easy', 'use', '.', 'really', 'complaints', 'yet', '.'], ['rarely', 'review', 'app', '..', 'guys', 'great', 'job', '.', 'come', 'say', 'thank', '!', 'keep', '.'], ['user', 'friendly', '.', 'idiot', 'savant', ',', 'simple', 'things', 'hard', '.', 'complex', 'things', 'easier'], ['trash', '.', 'wo', \"n't\", 'even', 'start', '.', 'stuck', 'canva', 'logo', '.', 'wo', \"n't\", 'even', 'let', 'sign', '.'], ['app', 'super', 'helpful', ',', 'simple', ',', 'practical', '.', 'great', 'app', '👍👍'], ['really', 'good', 'app', 'interested', 'making', 'intros/outros', '.'], ['amazing', 'application', '.', 'sometimes', 'slow'], ['thanks', '1000x', 'creator', 'apps', '.', 'help', 'thousands', 'student', ',', 'art', 'video', 'creator', 'design', 'amazing', 'attractive', 'banner', ',', 'poster', 'image', '.', 'thank', 'canva', '.'], ['good', 'experience.just', 'add', 'word', 'shapes'], ['app', 'good', \"'s\", 'trash', '.', 'never', 'lets', 'download', 'designs', '.'], ['love', 'omggggg', '....', 'really', 'good', 'aesthetic', 'collage', 'making'], ['app', 'comes', 'major', 'benefits', '.', 'templates', 'useful', '.'], ['great', 'easily', 'creating', 'quick', ',', 'engaging', 'content', '.'], ['know', 'nothing', 'design', ',', 'mock', 'item', 'making', 'someone', '.', 'went', 'perfectly', '.'], ['good', 'app', ',', 'saving', 'designs', ',', 'app', 'slows'], ['help', 'making', 'perfectly', '.', 'easy', 'making', 'pictures', '.'], ['canva', 'team', ',', 'make', 'sure', 'work', 'saved', '.', '3hours', 'trying', 'save', 'work', ',', 'nothing', '.', 'good', 'app', ',', 'poor', 'storage', 'option'], ['loved', ',', 'found', 'problem', 'pictures', 'fit', 'projects', '.'], [\"'ll\", 'used', 'app', 'two', 'days', 'app', 'best', 'making', 'logo', 'resume', 'college', 'photos', 'lots', 'things'], ['nice', 'logo', ',', 'thumbnails', 'editing', 'facebook', 'instagram', 'tube'], ['useful', 'editing', 'app', 'change', 'text', 'background', 'fill', 'colour', 'change', 'app', '...', 'plz', 'add', 'option'], ['ca', \"n't\", 'get', 'app', 'waited', '2', 'minutes', ',', 'best', 'way', 'could', 'think', 'since', \"n't\", 'know', 'could', 'report', 'problem', 'not.i', 'would', 'give', 'good', 'review', 'could', 'even', 'get', 'app🤷'], [\"'s\", 'superb', 'application', '...', 'u', 'work', 'related', 'graphic', 'designing', '..'], ['consumes', 'lot', 'data', 'download', 'problems', 'takes', 'lot', 'time', 'download', 'gets', 'stuck', 'download'], ['use', 'app', 'like', 'create', 'marketing', 'material', ',', 'anyone', '!', 'easy', 'use', '.', 'definitely', 'recommended', '.'], ['good', '.', 'gets', 'creative', 'side', 'going', '.', 'works', 'well', 'internet', 'auto', 'saves', 'work'], ['kind', 'lovely', 'easy', 'use', '.', \"'s\", 'everyone', 'amateur', 'expert', '!'], [\"'m\", 'issues', 'canvas', ',', 'keeps', 'saying', 'offline', 'loading', '.'], ['downloading', 'image', 'png', 'format', 'quality', 'image', 'decreases', 'badly', 'take', 'screenshots', 'post', 'post', 'facebook', 'plz', 'look', 'issue'], ['overall', 'good', 'app.nice', 'handle', 'smoothly.but', 'bug.developer', 'must', 'fix'], [\"'s\", 'easy', 'make', 'covers', 'want', 'make'], ['app', 'best', 'app', 'ever', 'used', '.', 'requesting', 'let', 'us', 'add', 'music', 'also', '.', 'let', 'us', 'search', 'music', 'add', '.', '👌👌', '.', 'keep'], ['mobile', 'tablets', ',', 'really', 'dificcult', 'use', ',', 'pls', 'improve', ':3'], ['superb', 'app', '...', 'enjoyed', 'lot', 'creating', 'many', 'quotation', 'cards', '...'], ['super', 'worst', 'app', '.', 'unable', 'add', 'images', '.', 'app', 'continuesly', 'crash', '.'], ['canva', '...', 'canva', '..', 'canva', '..', '🤩🤩🤩🤞🤞👌👌👌', '..', 'awesome', 'best', 'ever', 'tool', 'grow', 'business', '...', 'doubt', 'creative', 'people', 'work', 'canva', 'team', '...', 'blessings', 'developed', 'app', '...', 'thank', 'much', '..', 'keep', 'good', 'work', '👍👍', '..', 'god', 'bless'], ['gud', 'app', 'useful', 'children', 'design', 'project'], [\"'s\", 'superb', 'application', 'editing', 'continue', 'practice', 'help', 'guys', 'create', 'professional', 'editing', 'canva', '.'], ['love', 'much', 'sooo', 'easy', 'use', '!'], ['using', 'app', 'easy', 'fast', '!', 'made', 'flyer', 'less', '10', 'min', '!'], ['amazing', 'application', '...', 'loved', 'features', 'easy', 'reliable', 'use', '👌👍'], ['downloading', 'part', 'takes', 'much', 'time', \"n't\", 'even', 'finish', '...'], ['good', 'application', 'editing', 'creating', 'resume'], ['best', 'app', 'edit', 'template', ',', 'thumbnail', 'photos', 'free', '.', 'really', 'like', 'app'], [\"'s\", 'really', 'easy', 'use', '!', 'also', 'phone', 'version', 'efficient', '.'], ['interesting', 'app', '.', 'helps', 'lot', 'school', 'project', '.', 'install', '.', 'like', 'app', 'much'], ['great', 'app', 'work', '💯', \"'s\", 'even', 'better', 'use', 'know', '.', 'keep', 'good', 'work', 'going'], ['even', 'choose', 'tempalte', 'accoding', 'ly', 'still', 'fit', '..', 'eg', 'wahtsapp', 'story', 'post', 'design', 'fit', 'story', 'page'], ['absolutely', 'amazing', 'lifesaver', 'teachers', '.'], ['nice', 'many', 'times', 'shows', 'error', 'opening', 'ppt', '.', 'school', 'project', 'disturbed', '.'], ['much', 'lag', '.', 'always', 'stuck', 'starting', 'page', '.', 'worst', 'app', '.', \"n't\", 'download'], ['nice', 'app', 'college', 'work', '.', 'many', 'features', 'templates', 'work', '.', 'loved', 'it❤️'], ['teacher', 'much', 'school', 'year', '!', 'love', '.']]\n"
     ]
    }
   ],
   "source": [
    "#Using english language stopwords\n",
    "stopw = stopwords.words('english')\n",
    "\n",
    "#Displying the common words of english language\n",
    "stopw[:10]\n",
    "\n",
    "#Using list comprehension to remove stopwords from tokens list\n",
    "tokens = [[word for word in t if word not in stopw] for t in tokens]\n",
    "print(tokens)"
   ]
  },
  {
   "cell_type": "code",
   "execution_count": 30,
   "id": "bf961052",
   "metadata": {},
   "outputs": [
    {
     "name": "stdout",
     "output_type": "stream",
     "text": [
      "Tokens before removing punctuation ['unable', 'save', 'work', '.', 'nothing', 'works', ':', '(']\n",
      "Tokens after removing punctuation ['unable', 'save', 'work', 'nothing', 'works']\n"
     ]
    }
   ],
   "source": [
    "#Removing punctuations using regexptokenizer\n",
    "print(\"Tokens before removing punctuation\", tokens[13])\n",
    "tokenizer = RegexpTokenizer(r'\\w+')\n",
    "tokens1 = [[\"\".join(tokenizer.tokenize(word)) for word in t\n",
    "          if len(tokenizer.tokenize(word)) > 0] for t in tokens]\n",
    "print(\"Tokens after removing punctuation\", tokens1[13])"
   ]
  },
  {
   "cell_type": "markdown",
   "id": "6d01fcf6",
   "metadata": {},
   "source": [
    "## Stemming"
   ]
  },
  {
   "cell_type": "markdown",
   "id": "9f32e7cf",
   "metadata": {},
   "source": [
    "A word stem is part of a word. It is sort of a normalization idea, but linguistic. For example, the stem of the word waiting is wait. We basically get the root word of the word used in the sentence using stemming process. Lancaster stemmer is more aggresive than the porter stemmer. Purpose of stemming is to find different unique words and reduce it's count. This makes training easy in the model."
   ]
  },
  {
   "cell_type": "code",
   "execution_count": 31,
   "id": "4bd68fea",
   "metadata": {},
   "outputs": [
    {
     "name": "stdout",
     "output_type": "stream",
     "text": [
      "Tokens before stemming ['unable', 'save', 'work', 'nothing', 'works']\n",
      "Tokens after stemming ['unabl', 'save', 'work', 'noth', 'work']\n"
     ]
    }
   ],
   "source": [
    "#Importing both the stemmers\n",
    "porter = PorterStemmer()\n",
    "lancaster = LancasterStemmer()\n",
    "\n",
    "print(\"Tokens before stemming\", tokens1[13])\n",
    "tokens_stemmed = [[porter.stem(word) for word in t] for t in tokens1]\n",
    "print(\"Tokens after stemming\", tokens_stemmed[13])"
   ]
  },
  {
   "cell_type": "markdown",
   "id": "410e668b",
   "metadata": {},
   "source": [
    "## Word Count Distribution"
   ]
  },
  {
   "cell_type": "markdown",
   "id": "42442d66",
   "metadata": {},
   "source": [
    "Here we will count all the unique tokens by flattening the list of tokens"
   ]
  },
  {
   "cell_type": "code",
   "execution_count": 32,
   "id": "09b95d82",
   "metadata": {},
   "outputs": [
    {
     "name": "stdout",
     "output_type": "stream",
     "text": [
      "Length of flattened tokens:  13782 \n",
      "\n",
      "Length of unique counts:  1720 \n",
      "\n",
      "Most common tokens:  [('app', 932), ('use', 474), ('design', 349), ('easi', 293), ('s', 240), ('love', 220), ('good', 219), ('edit', 191), ('make', 190), ('great', 184)] \n",
      "\n"
     ]
    }
   ],
   "source": [
    "flat_tokens_stemmed = [word for t in tokens_stemmed for word in t]\n",
    "print(\"Length of flattened tokens: \", len(flat_tokens_stemmed), \"\\n\")\n",
    "\n",
    "#Counting flattened tokens using counter function from collections\n",
    "counts = Counter(flat_tokens_stemmed)\n",
    "print(\"Length of unique counts: \", len(counts), \"\\n\")\n",
    "\n",
    "#Most common tokens\n",
    "m_com = counts.most_common(10)\n",
    "print(\"Most common tokens: \", m_com, \"\\n\")"
   ]
  },
  {
   "cell_type": "markdown",
   "id": "a42f86fb",
   "metadata": {},
   "source": [
    "## Binary Bag of Words"
   ]
  },
  {
   "cell_type": "code",
   "execution_count": 33,
   "id": "1d22d2bf",
   "metadata": {},
   "outputs": [
    {
     "name": "stdout",
     "output_type": "stream",
     "text": [
      "Length of cleaned reviews 1500 \n",
      "\n",
      "Printing example of a cleaned review:  unabl save work noth work\n"
     ]
    }
   ],
   "source": [
    "#Joining the stemmed tokens into sentences\n",
    "cleaned_reviews = [\" \".join(t) for t in tokens_stemmed]\n",
    "print(\"Length of cleaned reviews\", len(cleaned_reviews), \"\\n\")\n",
    "print(\"Printing example of a cleaned review: \", cleaned_reviews[13])"
   ]
  },
  {
   "cell_type": "markdown",
   "id": "955890e3",
   "metadata": {},
   "source": [
    "Whenever we apply any algorithm in NLP, it works on numbers. We cannot directly feed our text into that algorithm. Hence, Bag of Words model is used to preprocess the text by converting it into a bag of words, which keeps a count of the total occurrences of most frequently used words. We're going to use both, binary and actual bag of words model. We'll also add a threshold to check on the words which are appearing below the threshold and to envict them from model training."
   ]
  },
  {
   "cell_type": "code",
   "execution_count": 34,
   "id": "412930d2",
   "metadata": {
    "scrolled": true
   },
   "outputs": [
    {
     "name": "stdout",
     "output_type": "stream",
     "text": [
      "Shape of sparse matrix:  (1500, 413) \n",
      "\n",
      "Printing unique values of vocabulary:  413 \n",
      "\n",
      "Shape of X_array:  (1500, 413) \n",
      "\n"
     ]
    }
   ],
   "source": [
    "#Initializing the count vectorizer\n",
    "vect = CountVectorizer(binary = True, min_df = 5)\n",
    "\n",
    "#Creating the sparse matrix of bag of words\n",
    "X = vect.fit_transform(cleaned_reviews)\n",
    "print(\"Shape of sparse matrix: \", X.shape, \"\\n\")\n",
    "\n",
    "#Finding the unique values in the vocabulary\n",
    "print(\"Printing unique values of vocabulary: \", len(vect.vocabulary_), \"\\n\")\n",
    "\n",
    "#Converting the sparse matrix to array (not recommended for large datasets)\n",
    "X_array = X.toarray()\n",
    "print(\"Shape of X_array: \", X_array.shape, \"\\n\")"
   ]
  },
  {
   "cell_type": "markdown",
   "id": "80a9f5ac",
   "metadata": {},
   "source": [
    "<b> Converting the depended variables to numbers </b>"
   ]
  },
  {
   "cell_type": "code",
   "execution_count": 35,
   "id": "c3c66a84",
   "metadata": {},
   "outputs": [
    {
     "name": "stdout",
     "output_type": "stream",
     "text": [
      "0       Negative\n",
      "1       Positive\n",
      "2       Negative\n",
      "3       Negative\n",
      "4       Negative\n",
      "          ...   \n",
      "1495    Positive\n",
      "1496    Negative\n",
      "1497    Negative\n",
      "1498    Positive\n",
      "1499    Positive\n",
      "Name: Sentiment, Length: 1500, dtype: object\n"
     ]
    },
    {
     "data": {
      "text/plain": [
       "0       0\n",
       "1       1\n",
       "2       0\n",
       "3       0\n",
       "4       0\n",
       "       ..\n",
       "1495    1\n",
       "1496    0\n",
       "1497    0\n",
       "1498    1\n",
       "1499    1\n",
       "Name: Sentiment, Length: 1500, dtype: int64"
      ]
     },
     "execution_count": 35,
     "metadata": {},
     "output_type": "execute_result"
    }
   ],
   "source": [
    "#Converting the dependent varaible to 0s and 1s\n",
    "print(data[\"Sentiment\"])\n",
    "data[\"Sentiment\"] = data[\"Sentiment\"].apply(lambda x: 1 if x==\"Positive\" else 0)\n",
    "\n",
    "y = data[\"Sentiment\"]\n",
    "y"
   ]
  },
  {
   "cell_type": "markdown",
   "id": "8c513213",
   "metadata": {},
   "source": [
    "<b>Splitting the data into train and test sets</b>"
   ]
  },
  {
   "cell_type": "code",
   "execution_count": 36,
   "id": "5332f419",
   "metadata": {},
   "outputs": [],
   "source": [
    "X_train, X_test, y_train, y_test = train_test_split(X, y, test_size = 0.2, stratify = y, random_state = 42)"
   ]
  },
  {
   "cell_type": "markdown",
   "id": "4b9dfb83",
   "metadata": {},
   "source": [
    "<b>Building the Logistic Regression Model for binary bag of words</b>"
   ]
  },
  {
   "cell_type": "code",
   "execution_count": 37,
   "id": "cf098728",
   "metadata": {},
   "outputs": [
    {
     "name": "stdout",
     "output_type": "stream",
     "text": [
      "Accuracy of trained model:  0.9608333333333333\n",
      "Accuracy of tested model:  0.89\n"
     ]
    }
   ],
   "source": [
    "model1 = LogisticRegression()\n",
    "\n",
    "model1.fit(X_train, y_train)\n",
    "\n",
    "train_pred1 = model1.predict(X_train)\n",
    "\n",
    "accuracy1 = accuracy_score(y_train, train_pred1) \n",
    "print(\"Accuracy of trained model: \", accuracy1)\n",
    "\n",
    "test_pred1 = model1.predict(X_test)\n",
    "accuracy1_test = accuracy_score(y_test, test_pred1)\n",
    "print(\"Accuracy of tested model: \", accuracy1_test)\n",
    "\n",
    "#Saving the model and the vectorizer\n",
    "with open(\"C://Users/DELL/Desktop/Binary_count_model/binary_count_vect\", \"wb\") as f:\n",
    "    pickle.dump(vect, f)\n",
    "with open(\"C://Users/DELL/Desktop/Binary_count_model/binary_count_model\", \"wb\") as f:\n",
    "    pickle.dump(model1, f)"
   ]
  },
  {
   "cell_type": "markdown",
   "id": "be86e53c",
   "metadata": {},
   "source": [
    "## Bag of words without binary"
   ]
  },
  {
   "cell_type": "code",
   "execution_count": 38,
   "id": "e2489ed9",
   "metadata": {},
   "outputs": [
    {
     "name": "stdout",
     "output_type": "stream",
     "text": [
      "Shape of sparse matrix:  (1500, 413) \n",
      "\n",
      "Printing unique values of vocabulary:  413 \n",
      "\n",
      "Shape of X1_array:  (1500, 413) \n",
      "\n",
      "2\n"
     ]
    }
   ],
   "source": [
    "#Initializing the count vectorizer without the binary hyperparameter\n",
    "vect1 = CountVectorizer(min_df = 5)\n",
    "\n",
    "#Creating the sparse matrix of bag of words\n",
    "X1 = vect1.fit_transform(cleaned_reviews)\n",
    "print(\"Shape of sparse matrix: \", X1.shape, \"\\n\")\n",
    "\n",
    "#Finding the unique values in the vocabulary\n",
    "print(\"Printing unique values of vocabulary: \", len(vect1.vocabulary_), \"\\n\")\n",
    "\n",
    "#Converting the sparse matrix to array (not recommended for large datasets)\n",
    "X1_array = X1.toarray()\n",
    "print(\"Shape of X1_array: \", X1_array.shape, \"\\n\")\n",
    "\n",
    "vect1.get_feature_names().index(\"work\")\n",
    "print(X1_array[13, 401])"
   ]
  },
  {
   "cell_type": "markdown",
   "id": "e69a77a7",
   "metadata": {},
   "source": [
    "Here, we see the value of index with word 'work' is 2 because this word appears twice in the 13th review. This is difference between binary and non-binary bag of words. In binary the index will be always 0 or 1, but non-binary model counts the number of occurences."
   ]
  },
  {
   "cell_type": "markdown",
   "id": "29cadb91",
   "metadata": {},
   "source": [
    "<b>Splitting the data into train and test sets</b>"
   ]
  },
  {
   "cell_type": "code",
   "execution_count": 39,
   "id": "b2d16187",
   "metadata": {},
   "outputs": [],
   "source": [
    "X1_train, X1_test, y1_train, y1_test = train_test_split(X1, y, test_size = 0.2, stratify = y, random_state = 42)"
   ]
  },
  {
   "cell_type": "markdown",
   "id": "da0e135c",
   "metadata": {},
   "source": [
    "<b>Building the Logistic Regression Model for non-binary bag of words</b>"
   ]
  },
  {
   "cell_type": "code",
   "execution_count": 40,
   "id": "ee3a8959",
   "metadata": {},
   "outputs": [
    {
     "name": "stdout",
     "output_type": "stream",
     "text": [
      "Accuracy of trained model:  0.9566666666666667\n",
      "Accuracy of tested model:  0.8833333333333333\n"
     ]
    }
   ],
   "source": [
    "model2 = LogisticRegression()\n",
    "\n",
    "model2.fit(X1_train, y1_train)\n",
    "\n",
    "train_pred2 = model2.predict(X1_train)\n",
    "\n",
    "accuracy2 = accuracy_score(y1_train, train_pred2) \n",
    "print(\"Accuracy of trained model: \", accuracy2)\n",
    "\n",
    "test_pred2 = model2.predict(X1_test)\n",
    "accuracy2_test = accuracy_score(y1_test, test_pred2)\n",
    "print(\"Accuracy of tested model: \", accuracy2_test)\n",
    "\n",
    "#Saving the model and the vectorizer\n",
    "with open(\"C://Users/DELL/Desktop/Binary_count_model/non_binary_count_vect\", \"wb\") as f:\n",
    "    pickle.dump(vect1, f)\n",
    "with open(\"C://Users/DELL/Desktop/Binary_count_model/non_binary_count_model\", \"wb\") as f:\n",
    "    pickle.dump(model2, f)"
   ]
  },
  {
   "cell_type": "markdown",
   "id": "6a9c94ca",
   "metadata": {},
   "source": [
    "## N-grams"
   ]
  },
  {
   "cell_type": "markdown",
   "id": "198fc645",
   "metadata": {},
   "source": [
    "N-Grams is a set of 1 or more consecutive sequence of items that occur next to each other. As mentioned above, N is a numerical value that implies the n items of sequence of text."
   ]
  },
  {
   "cell_type": "code",
   "execution_count": 41,
   "id": "c1d6f1a2",
   "metadata": {},
   "outputs": [
    {
     "name": "stdout",
     "output_type": "stream",
     "text": [
      "Shape of sparse matrix:  (1500, 666) \n",
      "\n",
      "Printing unique values of vocabulary:  666 \n",
      "\n",
      "Shape of X2_array:  (1500, 666) \n",
      "\n"
     ]
    }
   ],
   "source": [
    "#Initializing the count vectorizer for n_gram \n",
    "vect2 = CountVectorizer(min_df = 5, ngram_range=(1, 3))\n",
    "\n",
    "#Creating the sparse matrix of bag of words\n",
    "X2 = vect2.fit_transform(cleaned_reviews)\n",
    "print(\"Shape of sparse matrix: \", X2.shape, \"\\n\")\n",
    "\n",
    "#Finding the unique values in the vocabulary\n",
    "print(\"Printing unique values of vocabulary: \", len(vect2.vocabulary_), \"\\n\")\n",
    "\n",
    "#Converting the sparse matrix to array (not recommended for large datasets)\n",
    "X2_array = X2.toarray()\n",
    "print(\"Shape of X2_array: \", X2_array.shape, \"\\n\")"
   ]
  },
  {
   "cell_type": "markdown",
   "id": "19c7c990",
   "metadata": {},
   "source": [
    "<b>Splitting the data into train and test sets</b>"
   ]
  },
  {
   "cell_type": "code",
   "execution_count": 42,
   "id": "02b0ba01",
   "metadata": {},
   "outputs": [],
   "source": [
    "X2_train, X2_test, y2_train, y2_test = train_test_split(X2, y, test_size = 0.2, stratify = y, random_state = 42)"
   ]
  },
  {
   "cell_type": "markdown",
   "id": "7a12f8e4",
   "metadata": {},
   "source": [
    "<b>Building the Logistic Regression Model for n_gram bag of words</b>"
   ]
  },
  {
   "cell_type": "code",
   "execution_count": 43,
   "id": "d2a64a63",
   "metadata": {},
   "outputs": [
    {
     "name": "stdout",
     "output_type": "stream",
     "text": [
      "Accuracy of trained model:  0.9716666666666667\n",
      "Accuracy of tested model:  0.8933333333333333\n"
     ]
    }
   ],
   "source": [
    "model3 = LogisticRegression()\n",
    "\n",
    "model3.fit(X2_train, y2_train)\n",
    "\n",
    "train_pred3 = model3.predict(X2_train)\n",
    "\n",
    "accuracy3 = accuracy_score(y2_train, train_pred3) \n",
    "print(\"Accuracy of trained model: \", accuracy3)\n",
    "\n",
    "test_pred3 = model3.predict(X2_test)\n",
    "accuracy3_test = accuracy_score(y2_test, test_pred3)\n",
    "print(\"Accuracy of tested model: \", accuracy3_test)\n",
    "\n",
    "#Saving the model and the vectorizer\n",
    "with open(\"C://Users/DELL/Desktop/Binary_count_model/n_gram_vect\", \"wb\") as f:\n",
    "    pickle.dump(vect2, f)\n",
    "with open(\"C://Users/DELL/Desktop/Binary_count_model/n_gram_model\", \"wb\") as f:\n",
    "    pickle.dump(model3, f)"
   ]
  },
  {
   "cell_type": "markdown",
   "id": "0b8e3b04",
   "metadata": {},
   "source": [
    "## TF-IDF"
   ]
  },
  {
   "cell_type": "markdown",
   "id": "76903f6d",
   "metadata": {},
   "source": [
    "<b> Vectorization techniques which we have used so far considers all wors equally, so we need to define the importance of the words. We define Term Frequency (TF), given a token and a document to get the importance of words for each document. In our case, documents are reviews. We also need to define Inverse Document Frequency (IDF), so that words which occurs uniquely are also weighted properly. After defining both of these terms, the final importance of each word is given by product of TF and IDF.</b>"
   ]
  },
  {
   "cell_type": "code",
   "execution_count": 44,
   "id": "1c893209",
   "metadata": {},
   "outputs": [
    {
     "name": "stdout",
     "output_type": "stream",
     "text": [
      "Shape of sparse matrix:  (1500, 413)\n"
     ]
    }
   ],
   "source": [
    "#Initializing the TF-IDF vectorizer for TF-IDF computation \n",
    "vect3 = TfidfVectorizer(min_df = 5)\n",
    "\n",
    "#Creating the sparse matrix of bag of words\n",
    "X3 = vect3.fit_transform(cleaned_reviews)\n",
    "print(\"Shape of sparse matrix: \", X3.shape)"
   ]
  },
  {
   "cell_type": "markdown",
   "id": "4c8a0fac",
   "metadata": {},
   "source": [
    "<b>Splitting the data into train and test sets</b>"
   ]
  },
  {
   "cell_type": "code",
   "execution_count": 45,
   "id": "bbce8cd9",
   "metadata": {},
   "outputs": [],
   "source": [
    "X3_train, X3_test, y3_train, y3_test = train_test_split(X3, y, test_size = 0.2, stratify = y, random_state = 42)"
   ]
  },
  {
   "cell_type": "markdown",
   "id": "6ace30bb",
   "metadata": {},
   "source": [
    "<b>Building the Logistic Regression Model using TF-IDF computation</b>"
   ]
  },
  {
   "cell_type": "code",
   "execution_count": 46,
   "id": "9b003a99",
   "metadata": {},
   "outputs": [
    {
     "name": "stdout",
     "output_type": "stream",
     "text": [
      "Accuracy of trained model:  0.935\n",
      "Accuracy of tested model:  0.8766666666666667\n"
     ]
    }
   ],
   "source": [
    "model4 = LogisticRegression()\n",
    "\n",
    "model4.fit(X3_train, y3_train)\n",
    "\n",
    "train_pred4 = model4.predict(X3_train)\n",
    "\n",
    "accuracy4 = accuracy_score(y3_train, train_pred4) \n",
    "print(\"Accuracy of trained model: \", accuracy4)\n",
    "\n",
    "test_pred4 = model4.predict(X3_test)\n",
    "accuracy4_test = accuracy_score(y3_test, test_pred4)\n",
    "print(\"Accuracy of tested model: \", accuracy4_test)\n",
    "\n",
    "#Saving the model and the vectorizer\n",
    "with open(\"C://Users/DELL/Desktop/Binary_count_model/tf_idf_vect\", \"wb\") as f:\n",
    "    pickle.dump(vect3, f)\n",
    "with open(\"C://Users/DELL/Desktop/Binary_count_model/tf_idf_model\", \"wb\") as f:\n",
    "    pickle.dump(model4, f)"
   ]
  },
  {
   "cell_type": "markdown",
   "id": "e28fa1fe",
   "metadata": {},
   "source": [
    "<b>There is not much of improvement in here when compared with N-grams model, infact N-grams seems to be best till now. </b>"
   ]
  },
  {
   "cell_type": "markdown",
   "id": "384b5e79",
   "metadata": {},
   "source": [
    "## Prediction for new reviews (not from training set)"
   ]
  },
  {
   "cell_type": "code",
   "execution_count": 47,
   "id": "d15b8d51",
   "metadata": {},
   "outputs": [],
   "source": [
    "#Sample test reviews\n",
    "\n",
    "test_review1 = \"this is a truly amazing app, best for those who havw content but don't know how to express it in a good shareable manner. Thanks Team Canva for such a great app.\"\n",
    "\n",
    "test_review2 = 'Its the worst app ever I save my design lts not save'"
   ]
  },
  {
   "cell_type": "code",
   "execution_count": 48,
   "id": "2e634a78",
   "metadata": {
    "scrolled": true
   },
   "outputs": [
    {
     "name": "stdout",
     "output_type": "stream",
     "text": [
      "Test Review 1:  [\"this is a truly amazing app, best for those who havw content but don't know how to express it in a good shareable manner. Thanks Team Canva for such a great app.\"] \n",
      "\n",
      "Test Review 2:  ['Its the worst app ever I save my design lts not save'] \n",
      "\n",
      "Test Review 1 in lower case:  [\"this is a truly amazing app, best for those who havw content but don't know how to express it in a good shareable manner. thanks team canva for such a great app.\"] \n",
      "\n",
      "Test Review 2 in lower case:  ['its the worst app ever i save my design lts not save'] \n",
      "\n"
     ]
    }
   ],
   "source": [
    "#Loading the best model (N-gram)\n",
    "vect5 = pickle.load(open('C://Users/DELL/Desktop/Binary_count_model/n_gram_vect', 'rb'))\n",
    "model5 = pickle.load(open('C://Users/DELL/Desktop/Binary_count_model/n_gram_model', 'rb'))\n",
    "\n",
    "#Converting the test reviews to the batch of one record\n",
    "test_review1 = [test_review1]\n",
    "print('Test Review 1: ', test_review1, \"\\n\")\n",
    "test_review2 = [test_review2]\n",
    "print('Test Review 2: ', test_review2, \"\\n\")\n",
    "\n",
    "#Converting to the lower case\n",
    "test_review1 = [r.lower() for r in test_review1]\n",
    "print('Test Review 1 in lower case: ', test_review1, \"\\n\")\n",
    "test_review2 = [r.lower() for r in test_review2]\n",
    "print('Test Review 2 in lower case: ', test_review2, \"\\n\")"
   ]
  },
  {
   "cell_type": "markdown",
   "id": "ab52dc3c",
   "metadata": {},
   "source": [
    "<b> NLP Pre-processing for bag of words model</b>"
   ]
  },
  {
   "cell_type": "code",
   "execution_count": 49,
   "id": "afb0f0b8",
   "metadata": {
    "scrolled": false
   },
   "outputs": [
    {
     "name": "stdout",
     "output_type": "stream",
     "text": [
      "Tokens1:  [['this', 'is', 'a', 'truly', 'amazing', 'app', ',', 'best', 'for', 'those', 'who', 'havw', 'content', 'but', 'do', \"n't\", 'know', 'how', 'to', 'express', 'it', 'in', 'a', 'good', 'shareable', 'manner', '.', 'thanks', 'team', 'canva', 'for', 'such', 'a', 'great', 'app', '.']] \n",
      "\n",
      "Tokens2:  [['its', 'the', 'worst', 'app', 'ever', 'i', 'save', 'my', 'design', 'lts', 'not', 'save']] \n",
      "\n",
      "Tokens1 after removal of stopwords:  [['truly', 'amazing', 'app', ',', 'best', 'havw', 'content', \"n't\", 'know', 'express', 'good', 'shareable', 'manner', '.', 'thanks', 'team', 'canva', 'great', 'app', '.']] \n",
      "\n",
      "Tokens2 after removal of stopwords:  [['worst', 'app', 'ever', 'save', 'design', 'lts', 'save']] \n",
      "\n",
      "Tokens1 after removal of punctuations:  [['truly', 'amazing', 'app', 'best', 'havw', 'content', 'nt', 'know', 'express', 'good', 'shareable', 'manner', 'thanks', 'team', 'canva', 'great', 'app']] \n",
      "\n",
      "Tokens2 after removal of punctuations:  [['worst', 'app', 'ever', 'save', 'design', 'lts', 'save']] \n",
      "\n",
      "Tokens1 after stemming process:  [['truli', 'amaz', 'app', 'best', 'havw', 'content', 'nt', 'know', 'express', 'good', 'shareabl', 'manner', 'thank', 'team', 'canva', 'great', 'app']] \n",
      "\n",
      "Tokens2 after stemming process:  [['worst', 'app', 'ever', 'save', 'design', 'lt', 'save']] \n",
      "\n",
      "Tokens1 after sentencing process:  ['truli amaz app best havw content nt know express good shareabl manner thank team canva great app'] \n",
      "\n",
      "Tokens2 after sentencing process:  ['worst app ever save design lt save'] \n",
      "\n"
     ]
    }
   ],
   "source": [
    "#Tokenizing the text\n",
    "tokens1 = [word_tokenize(r) for r in test_review1]\n",
    "print('Tokens1: ', tokens1, \"\\n\")\n",
    "tokens2 = [word_tokenize(r) for r in test_review2]\n",
    "print('Tokens2: ', tokens2, \"\\n\")\n",
    "\n",
    "#Removing Stopwords\n",
    "tokens1 = [[word for word in t if word not in stopw] for t in tokens1]\n",
    "print('Tokens1 after removal of stopwords: ', tokens1, \"\\n\")\n",
    "tokens2 = [[word for word in t if word not in stopw] for t in tokens2]\n",
    "print('Tokens2 after removal of stopwords: ', tokens2, \"\\n\")\n",
    "\n",
    "#Removing Punctuations\n",
    "tokens1 = [[\"\".join(tokenizer.tokenize(word)) for word in t\n",
    "          if len(tokenizer.tokenize(word)) > 0] for t in tokens1]\n",
    "print('Tokens1 after removal of punctuations: ', tokens1, \"\\n\")\n",
    "\n",
    "tokens2 = [[\"\".join(tokenizer.tokenize(word)) for word in t\n",
    "          if len(tokenizer.tokenize(word)) > 0] for t in tokens2]\n",
    "print('Tokens2 after removal of punctuations: ', tokens2, \"\\n\")\n",
    "\n",
    "#Stemming reviews\n",
    "tokens1 = [[porter.stem(word) for word in t] for t in tokens1]\n",
    "print('Tokens1 after stemming process: ', tokens1, \"\\n\")\n",
    "\n",
    "tokens2 = [[porter.stem(word) for word in t] for t in tokens2]\n",
    "print('Tokens2 after stemming process: ', tokens2, \"\\n\")\n",
    "\n",
    "#Joining the tokens to form a sentence\n",
    "cleaned_reviews1 = [\" \".join(review) for review in tokens1]\n",
    "print('Tokens1 after sentencing process: ', cleaned_reviews1, \"\\n\")\n",
    "\n",
    "cleaned_reviews2 = [\" \".join(review) for review in tokens2]\n",
    "print('Tokens2 after sentencing process: ', cleaned_reviews2, \"\\n\")"
   ]
  },
  {
   "cell_type": "markdown",
   "id": "71f6d210",
   "metadata": {},
   "source": [
    "<b> Running the model on test reviews </b>"
   ]
  },
  {
   "cell_type": "code",
   "execution_count": 50,
   "id": "6e4736d2",
   "metadata": {},
   "outputs": [
    {
     "name": "stdout",
     "output_type": "stream",
     "text": [
      "Shape of X4_test:  (1, 666)\n",
      "Class probabilities of first review:  [[0.00441452 0.99558548]]\n",
      "Class of 1st Test Review:  [1] \n",
      "\n",
      "Shape of X5_test:  (1, 666)\n",
      "Class probabilities of second review:  [[0.87775701 0.12224299]]\n",
      "Class of 2nd Test Review:  [0]\n"
     ]
    }
   ],
   "source": [
    "X4_test = vect5.transform(cleaned_reviews1)\n",
    "print(\"Shape of X4_test: \", X4_test.shape)\n",
    "\n",
    "test1_proba = model5.predict_proba(X4_test)\n",
    "print(\"Class probabilities of first review: \", test1_proba)\n",
    "\n",
    "test1 = model5.predict(X4_test)\n",
    "print(\"Class of 1st Test Review: \", test1, \"\\n\")\n",
    "\n",
    "X5_test = vect5.transform(cleaned_reviews2)\n",
    "print(\"Shape of X5_test: \", X5_test.shape)\n",
    "\n",
    "test2_proba = model5.predict_proba(X5_test)\n",
    "print(\"Class probabilities of second review: \", test2_proba)\n",
    "\n",
    "test2 = model5.predict(X5_test)\n",
    "print(\"Class of 2nd Test Review: \", test2)"
   ]
  },
  {
   "cell_type": "markdown",
   "id": "0be452e0",
   "metadata": {},
   "source": [
    "<b>Here, it is clearly proved that test_review1 belongs to postivie class, and test_review2 belongs to negative class.</b>"
   ]
  }
 ],
 "metadata": {
  "kernelspec": {
   "display_name": "Python 3",
   "language": "python",
   "name": "python3"
  },
  "language_info": {
   "codemirror_mode": {
    "name": "ipython",
    "version": 3
   },
   "file_extension": ".py",
   "mimetype": "text/x-python",
   "name": "python",
   "nbconvert_exporter": "python",
   "pygments_lexer": "ipython3",
   "version": "3.8.8"
  }
 },
 "nbformat": 4,
 "nbformat_minor": 5
}
